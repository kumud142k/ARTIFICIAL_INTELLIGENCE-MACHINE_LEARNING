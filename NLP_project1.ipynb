{
 "cells": [
  {
   "cell_type": "markdown",
   "metadata": {
    "id": "Z3xqzP-g6oc9"
   },
   "source": [
    "### **KUMUD KUMAR**"
   ]
  },
  {
   "cell_type": "markdown",
   "metadata": {},
   "source": [
    "### PGP-AIML OCT21A"
   ]
  },
  {
   "cell_type": "markdown",
   "metadata": {
    "id": "7vMU7_q36vuQ"
   },
   "source": [
    "**DOMAIN:** Digital content management"
   ]
  },
  {
   "cell_type": "markdown",
   "metadata": {
    "id": "MoxIUOoy6854"
   },
   "source": [
    "**CONTEXT:** Classification is probably the most popular task that you would deal with in real life. Text in the form of blogs, posts, articles, etc.\n",
    "are written every second. It is a challenge to predict the information about the writer without knowing about him/her. We are going to create a\n",
    "classifier that predicts multiple features of the author of a given text. We have designed it as a Multi label classification problem"
   ]
  },
  {
   "cell_type": "markdown",
   "metadata": {
    "id": "oSyVUpYt7Es0"
   },
   "source": [
    "**DATA DESCRIPTION:** Over 600,000 posts from more than 19 thousand bloggers The Blog Authorship Corpus consists of the collected posts of\n",
    "19,320 bloggers gathered from blogger.com in August 2004. The corpus incorporates a total of 681,288 posts and over 140 million words - or\n",
    "approximately 35 posts and 7250 words per person. Each blog is presented as a separate file, the name of which indicates a blogger id# and\n",
    "the blogger’s self-provided gender, age, industry, and astrological sign. (All are labelled for gender and age but for many, industry and/or sign is\n",
    "marked as unknown.) All bloggers included in the corpus fall into one of three age groups:\n",
    "• 8240 \"10s\" blogs (ages 13-17),\n",
    "• 8086 \"20s\" blogs(ages 23-27) and\n",
    "• 2994 \"30s\" blogs (ages 33-47)\n",
    "• For each age group, there is an equal number of male and female bloggers. Each blog in the corpus includes at least 200 occurrences of\n",
    "common English words. All formatting has been stripped with two exceptions. Individual posts within a single blogger are separated by the\n",
    "date of the following post and links within a post are denoted by the label url link."
   ]
  },
  {
   "cell_type": "markdown",
   "metadata": {
    "id": "tJ7caAJO78g5"
   },
   "source": [
    "**PROJECT OBJECTIVE:** To build a NLP classifier which can use input text parameters to determine the label/s of the blog. Specific to this case\n",
    "study, you can consider the text of the blog: ‘text’ feature as independent variable and ‘topic’ as dependent variable."
   ]
  },
  {
   "cell_type": "markdown",
   "metadata": {
    "id": "2XU5dxvM6tbj"
   },
   "source": [
    "**PART - A**"
   ]
  },
  {
   "cell_type": "code",
   "execution_count": 1,
   "metadata": {
    "executionInfo": {
     "elapsed": 435,
     "status": "ok",
     "timestamp": 1667115102739,
     "user": {
      "displayName": "Kumud kumar",
      "userId": "00464319505652587728"
     },
     "user_tz": -330
    },
    "id": "0ubQCAj46sto"
   },
   "outputs": [],
   "source": [
    "# importing various libraries\n",
    "import zipfile\n",
    "import os\n",
    "import pandas as pd\n",
    "import numpy as np\n",
    "import seaborn as sns\n",
    "import matplotlib.pyplot as plt\n",
    "import re\n",
    "import nltk\n",
    "from nltk.corpus import stopwords\n",
    "from string import punctuation\n",
    "from nltk import word_tokenize\n",
    "from keras.preprocessing.text import Tokenizer\n",
    "from sklearn.model_selection import train_test_split\n",
    "from sklearn.feature_extraction.text import TfidfVectorizer\n",
    "from nltk.stem.wordnet import WordNetLemmatizer\n",
    "\n",
    "#! pip install gensim\n",
    "from gensim.models import Word2Vec\n",
    "\n",
    "from sklearn.feature_extraction.text import CountVectorizer\n",
    "from sklearn.preprocessing import MultiLabelBinarizer\n",
    "from sklearn.multiclass import OneVsRestClassifier\n",
    "from sklearn.linear_model import LogisticRegression\n",
    "from sklearn.naive_bayes import MultinomialNB\n",
    "import sklearn.metrics as metrics\n",
    "from sklearn.metrics import confusion_matrix, classification_report,f1_score, accuracy_score, recall_score, precision_score\n",
    "from sklearn.metrics import roc_curve, auc, roc_auc_score\n",
    "from sklearn.preprocessing import LabelEncoder\n",
    "from scipy import spatial\n",
    "import keras\n",
    "from keras_preprocessing.sequence import pad_sequences\n",
    "#!pip install pad_sequences\n",
    "from keras.models import Sequential\n",
    "from keras.layers import Dense, Flatten, LSTM, Bidirectional,Conv1D, MaxPooling1D, Dropout, Activation\n",
    "from tensorflow.keras.layers import Embedding\n",
    "import string\n",
    "import json\n",
    "import random\n",
    "import tensorflow as tf"
   ]
  },
  {
   "cell_type": "markdown",
   "metadata": {
    "id": "LGD7uZ91A8Tg"
   },
   "source": [
    "1. "
   ]
  },
  {
   "cell_type": "code",
   "execution_count": 2,
   "metadata": {
    "id": "xE2CoBpFA-KZ"
   },
   "outputs": [],
   "source": [
    "# loading the dataset\n",
    "\n",
    "from zipfile import ZipFile\n",
    "\n",
    "with ZipFile('C:/Users/KUMUD .LAPTOP-S0T3F3O8/Desktop/NLP/blogs.zip', 'r') as zipdata:\n",
    "    zipdata.extractall(\"C:/Users/KUMUD .LAPTOP-S0T3F3O8/Desktop/NLP/unzipped\") "
   ]
  },
  {
   "cell_type": "code",
   "execution_count": 3,
   "metadata": {
    "id": "aZtbIPdyDSfe"
   },
   "outputs": [],
   "source": [
    "df= pd.read_csv(\"C:/Users/KUMUD .LAPTOP-S0T3F3O8/Desktop/NLP/unzipped/blogtext.csv\")"
   ]
  },
  {
   "cell_type": "code",
   "execution_count": 4,
   "metadata": {
    "colab": {
     "base_uri": "https://localhost:8080/",
     "height": 112
    },
    "executionInfo": {
     "elapsed": 17,
     "status": "ok",
     "timestamp": 1667113689816,
     "user": {
      "displayName": "Kumud kumar",
      "userId": "00464319505652587728"
     },
     "user_tz": -330
    },
    "id": "n6pOR_VQLohm",
    "outputId": "df479e5e-8596-4859-a6cc-ba65d30c60e8"
   },
   "outputs": [
    {
     "data": {
      "text/html": [
       "<div>\n",
       "<style scoped>\n",
       "    .dataframe tbody tr th:only-of-type {\n",
       "        vertical-align: middle;\n",
       "    }\n",
       "\n",
       "    .dataframe tbody tr th {\n",
       "        vertical-align: top;\n",
       "    }\n",
       "\n",
       "    .dataframe thead th {\n",
       "        text-align: right;\n",
       "    }\n",
       "</style>\n",
       "<table border=\"1\" class=\"dataframe\">\n",
       "  <thead>\n",
       "    <tr style=\"text-align: right;\">\n",
       "      <th></th>\n",
       "      <th>id</th>\n",
       "      <th>gender</th>\n",
       "      <th>age</th>\n",
       "      <th>topic</th>\n",
       "      <th>sign</th>\n",
       "      <th>date</th>\n",
       "      <th>text</th>\n",
       "    </tr>\n",
       "  </thead>\n",
       "  <tbody>\n",
       "    <tr>\n",
       "      <th>0</th>\n",
       "      <td>2059027</td>\n",
       "      <td>male</td>\n",
       "      <td>15</td>\n",
       "      <td>Student</td>\n",
       "      <td>Leo</td>\n",
       "      <td>14,May,2004</td>\n",
       "      <td>Info has been found (+/- 100 pages,...</td>\n",
       "    </tr>\n",
       "    <tr>\n",
       "      <th>1</th>\n",
       "      <td>2059027</td>\n",
       "      <td>male</td>\n",
       "      <td>15</td>\n",
       "      <td>Student</td>\n",
       "      <td>Leo</td>\n",
       "      <td>13,May,2004</td>\n",
       "      <td>These are the team members:   Drewe...</td>\n",
       "    </tr>\n",
       "  </tbody>\n",
       "</table>\n",
       "</div>"
      ],
      "text/plain": [
       "        id gender  age    topic sign         date  \\\n",
       "0  2059027   male   15  Student  Leo  14,May,2004   \n",
       "1  2059027   male   15  Student  Leo  13,May,2004   \n",
       "\n",
       "                                                text  \n",
       "0             Info has been found (+/- 100 pages,...  \n",
       "1             These are the team members:   Drewe...  "
      ]
     },
     "execution_count": 4,
     "metadata": {},
     "output_type": "execute_result"
    }
   ],
   "source": [
    "df.head(2)"
   ]
  },
  {
   "cell_type": "code",
   "execution_count": 5,
   "metadata": {
    "colab": {
     "base_uri": "https://localhost:8080/"
    },
    "executionInfo": {
     "elapsed": 15,
     "status": "ok",
     "timestamp": 1667113689817,
     "user": {
      "displayName": "Kumud kumar",
      "userId": "00464319505652587728"
     },
     "user_tz": -330
    },
    "id": "UANF7TzaMI7Y",
    "outputId": "7675f632-5d76-4565-bc07-dfcb99a79b26"
   },
   "outputs": [
    {
     "data": {
      "text/plain": [
       "(681284, 7)"
      ]
     },
     "execution_count": 5,
     "metadata": {},
     "output_type": "execute_result"
    }
   ],
   "source": [
    "# shape of dataframe \n",
    "df.shape"
   ]
  },
  {
   "cell_type": "code",
   "execution_count": 6,
   "metadata": {
    "colab": {
     "base_uri": "https://localhost:8080/"
    },
    "executionInfo": {
     "elapsed": 858,
     "status": "ok",
     "timestamp": 1667113690666,
     "user": {
      "displayName": "Kumud kumar",
      "userId": "00464319505652587728"
     },
     "user_tz": -330
    },
    "id": "yXVlZyHnwxAJ",
    "outputId": "eca4bf54-d249-4a5a-da70-adb0cc3ab3ff"
   },
   "outputs": [
    {
     "name": "stdout",
     "output_type": "stream",
     "text": [
      "Unique values in the column gender are 2 \n",
      "\n",
      "Unique values in the column age are 26 \n",
      "\n",
      "Unique values in the column topic are 40 \n",
      "\n",
      "Unique values in the column sign are 12\n"
     ]
    }
   ],
   "source": [
    "print('Unique values in the column gender are',df['gender'].nunique(),'\\n')\n",
    "print('Unique values in the column age are',df['age'].nunique(),'\\n')\n",
    "print('Unique values in the column topic are',df['topic'].nunique(),'\\n')\n",
    "print('Unique values in the column sign are',df['sign'].nunique())"
   ]
  },
  {
   "cell_type": "code",
   "execution_count": 7,
   "metadata": {
    "colab": {
     "base_uri": "https://localhost:8080/"
    },
    "executionInfo": {
     "elapsed": 26,
     "status": "ok",
     "timestamp": 1667113690668,
     "user": {
      "displayName": "Kumud kumar",
      "userId": "00464319505652587728"
     },
     "user_tz": -330
    },
    "id": "E-IiCY8zOAVj",
    "outputId": "e778c020-bdec-4111-b985-7006d87ee951"
   },
   "outputs": [
    {
     "name": "stdout",
     "output_type": "stream",
     "text": [
      "['Student' 'InvestmentBanking' 'indUnk' 'Non-Profit' 'Banking' 'Education'\n",
      " 'Engineering' 'Science' 'Communications-Media' 'BusinessServices'\n",
      " 'Sports-Recreation' 'Arts' 'Internet' 'Museums-Libraries' 'Accounting'\n",
      " 'Technology' 'Law' 'Consulting' 'Automotive' 'Religion' 'Fashion'\n",
      " 'Publishing' 'Marketing' 'LawEnforcement-Security' 'HumanResources'\n",
      " 'Telecommunications' 'Military' 'Government' 'Transportation'\n",
      " 'Architecture' 'Advertising' 'Agriculture' 'Biotech' 'RealEstate'\n",
      " 'Manufacturing' 'Construction' 'Chemicals' 'Maritime' 'Tourism'\n",
      " 'Environment']\n"
     ]
    }
   ],
   "source": [
    "print(df.topic.unique())"
   ]
  },
  {
   "cell_type": "code",
   "execution_count": 8,
   "metadata": {
    "colab": {
     "base_uri": "https://localhost:8080/"
    },
    "executionInfo": {
     "elapsed": 21,
     "status": "ok",
     "timestamp": 1667113690669,
     "user": {
      "displayName": "Kumud kumar",
      "userId": "00464319505652587728"
     },
     "user_tz": -330
    },
    "id": "bu6XrZErLqaf",
    "outputId": "c4add349-0e0f-4b49-94fa-4c389a66b6cf"
   },
   "outputs": [
    {
     "data": {
      "text/plain": [
       "id        0\n",
       "gender    0\n",
       "age       0\n",
       "topic     0\n",
       "sign      0\n",
       "date      0\n",
       "text      0\n",
       "dtype: int64"
      ]
     },
     "execution_count": 8,
     "metadata": {},
     "output_type": "execute_result"
    }
   ],
   "source": [
    "# checking for null values\n",
    "\n",
    "df.isnull().sum()"
   ]
  },
  {
   "cell_type": "code",
   "execution_count": 9,
   "metadata": {
    "id": "lvJOTLs0LzeP"
   },
   "outputs": [],
   "source": [
    "# droping duplicates and resetting index\n",
    "\n",
    "df.drop_duplicates(subset=\"text\",inplace=True)\n",
    "\n",
    "df.reset_index(inplace = True,drop=True)"
   ]
  },
  {
   "cell_type": "markdown",
   "metadata": {
    "id": "tG06am0IMFTK"
   },
   "source": [
    "There are 4686 duplicates in the dataset, we drop these duplicates from the dataset"
   ]
  },
  {
   "cell_type": "code",
   "execution_count": null,
   "metadata": {
    "id": "6IQuTzTPN_Xo"
   },
   "outputs": [],
   "source": []
  },
  {
   "cell_type": "code",
   "execution_count": 10,
   "metadata": {
    "colab": {
     "base_uri": "https://localhost:8080/"
    },
    "executionInfo": {
     "elapsed": 33,
     "status": "ok",
     "timestamp": 1667113693980,
     "user": {
      "displayName": "Kumud kumar",
      "userId": "00464319505652587728"
     },
     "user_tz": -330
    },
    "id": "vYu3ol2NN9si",
    "outputId": "734775d0-e31f-4990-ff8f-9c7acb5da6b9"
   },
   "outputs": [
    {
     "data": {
      "text/plain": [
       "(611652, 7)"
      ]
     },
     "execution_count": 10,
     "metadata": {},
     "output_type": "execute_result"
    }
   ],
   "source": [
    "# new shape of dataframe\n",
    "\n",
    "df.shape"
   ]
  },
  {
   "cell_type": "code",
   "execution_count": 11,
   "metadata": {
    "colab": {
     "base_uri": "https://localhost:8080/"
    },
    "executionInfo": {
     "elapsed": 29,
     "status": "ok",
     "timestamp": 1667113693981,
     "user": {
      "displayName": "Kumud kumar",
      "userId": "00464319505652587728"
     },
     "user_tz": -330
    },
    "id": "w9coRxAWOOXE",
    "outputId": "f87212b7-56b5-4d47-a487-6e1695f147b5"
   },
   "outputs": [
    {
     "data": {
      "text/plain": [
       "indUnk                     230835\n",
       "Student                    136051\n",
       "Technology                  34430\n",
       "Education                   28477\n",
       "Arts                        26387\n",
       "Communications-Media        19037\n",
       "Internet                    15545\n",
       "Non-Profit                  13029\n",
       "Engineering                 10573\n",
       "Law                          8701\n",
       "Publishing                   7248\n",
       "Science                      6500\n",
       "Government                   6139\n",
       "Consulting                   5339\n",
       "Fashion                      4545\n",
       "Marketing                    4508\n",
       "Religion                     4503\n",
       "Advertising                  4446\n",
       "BusinessServices             4251\n",
       "Accounting                   3672\n",
       "Telecommunications           3670\n",
       "Military                     2995\n",
       "Banking                      2893\n",
       "Sports-Recreation            2747\n",
       "Chemicals                    2455\n",
       "HumanResources               2354\n",
       "RealEstate                   2327\n",
       "Transportation               2143\n",
       "Manufacturing                2008\n",
       "Museums-Libraries            1899\n",
       "Biotech                      1850\n",
       "LawEnforcement-Security      1805\n",
       "Tourism                      1734\n",
       "Architecture                 1288\n",
       "InvestmentBanking            1268\n",
       "Agriculture                  1226\n",
       "Automotive                   1218\n",
       "Construction                  976\n",
       "Environment                   345\n",
       "Maritime                      235\n",
       "Name: topic, dtype: int64"
      ]
     },
     "execution_count": 11,
     "metadata": {},
     "output_type": "execute_result"
    }
   ],
   "source": [
    "df['topic'].value_counts()"
   ]
  },
  {
   "cell_type": "code",
   "execution_count": 12,
   "metadata": {
    "id": "zXBhC583O0oF"
   },
   "outputs": [],
   "source": [
    "# dropping unneccessary columns\n",
    "\n",
    "df.drop(['id','date'], axis=1, inplace=True)\n"
   ]
  },
  {
   "cell_type": "markdown",
   "metadata": {
    "id": "H1I71HU8OQar"
   },
   "source": [
    "**EDA**"
   ]
  },
  {
   "cell_type": "code",
   "execution_count": 13,
   "metadata": {
    "colab": {
     "base_uri": "https://localhost:8080/",
     "height": 296
    },
    "executionInfo": {
     "elapsed": 1105,
     "status": "ok",
     "timestamp": 1667113695067,
     "user": {
      "displayName": "Kumud kumar",
      "userId": "00464319505652587728"
     },
     "user_tz": -330
    },
    "id": "cCQIdlNOOVyL",
    "outputId": "42f6540b-f290-4183-b2ca-45224323d64d"
   },
   "outputs": [
    {
     "data": {
      "text/plain": [
       "<AxesSubplot:xlabel='gender', ylabel='count'>"
      ]
     },
     "execution_count": 13,
     "metadata": {},
     "output_type": "execute_result"
    },
    {
     "data": {
      "image/png": "[encoded data removed]",
      "text/plain": [
       "<Figure size 432x288 with 1 Axes>"
      ]
     },
     "metadata": {
      "needs_background": "light"
     },
     "output_type": "display_data"
    }
   ],
   "source": [
    "sns.countplot(x='gender',data=df)"
   ]
  },
  {
   "cell_type": "code",
   "execution_count": 14,
   "metadata": {
    "colab": {
     "base_uri": "https://localhost:8080/",
     "height": 514
    },
    "executionInfo": {
     "elapsed": 43,
     "status": "ok",
     "timestamp": 1667113695073,
     "user": {
      "displayName": "Kumud kumar",
      "userId": "00464319505652587728"
     },
     "user_tz": -330
    },
    "id": "oIm5JMcwOV79",
    "outputId": "a112884f-724c-4dc7-e3b1-cbd83b0c0b7d"
   },
   "outputs": [
    {
     "data": {
      "text/plain": [
       "<AxesSubplot:xlabel='age', ylabel='count'>"
      ]
     },
     "execution_count": 14,
     "metadata": {},
     "output_type": "execute_result"
    },
    {
     "data": {
      "image/png": "[encoded data removed]",
      "text/plain": [
       "<Figure size 720x576 with 1 Axes>"
      ]
     },
     "metadata": {
      "needs_background": "light"
     },
     "output_type": "display_data"
    }
   ],
   "source": [
    "fig, ax = plt.subplots(figsize=(10, 8))\n",
    "sns.countplot(x='age',data=df)"
   ]
  },
  {
   "cell_type": "code",
   "execution_count": 15,
   "metadata": {
    "colab": {
     "base_uri": "https://localhost:8080/",
     "height": 667
    },
    "executionInfo": {
     "elapsed": 1196,
     "status": "ok",
     "timestamp": 1667113696240,
     "user": {
      "displayName": "Kumud kumar",
      "userId": "00464319505652587728"
     },
     "user_tz": -330
    },
    "id": "adX3jI4kOV-p",
    "outputId": "66ec2c63-4122-459b-8888-1d3631f4ec51"
   },
   "outputs": [
    {
     "data": {
      "text/plain": [
       "(array([ 0,  1,  2,  3,  4,  5,  6,  7,  8,  9, 10, 11, 12, 13, 14, 15, 16,\n",
       "        17, 18, 19, 20, 21, 22, 23, 24, 25, 26, 27, 28, 29, 30, 31, 32, 33,\n",
       "        34, 35, 36, 37, 38, 39]),\n",
       " [Text(0, 0, 'Student'),\n",
       "  Text(1, 0, 'InvestmentBanking'),\n",
       "  Text(2, 0, 'indUnk'),\n",
       "  Text(3, 0, 'Non-Profit'),\n",
       "  Text(4, 0, 'Banking'),\n",
       "  Text(5, 0, 'Education'),\n",
       "  Text(6, 0, 'Engineering'),\n",
       "  Text(7, 0, 'Science'),\n",
       "  Text(8, 0, 'Communications-Media'),\n",
       "  Text(9, 0, 'BusinessServices'),\n",
       "  Text(10, 0, 'Sports-Recreation'),\n",
       "  Text(11, 0, 'Arts'),\n",
       "  Text(12, 0, 'Internet'),\n",
       "  Text(13, 0, 'Museums-Libraries'),\n",
       "  Text(14, 0, 'Accounting'),\n",
       "  Text(15, 0, 'Technology'),\n",
       "  Text(16, 0, 'Law'),\n",
       "  Text(17, 0, 'Consulting'),\n",
       "  Text(18, 0, 'Automotive'),\n",
       "  Text(19, 0, 'Religion'),\n",
       "  Text(20, 0, 'Fashion'),\n",
       "  Text(21, 0, 'Publishing'),\n",
       "  Text(22, 0, 'Marketing'),\n",
       "  Text(23, 0, 'LawEnforcement-Security'),\n",
       "  Text(24, 0, 'HumanResources'),\n",
       "  Text(25, 0, 'Telecommunications'),\n",
       "  Text(26, 0, 'Military'),\n",
       "  Text(27, 0, 'Government'),\n",
       "  Text(28, 0, 'Transportation'),\n",
       "  Text(29, 0, 'Architecture'),\n",
       "  Text(30, 0, 'Advertising'),\n",
       "  Text(31, 0, 'Agriculture'),\n",
       "  Text(32, 0, 'Biotech'),\n",
       "  Text(33, 0, 'RealEstate'),\n",
       "  Text(34, 0, 'Manufacturing'),\n",
       "  Text(35, 0, 'Construction'),\n",
       "  Text(36, 0, 'Chemicals'),\n",
       "  Text(37, 0, 'Maritime'),\n",
       "  Text(38, 0, 'Tourism'),\n",
       "  Text(39, 0, 'Environment')])"
      ]
     },
     "execution_count": 15,
     "metadata": {},
     "output_type": "execute_result"
    },
    {
     "data": {
      "image/png": "[encoded data removed]",
      "text/plain": [
       "<Figure size 1440x576 with 1 Axes>"
      ]
     },
     "metadata": {
      "needs_background": "light"
     },
     "output_type": "display_data"
    }
   ],
   "source": [
    "fig, ax = plt.subplots(figsize=(20, 8))\n",
    "sns.countplot(x='topic',data=df)\n",
    "plt.xticks(rotation=90)"
   ]
  },
  {
   "cell_type": "code",
   "execution_count": 16,
   "metadata": {
    "colab": {
     "base_uri": "https://localhost:8080/",
     "height": 350
    },
    "executionInfo": {
     "elapsed": 868,
     "status": "ok",
     "timestamp": 1667113697082,
     "user": {
      "displayName": "Kumud kumar",
      "userId": "00464319505652587728"
     },
     "user_tz": -330
    },
    "id": "HrjrMf_sPsa9",
    "outputId": "3f73121e-2e83-4848-bf39-4b1fa5f0c9e5"
   },
   "outputs": [
    {
     "data": {
      "text/plain": [
       "(array([ 0,  1,  2,  3,  4,  5,  6,  7,  8,  9, 10, 11]),\n",
       " [Text(0, 0, 'Leo'),\n",
       "  Text(1, 0, 'Aquarius'),\n",
       "  Text(2, 0, 'Aries'),\n",
       "  Text(3, 0, 'Capricorn'),\n",
       "  Text(4, 0, 'Gemini'),\n",
       "  Text(5, 0, 'Cancer'),\n",
       "  Text(6, 0, 'Sagittarius'),\n",
       "  Text(7, 0, 'Scorpio'),\n",
       "  Text(8, 0, 'Libra'),\n",
       "  Text(9, 0, 'Virgo'),\n",
       "  Text(10, 0, 'Taurus'),\n",
       "  Text(11, 0, 'Pisces')])"
      ]
     },
     "execution_count": 16,
     "metadata": {},
     "output_type": "execute_result"
    },
    {
     "data": {
      "image/png": "[encoded data removed]",
      "text/plain": [
       "<Figure size 432x288 with 1 Axes>"
      ]
     },
     "metadata": {
      "needs_background": "light"
     },
     "output_type": "display_data"
    }
   ],
   "source": [
    "sns.countplot(x='sign',data=df)\n",
    "plt.xticks(rotation=45)"
   ]
  },
  {
   "cell_type": "code",
   "execution_count": null,
   "metadata": {
    "id": "sd2waJMvPsdz"
   },
   "outputs": [],
   "source": []
  },
  {
   "cell_type": "code",
   "execution_count": null,
   "metadata": {
    "id": "DcLLqZUyPsg4"
   },
   "outputs": [],
   "source": []
  },
  {
   "cell_type": "code",
   "execution_count": 17,
   "metadata": {
    "id": "pa0ZNnpVPsj7"
   },
   "outputs": [],
   "source": [
    "# replacing indUnk with Unknown_industry in the topic column\n",
    "\n",
    "df['topic'].replace('indUnk','Unknown_industry', inplace= True)"
   ]
  },
  {
   "cell_type": "code",
   "execution_count": 18,
   "metadata": {
    "id": "FDxEnSipPsnS"
   },
   "outputs": [],
   "source": [
    "#Stratified sampling functions\n",
    "def stratified_sample(df, strata, size=None, seed=None, keep_index= True):\n",
    "    population = len(df)\n",
    "    size = __smpl_size(population, size)\n",
    "    tmp = df[strata]\n",
    "    tmp['size'] = 1\n",
    "    tmp_grpd = tmp.groupby(strata).count().reset_index()\n",
    "    tmp_grpd['samp_size'] = round(size/population * tmp_grpd['size']).astype(int)\n",
    "    \n",
    "    # controlling variable to create the dataframe or append to it\n",
    "    first = True \n",
    "    for i in range(len(tmp_grpd)):\n",
    "        # query generator for each iteration\n",
    "        qry=''\n",
    "        for s in range(len(strata)):\n",
    "            stratum = strata[s]\n",
    "            value = tmp_grpd.iloc[i][stratum]\n",
    "            n = tmp_grpd.iloc[i]['samp_size']\n",
    "\n",
    "            if type(value) == str:\n",
    "                value = \"'\" + str(value) + \"'\"\n",
    "            \n",
    "            if s != len(strata)-1:\n",
    "                qry = qry + stratum + ' == ' + str(value) +' & '\n",
    "            else:\n",
    "                qry = qry + stratum + ' == ' + str(value)\n",
    "                \n",
    "            # final dataframe\n",
    "        if first:\n",
    "            stratified_df = df.query(qry).sample(n=n, random_state=seed).reset_index(drop=(not keep_index))\n",
    "            first = False\n",
    "        else:\n",
    "            tmp_df = df.query(qry).sample(n=n, random_state=seed).reset_index(drop=(not keep_index))\n",
    "            stratified_df = pd.concat([stratified_df,tmp_df], ignore_index=True)\n",
    "    \n",
    "    return stratified_df\n",
    "\n",
    "def stratified_sample_report(df, strata, size=None):\n",
    "    population = len(df)\n",
    "    size = __smpl_size(population, size)\n",
    "    tmp = df[strata]\n",
    "    tmp['size'] = 1\n",
    "    tmp_grpd = tmp.groupby(strata).count().reset_index()\n",
    "    tmp_grpd['samp_size'] = round(size/population * tmp_grpd['size']).astype(int)\n",
    "    return tmp_grpd\n",
    "\n",
    "\n",
    "def __smpl_size(population, size):\n",
    "    if size is None:\n",
    "        cochran_n = round(((1.96)**2 * 0.5 * 0.5)/ 0.02**2)\n",
    "        n = round(cochran_n/(1+((cochran_n -1) /population)))\n",
    "    elif size >= 0 and size < 1:\n",
    "        n = round(population * size)\n",
    "    elif size < 0:\n",
    "        raise ValueError('Parameter \"size\" must be an integer or a proportion between 0 and 0.99.')\n",
    "    elif size >= 1:\n",
    "        n = size\n",
    "    return n"
   ]
  },
  {
   "cell_type": "code",
   "execution_count": 19,
   "metadata": {
    "colab": {
     "base_uri": "https://localhost:8080/",
     "height": 424
    },
    "executionInfo": {
     "elapsed": 37,
     "status": "ok",
     "timestamp": 1667113697099,
     "user": {
      "displayName": "Kumud kumar",
      "userId": "00464319505652587728"
     },
     "user_tz": -330
    },
    "id": "uhk00lILPssw",
    "outputId": "419dab45-fc48-4f6b-d99c-af26756d1e5e"
   },
   "outputs": [
    {
     "data": {
      "text/html": [
       "<div>\n",
       "<style scoped>\n",
       "    .dataframe tbody tr th:only-of-type {\n",
       "        vertical-align: middle;\n",
       "    }\n",
       "\n",
       "    .dataframe tbody tr th {\n",
       "        vertical-align: top;\n",
       "    }\n",
       "\n",
       "    .dataframe thead th {\n",
       "        text-align: right;\n",
       "    }\n",
       "</style>\n",
       "<table border=\"1\" class=\"dataframe\">\n",
       "  <thead>\n",
       "    <tr style=\"text-align: right;\">\n",
       "      <th></th>\n",
       "      <th>sign</th>\n",
       "      <th>gender</th>\n",
       "      <th>topic</th>\n",
       "      <th>age</th>\n",
       "      <th>size</th>\n",
       "      <th>samp_size</th>\n",
       "    </tr>\n",
       "  </thead>\n",
       "  <tbody>\n",
       "    <tr>\n",
       "      <th>0</th>\n",
       "      <td>Aquarius</td>\n",
       "      <td>female</td>\n",
       "      <td>Accounting</td>\n",
       "      <td>16</td>\n",
       "      <td>23</td>\n",
       "      <td>0</td>\n",
       "    </tr>\n",
       "    <tr>\n",
       "      <th>1</th>\n",
       "      <td>Aquarius</td>\n",
       "      <td>female</td>\n",
       "      <td>Accounting</td>\n",
       "      <td>23</td>\n",
       "      <td>8</td>\n",
       "      <td>0</td>\n",
       "    </tr>\n",
       "    <tr>\n",
       "      <th>2</th>\n",
       "      <td>Aquarius</td>\n",
       "      <td>female</td>\n",
       "      <td>Accounting</td>\n",
       "      <td>24</td>\n",
       "      <td>299</td>\n",
       "      <td>5</td>\n",
       "    </tr>\n",
       "    <tr>\n",
       "      <th>3</th>\n",
       "      <td>Aquarius</td>\n",
       "      <td>female</td>\n",
       "      <td>Accounting</td>\n",
       "      <td>25</td>\n",
       "      <td>3</td>\n",
       "      <td>0</td>\n",
       "    </tr>\n",
       "    <tr>\n",
       "      <th>4</th>\n",
       "      <td>Aquarius</td>\n",
       "      <td>female</td>\n",
       "      <td>Accounting</td>\n",
       "      <td>26</td>\n",
       "      <td>20</td>\n",
       "      <td>0</td>\n",
       "    </tr>\n",
       "    <tr>\n",
       "      <th>...</th>\n",
       "      <td>...</td>\n",
       "      <td>...</td>\n",
       "      <td>...</td>\n",
       "      <td>...</td>\n",
       "      <td>...</td>\n",
       "      <td>...</td>\n",
       "    </tr>\n",
       "    <tr>\n",
       "      <th>5161</th>\n",
       "      <td>Virgo</td>\n",
       "      <td>male</td>\n",
       "      <td>Unknown_industry</td>\n",
       "      <td>42</td>\n",
       "      <td>45</td>\n",
       "      <td>1</td>\n",
       "    </tr>\n",
       "    <tr>\n",
       "      <th>5162</th>\n",
       "      <td>Virgo</td>\n",
       "      <td>male</td>\n",
       "      <td>Unknown_industry</td>\n",
       "      <td>43</td>\n",
       "      <td>25</td>\n",
       "      <td>0</td>\n",
       "    </tr>\n",
       "    <tr>\n",
       "      <th>5163</th>\n",
       "      <td>Virgo</td>\n",
       "      <td>male</td>\n",
       "      <td>Unknown_industry</td>\n",
       "      <td>44</td>\n",
       "      <td>6</td>\n",
       "      <td>0</td>\n",
       "    </tr>\n",
       "    <tr>\n",
       "      <th>5164</th>\n",
       "      <td>Virgo</td>\n",
       "      <td>male</td>\n",
       "      <td>Unknown_industry</td>\n",
       "      <td>46</td>\n",
       "      <td>49</td>\n",
       "      <td>1</td>\n",
       "    </tr>\n",
       "    <tr>\n",
       "      <th>5165</th>\n",
       "      <td>Virgo</td>\n",
       "      <td>male</td>\n",
       "      <td>Unknown_industry</td>\n",
       "      <td>48</td>\n",
       "      <td>3</td>\n",
       "      <td>0</td>\n",
       "    </tr>\n",
       "  </tbody>\n",
       "</table>\n",
       "<p>5166 rows × 6 columns</p>\n",
       "</div>"
      ],
      "text/plain": [
       "          sign  gender             topic  age  size  samp_size\n",
       "0     Aquarius  female        Accounting   16    23          0\n",
       "1     Aquarius  female        Accounting   23     8          0\n",
       "2     Aquarius  female        Accounting   24   299          5\n",
       "3     Aquarius  female        Accounting   25     3          0\n",
       "4     Aquarius  female        Accounting   26    20          0\n",
       "...        ...     ...               ...  ...   ...        ...\n",
       "5161     Virgo    male  Unknown_industry   42    45          1\n",
       "5162     Virgo    male  Unknown_industry   43    25          0\n",
       "5163     Virgo    male  Unknown_industry   44     6          0\n",
       "5164     Virgo    male  Unknown_industry   46    49          1\n",
       "5165     Virgo    male  Unknown_industry   48     3          0\n",
       "\n",
       "[5166 rows x 6 columns]"
      ]
     },
     "execution_count": 19,
     "metadata": {},
     "output_type": "execute_result"
    }
   ],
   "source": [
    "stratified_sample_report(df, ['sign', 'gender','topic', 'age'], 10000)"
   ]
  },
  {
   "cell_type": "code",
   "execution_count": 20,
   "metadata": {
    "id": "aYA0CfrOULWM"
   },
   "outputs": [],
   "source": [
    "# As sample data is very huge , we are using a subset of the dataset. \n",
    "# Stratification is used to maintain the distribution of the dataset."
   ]
  },
  {
   "cell_type": "code",
   "execution_count": 21,
   "metadata": {
    "id": "iYMU3CEmULY6"
   },
   "outputs": [],
   "source": [
    "corpus_df = stratified_sample(df, ['sign', 'gender', 'topic', 'age'], size=10000, seed=121, keep_index= True)"
   ]
  },
  {
   "cell_type": "code",
   "execution_count": 22,
   "metadata": {
    "colab": {
     "base_uri": "https://localhost:8080/",
     "height": 206
    },
    "executionInfo": {
     "elapsed": 38,
     "status": "ok",
     "timestamp": 1667113994396,
     "user": {
      "displayName": "Kumud kumar",
      "userId": "00464319505652587728"
     },
     "user_tz": -330
    },
    "id": "C7SEeVe_ULbe",
    "outputId": "7f5aa0e2-d93d-4312-cfed-d0111d5fe341"
   },
   "outputs": [
    {
     "data": {
      "text/html": [
       "<div>\n",
       "<style scoped>\n",
       "    .dataframe tbody tr th:only-of-type {\n",
       "        vertical-align: middle;\n",
       "    }\n",
       "\n",
       "    .dataframe tbody tr th {\n",
       "        vertical-align: top;\n",
       "    }\n",
       "\n",
       "    .dataframe thead th {\n",
       "        text-align: right;\n",
       "    }\n",
       "</style>\n",
       "<table border=\"1\" class=\"dataframe\">\n",
       "  <thead>\n",
       "    <tr style=\"text-align: right;\">\n",
       "      <th></th>\n",
       "      <th>index</th>\n",
       "      <th>gender</th>\n",
       "      <th>age</th>\n",
       "      <th>topic</th>\n",
       "      <th>sign</th>\n",
       "      <th>text</th>\n",
       "    </tr>\n",
       "  </thead>\n",
       "  <tbody>\n",
       "    <tr>\n",
       "      <th>0</th>\n",
       "      <td>553210</td>\n",
       "      <td>female</td>\n",
       "      <td>24</td>\n",
       "      <td>Accounting</td>\n",
       "      <td>Aquarius</td>\n",
       "      <td>ok, Thomas i also did one.....Here you ...</td>\n",
       "    </tr>\n",
       "    <tr>\n",
       "      <th>1</th>\n",
       "      <td>553285</td>\n",
       "      <td>female</td>\n",
       "      <td>24</td>\n",
       "      <td>Accounting</td>\n",
       "      <td>Aquarius</td>\n",
       "      <td>urlLink    Outside my house~wonderful&amp;...</td>\n",
       "    </tr>\n",
       "    <tr>\n",
       "      <th>2</th>\n",
       "      <td>553105</td>\n",
       "      <td>female</td>\n",
       "      <td>24</td>\n",
       "      <td>Accounting</td>\n",
       "      <td>Aquarius</td>\n",
       "      <td>Here i am posting again, for some reaso...</td>\n",
       "    </tr>\n",
       "    <tr>\n",
       "      <th>3</th>\n",
       "      <td>553278</td>\n",
       "      <td>female</td>\n",
       "      <td>24</td>\n",
       "      <td>Accounting</td>\n",
       "      <td>Aquarius</td>\n",
       "      <td>Another i hate my second job and all th...</td>\n",
       "    </tr>\n",
       "    <tr>\n",
       "      <th>4</th>\n",
       "      <td>553116</td>\n",
       "      <td>female</td>\n",
       "      <td>24</td>\n",
       "      <td>Accounting</td>\n",
       "      <td>Aquarius</td>\n",
       "      <td>urlLink Brainbench - The Measure of Ac...</td>\n",
       "    </tr>\n",
       "  </tbody>\n",
       "</table>\n",
       "</div>"
      ],
      "text/plain": [
       "    index  gender  age       topic      sign  \\\n",
       "0  553210  female   24  Accounting  Aquarius   \n",
       "1  553285  female   24  Accounting  Aquarius   \n",
       "2  553105  female   24  Accounting  Aquarius   \n",
       "3  553278  female   24  Accounting  Aquarius   \n",
       "4  553116  female   24  Accounting  Aquarius   \n",
       "\n",
       "                                                text  \n",
       "0         ok, Thomas i also did one.....Here you ...  \n",
       "1          urlLink    Outside my house~wonderful&...  \n",
       "2         Here i am posting again, for some reaso...  \n",
       "3         Another i hate my second job and all th...  \n",
       "4          urlLink Brainbench - The Measure of Ac...  "
      ]
     },
     "execution_count": 22,
     "metadata": {},
     "output_type": "execute_result"
    }
   ],
   "source": [
    "# Head of new dataset\n",
    "\n",
    "corpus_df.head()\n"
   ]
  },
  {
   "cell_type": "code",
   "execution_count": 23,
   "metadata": {
    "colab": {
     "base_uri": "https://localhost:8080/",
     "height": 206
    },
    "executionInfo": {
     "elapsed": 36,
     "status": "ok",
     "timestamp": 1667113994399,
     "user": {
      "displayName": "Kumud kumar",
      "userId": "00464319505652587728"
     },
     "user_tz": -330
    },
    "id": "qNZKxgFDYvP8",
    "outputId": "60b4fc5f-4ee6-4728-c085-be5509acfe5c"
   },
   "outputs": [
    {
     "data": {
      "text/html": [
       "<div>\n",
       "<style scoped>\n",
       "    .dataframe tbody tr th:only-of-type {\n",
       "        vertical-align: middle;\n",
       "    }\n",
       "\n",
       "    .dataframe tbody tr th {\n",
       "        vertical-align: top;\n",
       "    }\n",
       "\n",
       "    .dataframe thead th {\n",
       "        text-align: right;\n",
       "    }\n",
       "</style>\n",
       "<table border=\"1\" class=\"dataframe\">\n",
       "  <thead>\n",
       "    <tr style=\"text-align: right;\">\n",
       "      <th></th>\n",
       "      <th>index</th>\n",
       "      <th>gender</th>\n",
       "      <th>age</th>\n",
       "      <th>topic</th>\n",
       "      <th>sign</th>\n",
       "      <th>text</th>\n",
       "    </tr>\n",
       "  </thead>\n",
       "  <tbody>\n",
       "    <tr>\n",
       "      <th>9602</th>\n",
       "      <td>434583</td>\n",
       "      <td>male</td>\n",
       "      <td>41</td>\n",
       "      <td>Unknown_industry</td>\n",
       "      <td>Virgo</td>\n",
       "      <td>Dance Like No One's Watching   u...</td>\n",
       "    </tr>\n",
       "    <tr>\n",
       "      <th>9603</th>\n",
       "      <td>45858</td>\n",
       "      <td>male</td>\n",
       "      <td>41</td>\n",
       "      <td>Unknown_industry</td>\n",
       "      <td>Virgo</td>\n",
       "      <td>Hijacking the language of war  A...</td>\n",
       "    </tr>\n",
       "    <tr>\n",
       "      <th>9604</th>\n",
       "      <td>434557</td>\n",
       "      <td>male</td>\n",
       "      <td>41</td>\n",
       "      <td>Unknown_industry</td>\n",
       "      <td>Virgo</td>\n",
       "      <td>The Luck of the Bloggish   Oh I'...</td>\n",
       "    </tr>\n",
       "    <tr>\n",
       "      <th>9605</th>\n",
       "      <td>181243</td>\n",
       "      <td>male</td>\n",
       "      <td>42</td>\n",
       "      <td>Unknown_industry</td>\n",
       "      <td>Virgo</td>\n",
       "      <td>As everybody knows there has been a re...</td>\n",
       "    </tr>\n",
       "    <tr>\n",
       "      <th>9606</th>\n",
       "      <td>550236</td>\n",
       "      <td>male</td>\n",
       "      <td>46</td>\n",
       "      <td>Unknown_industry</td>\n",
       "      <td>Virgo</td>\n",
       "      <td>Busy summer for me. I've got two bo...</td>\n",
       "    </tr>\n",
       "  </tbody>\n",
       "</table>\n",
       "</div>"
      ],
      "text/plain": [
       "       index gender  age             topic   sign  \\\n",
       "9602  434583   male   41  Unknown_industry  Virgo   \n",
       "9603   45858   male   41  Unknown_industry  Virgo   \n",
       "9604  434557   male   41  Unknown_industry  Virgo   \n",
       "9605  181243   male   42  Unknown_industry  Virgo   \n",
       "9606  550236   male   46  Unknown_industry  Virgo   \n",
       "\n",
       "                                                   text  \n",
       "9602                Dance Like No One's Watching   u...  \n",
       "9603                Hijacking the language of war  A...  \n",
       "9604                The Luck of the Bloggish   Oh I'...  \n",
       "9605          As everybody knows there has been a re...  \n",
       "9606             Busy summer for me. I've got two bo...  "
      ]
     },
     "execution_count": 23,
     "metadata": {},
     "output_type": "execute_result"
    }
   ],
   "source": [
    "# # tail of dataset\n",
    "\n",
    "corpus_df.tail()"
   ]
  },
  {
   "cell_type": "code",
   "execution_count": 24,
   "metadata": {
    "colab": {
     "base_uri": "https://localhost:8080/",
     "height": 667
    },
    "executionInfo": {
     "elapsed": 2305,
     "status": "ok",
     "timestamp": 1667113996670,
     "user": {
      "displayName": "Kumud kumar",
      "userId": "00464319505652587728"
     },
     "user_tz": -330
    },
    "id": "Hd8gpK9xULeT",
    "outputId": "ec3eee34-00b6-4a2b-9406-8aae7b734c32"
   },
   "outputs": [
    {
     "name": "stderr",
     "output_type": "stream",
     "text": [
      "<ipython-input-24-dd1e474a8dc5>:12: UserWarning: Matplotlib is currently using module://ipykernel.pylab.backend_inline, which is a non-GUI backend, so cannot show the figure.\n",
      "  fig.show()\n"
     ]
    },
    {
     "data": {
      "image/png": "[encoded data removed]",
      "text/plain": [
       "<Figure size 2160x1080 with 2 Axes>"
      ]
     },
     "metadata": {
      "needs_background": "light"
     },
     "output_type": "display_data"
    }
   ],
   "source": [
    "# checking for data distribution with original data\n",
    "\n",
    "fig, ax = plt.subplots(1, 2, figsize=(30, 15))\n",
    "fig.autofmt_xdate(rotation=90)\n",
    "\n",
    "sns.countplot(x='topic', data=df, order = df['topic'].value_counts().index, ax=ax[0])\n",
    "ax[0].set_title(\"Original Data\")\n",
    "\n",
    "sns.countplot(x='topic', data=corpus_df,order = corpus_df['topic'].value_counts().index, ax=ax[1])\n",
    "ax[1].set_title(\"Stratification Data\")\n",
    "\n",
    "fig.show()"
   ]
  },
  {
   "cell_type": "code",
   "execution_count": 25,
   "metadata": {
    "id": "35oesLVgULg4"
   },
   "outputs": [],
   "source": [
    "# It follows the same distribution as the original data"
   ]
  },
  {
   "cell_type": "markdown",
   "metadata": {
    "id": "Gqq8vySma6Oi"
   },
   "source": [
    "Conclusion:\n",
    "1. Majority of topic is unknown_industry\n",
    "2. There is equal distribution of gender based data \n",
    "3. All the duplicates were removed from the dataset"
   ]
  },
  {
   "cell_type": "code",
   "execution_count": null,
   "metadata": {
    "id": "y7vDxMwlapXA"
   },
   "outputs": [],
   "source": []
  },
  {
   "cell_type": "markdown",
   "metadata": {
    "id": "ig4Wc0uSbegR"
   },
   "source": [
    "1B: Cleaning the structured data"
   ]
  },
  {
   "cell_type": "markdown",
   "metadata": {
    "id": "yeGRqhjUbugR"
   },
   "source": [
    "1. Missing values"
   ]
  },
  {
   "cell_type": "code",
   "execution_count": 26,
   "metadata": {
    "colab": {
     "base_uri": "https://localhost:8080/"
    },
    "executionInfo": {
     "elapsed": 58,
     "status": "ok",
     "timestamp": 1667113996681,
     "user": {
      "displayName": "Kumud kumar",
      "userId": "00464319505652587728"
     },
     "user_tz": -330
    },
    "id": "HIt3-FT9apZw",
    "outputId": "27f0ae97-6462-4f47-ac56-24e8cff7c10c"
   },
   "outputs": [
    {
     "data": {
      "text/plain": [
       "index     0\n",
       "gender    0\n",
       "age       0\n",
       "topic     0\n",
       "sign      0\n",
       "text      0\n",
       "dtype: int64"
      ]
     },
     "execution_count": 26,
     "metadata": {},
     "output_type": "execute_result"
    }
   ],
   "source": [
    "# Misiing value Imputations \n",
    "\n",
    "corpus_df.isnull().sum()"
   ]
  },
  {
   "cell_type": "markdown",
   "metadata": {
    "id": "pxe2MtYrb6-L"
   },
   "source": [
    "There are no null or missing values present"
   ]
  },
  {
   "cell_type": "markdown",
   "metadata": {
    "id": "d6goAgvocHPa"
   },
   "source": [
    "2. Eliminating non english words"
   ]
  },
  {
   "cell_type": "code",
   "execution_count": 27,
   "metadata": {
    "id": "5tdSgKuBcuei"
   },
   "outputs": [
    {
     "name": "stdout",
     "output_type": "stream",
     "text": [
      "Requirement already satisfied: langdetect in c:\\users\\kumud .laptop-s0t3f3o8\\anaconda3\\lib\\site-packages (1.0.9)\n",
      "Requirement already satisfied: six in c:\\users\\kumud .laptop-s0t3f3o8\\anaconda3\\lib\\site-packages (from langdetect) (1.15.0)\n"
     ]
    }
   ],
   "source": [
    "#! pip install langdetect"
   ]
  },
  {
   "cell_type": "code",
   "execution_count": 28,
   "metadata": {
    "id": "t9mvpBEyapfS"
   },
   "outputs": [],
   "source": [
    "from langdetect import detect\n",
    "\n",
    "def detect_english(text):\n",
    "    try:\n",
    "        return detect(text) == 'en'\n",
    "    except:\n",
    "        return False\n"
   ]
  },
  {
   "cell_type": "code",
   "execution_count": 29,
   "metadata": {
    "id": "9nTl0-F3apiD"
   },
   "outputs": [],
   "source": [
    "corpus_df = corpus_df[corpus_df['text'].apply(detect_english)]"
   ]
  },
  {
   "cell_type": "code",
   "execution_count": 30,
   "metadata": {
    "colab": {
     "base_uri": "https://localhost:8080/"
    },
    "executionInfo": {
     "elapsed": 54,
     "status": "ok",
     "timestamp": 1667114079449,
     "user": {
      "displayName": "Kumud kumar",
      "userId": "00464319505652587728"
     },
     "user_tz": -330
    },
    "id": "AzCl9hdJ410_",
    "outputId": "85e2aa25-d5f9-4be4-d8bd-e4cde9a6eb28"
   },
   "outputs": [
    {
     "name": "stdout",
     "output_type": "stream",
     "text": [
      "After eliminating Non-English textual data\n"
     ]
    },
    {
     "data": {
      "text/plain": [
       "(9241, 6)"
      ]
     },
     "execution_count": 30,
     "metadata": {},
     "output_type": "execute_result"
    }
   ],
   "source": [
    "# new datashape after eliminating non english words\n",
    "\n",
    "print(\"After eliminating Non-English textual data\")\n",
    "corpus_df.shape"
   ]
  },
  {
   "cell_type": "code",
   "execution_count": 31,
   "metadata": {
    "id": "azLMqhwi6nLn"
   },
   "outputs": [],
   "source": [
    "#Before Pre-Process steps, let us remove other columns from the dataframe\n",
    "\n",
    "corpus_df.drop(labels=['index','gender','age','sign'], axis=1,inplace=True)"
   ]
  },
  {
   "cell_type": "code",
   "execution_count": null,
   "metadata": {
    "id": "LyOCd4WsPEIK"
   },
   "outputs": [],
   "source": []
  },
  {
   "cell_type": "code",
   "execution_count": null,
   "metadata": {
    "id": "h6t-yifRXhQ-"
   },
   "outputs": [],
   "source": []
  },
  {
   "cell_type": "markdown",
   "metadata": {
    "id": "QpTi8JygcecU"
   },
   "source": [
    "2. **DATA** **PREPROCESSING**"
   ]
  },
  {
   "cell_type": "code",
   "execution_count": 32,
   "metadata": {
    "id": "js6tiOJ9kCu7"
   },
   "outputs": [],
   "source": [
    "# remove all the places where the string urllink comes\n",
    "corpus_df['text_new']=corpus_df['text'].apply(lambda x: re.sub(r'urlLink|urllink','',x)) \n",
    "\n",
    "# remove all the places where any url comes that starts with http or https\n",
    "corpus_df['text_new']=corpus_df['text'].apply(lambda x: re.sub(r'https?\\S+','',x))"
   ]
  },
  {
   "cell_type": "code",
   "execution_count": 33,
   "metadata": {
    "executionInfo": {
     "elapsed": 424,
     "status": "ok",
     "timestamp": 1667115125546,
     "user": {
      "displayName": "Kumud kumar",
      "userId": "00464319505652587728"
     },
     "user_tz": -330
    },
    "id": "be6Mb7acKflR"
   },
   "outputs": [],
   "source": [
    "# removing all the spaces\n",
    "\n",
    "corpus_df[\"text_new\"] = corpus_df[\"text\"].apply(lambda x: x.strip())"
   ]
  },
  {
   "cell_type": "code",
   "execution_count": 34,
   "metadata": {
    "executionInfo": {
     "elapsed": 439,
     "status": "ok",
     "timestamp": 1667115267000,
     "user": {
      "displayName": "Kumud kumar",
      "userId": "00464319505652587728"
     },
     "user_tz": -330
    },
    "id": "2DMwvDpmt3Nw"
   },
   "outputs": [],
   "source": [
    "#Eliminate All special Characters and Numbers\n",
    "def remove_punctuation(text):\n",
    "    return re.sub('[^a-zA-Z]', ' ', str(text))\n",
    "\n",
    "#Lowercase all textual data\n",
    "def lower_case(text):\n",
    "    return text.lower()    \n",
    "\n",
    "#Eliminate All special Characters and Numbers\n",
    "def remove_tags(text):    \n",
    "    return re.sub(\"</?.*?>\",\" <> \", text)\n",
    "\n",
    "#Eliminate All special Characters and Numbers\n",
    "def remove_special_chars_and_digits(text):\n",
    "    return re.sub(\"(\\\\d|\\\\W)+\",\" \", text)\n",
    "\n",
    "#def remove_stop_words(tokenized_text):\n",
    "    #return [w for w in tokenized_text if not w in set(stopwords.words('english'))]\n",
    "\n",
    "# #Remove all Stopwords and lemmatize\n",
    "def stopword_lemma(text):\n",
    "    token = nltk.word_tokenize(text)\n",
    "    text_stop = [x for x in token if x not in set(stopwords.words('english'))]\n",
    "    lemmatizer = WordNetLemmatizer()\n",
    "    text_lemma = [lemmatizer.lemmatize(word) for word in text_stop]\n",
    "    text_lemma = ' '.join(text_lemma)\n",
    "    return text_lemma\n",
    "\n",
    "\n",
    "\n"
   ]
  },
  {
   "cell_type": "code",
   "execution_count": 35,
   "metadata": {
    "executionInfo": {
     "elapsed": 423,
     "status": "ok",
     "timestamp": 1667115270781,
     "user": {
      "displayName": "Kumud kumar",
      "userId": "00464319505652587728"
     },
     "user_tz": -330
    },
    "id": "z9jWaKDGztN1"
   },
   "outputs": [],
   "source": [
    "def normalize_text(text: str) -> str:\n",
    "    text = remove_punctuation(text)\n",
    "    text = lower_case(text)\n",
    "    text = remove_tags(text)\n",
    "    text = remove_special_chars_and_digits(text)\n",
    "    text = stopword_lemma(text)\n",
    "    \n",
    "    return text"
   ]
  },
  {
   "cell_type": "code",
   "execution_count": 36,
   "metadata": {
    "executionInfo": {
     "elapsed": 1276105,
     "status": "ok",
     "timestamp": 1667116549366,
     "user": {
      "displayName": "Kumud kumar",
      "userId": "00464319505652587728"
     },
     "user_tz": -330
    },
    "id": "JQEfySnPwrh_"
   },
   "outputs": [],
   "source": [
    "corpus_df['new_text'] = corpus_df['text_new'].apply(normalize_text)"
   ]
  },
  {
   "cell_type": "code",
   "execution_count": 37,
   "metadata": {
    "colab": {
     "base_uri": "https://localhost:8080/"
    },
    "executionInfo": {
     "elapsed": 581,
     "status": "ok",
     "timestamp": 1667116725294,
     "user": {
      "displayName": "Kumud kumar",
      "userId": "00464319505652587728"
     },
     "user_tz": -330
    },
    "id": "0SLvfjLJezGo",
    "outputId": "4971ea6a-ec6f-4a30-d512-77d78b8b820f"
   },
   "outputs": [
    {
     "name": "stdout",
     "output_type": "stream",
     "text": [
      "       Another i hate my second job and all the people that work there. Yup it happens and i think more than it should. Our new boss is ok, but i think he makes alot of bad choices... specially when it comes  to hiring people. Yup he seems to be the shitty people magnent.Shelle feels another you can kiss my ass moment coming on. Not going to Texas to see my mom like i thought, because even tho i work EVERY DAY OFF, they couldnt get someone to cover my shift, how nice is that. I think im getting fed up with being pushed around, some would say its about time.The one reason why i dont really tell them off is because i was hoping to move up there and make a little raise or two. eesh (bites lip)Would quit but my bills should be outlawed.  I have to work all weekend , yeah for me... ..    ....     ...   . .. ..    .. . .. .... ..      ....   . . . ..            \n",
      "\n",
      "another hate second job people work yup happens think new bos ok think make alot bad choice specially come hiring people yup seems shitty people magnent shelle feel another kiss as moment coming going texas see mom like thought even tho work every day couldnt get someone cover shift nice think im getting fed pushed around would say time one reason dont really tell hoping move make little raise two eesh bite lip would quit bill outlawed work weekend yeah\n"
     ]
    }
   ],
   "source": [
    "#Example of any sample text \n",
    "\n",
    "print(corpus_df['text'][3])\n",
    "print()\n",
    "print(corpus_df['new_text'][3])"
   ]
  },
  {
   "cell_type": "code",
   "execution_count": null,
   "metadata": {
    "id": "iEzOSC1MoTPi"
   },
   "outputs": [],
   "source": []
  },
  {
   "cell_type": "code",
   "execution_count": null,
   "metadata": {
    "id": "rAx1N2IeoMOd"
   },
   "outputs": [],
   "source": []
  },
  {
   "cell_type": "markdown",
   "metadata": {
    "id": "vbYor-AFLeXY"
   },
   "source": [
    "## 3. Base Classification Model"
   ]
  },
  {
   "cell_type": "markdown",
   "metadata": {
    "id": "ShrlIuKY4iM8"
   },
   "source": [
    "### 3A:"
   ]
  },
  {
   "cell_type": "code",
   "execution_count": 38,
   "metadata": {
    "id": "_pgh8Me_fPhC"
   },
   "outputs": [
    {
     "data": {
      "text/html": [
       "<div>\n",
       "<style scoped>\n",
       "    .dataframe tbody tr th:only-of-type {\n",
       "        vertical-align: middle;\n",
       "    }\n",
       "\n",
       "    .dataframe tbody tr th {\n",
       "        vertical-align: top;\n",
       "    }\n",
       "\n",
       "    .dataframe thead th {\n",
       "        text-align: right;\n",
       "    }\n",
       "</style>\n",
       "<table border=\"1\" class=\"dataframe\">\n",
       "  <thead>\n",
       "    <tr style=\"text-align: right;\">\n",
       "      <th></th>\n",
       "      <th>text</th>\n",
       "      <th>text_new</th>\n",
       "      <th>new_text</th>\n",
       "      <th>labels</th>\n",
       "    </tr>\n",
       "  </thead>\n",
       "  <tbody>\n",
       "    <tr>\n",
       "      <th>0</th>\n",
       "      <td>ok, Thomas i also did one.....Here you ...</td>\n",
       "      <td>ok, Thomas i also did one.....Here you go ever...</td>\n",
       "      <td>ok thomas also one go everyone urllink blunt t...</td>\n",
       "      <td>accounting</td>\n",
       "    </tr>\n",
       "    <tr>\n",
       "      <th>2</th>\n",
       "      <td>Here i am posting again, for some reaso...</td>\n",
       "      <td>Here i am posting again, for some reason we ha...</td>\n",
       "      <td>posting reason problem house lost blog old hou...</td>\n",
       "      <td>accounting</td>\n",
       "    </tr>\n",
       "    <tr>\n",
       "      <th>3</th>\n",
       "      <td>Another i hate my second job and all th...</td>\n",
       "      <td>Another i hate my second job and all the peopl...</td>\n",
       "      <td>another hate second job people work yup happen...</td>\n",
       "      <td>accounting</td>\n",
       "    </tr>\n",
       "    <tr>\n",
       "      <th>4</th>\n",
       "      <td>urlLink Brainbench - The Measure of Ac...</td>\n",
       "      <td>urlLink Brainbench - The Measure of Achievemen...</td>\n",
       "      <td>urllink brainbench measure achievement awesome...</td>\n",
       "      <td>accounting</td>\n",
       "    </tr>\n",
       "    <tr>\n",
       "      <th>5</th>\n",
       "      <td>Why does the posting page loo...</td>\n",
       "      <td>Why does the posting page look different every...</td>\n",
       "      <td>posting page look different every time hell we...</td>\n",
       "      <td>advertising</td>\n",
       "    </tr>\n",
       "  </tbody>\n",
       "</table>\n",
       "</div>"
      ],
      "text/plain": [
       "                                                text  \\\n",
       "0         ok, Thomas i also did one.....Here you ...   \n",
       "2         Here i am posting again, for some reaso...   \n",
       "3         Another i hate my second job and all th...   \n",
       "4          urlLink Brainbench - The Measure of Ac...   \n",
       "5                   Why does the posting page loo...   \n",
       "\n",
       "                                            text_new  \\\n",
       "0  ok, Thomas i also did one.....Here you go ever...   \n",
       "2  Here i am posting again, for some reason we ha...   \n",
       "3  Another i hate my second job and all the peopl...   \n",
       "4  urlLink Brainbench - The Measure of Achievemen...   \n",
       "5  Why does the posting page look different every...   \n",
       "\n",
       "                                            new_text       labels  \n",
       "0  ok thomas also one go everyone urllink blunt t...   accounting  \n",
       "2  posting reason problem house lost blog old hou...   accounting  \n",
       "3  another hate second job people work yup happen...   accounting  \n",
       "4  urllink brainbench measure achievement awesome...   accounting  \n",
       "5  posting page look different every time hell we...  advertising  "
      ]
     },
     "execution_count": 38,
     "metadata": {},
     "output_type": "execute_result"
    }
   ],
   "source": [
    "#text_new\n",
    "X = corpus_df['new_text']\n",
    "\n",
    "#topic\n",
    "corpus_df['labels'] = corpus_df['topic'].str.lower()\n",
    "labels = corpus_df['labels']\n",
    "\n",
    "corpus_df.drop(columns=['topic'], axis=1, inplace=True)\n",
    "\n",
    "corpus_df.head()"
   ]
  },
  {
   "cell_type": "markdown",
   "metadata": {},
   "source": [
    "### 3B: Splitting data into train & test set "
   ]
  },
  {
   "cell_type": "code",
   "execution_count": 39,
   "metadata": {
    "id": "Xla-hw8T4QqY"
   },
   "outputs": [
    {
     "name": "stdout",
     "output_type": "stream",
     "text": [
      "(6468,)\n",
      "(2773,)\n",
      "(6468,)\n",
      "(2773,)\n"
     ]
    }
   ],
   "source": [
    "X_train, X_test, Y_train, Y_test = train_test_split(X,labels, test_size = 0.30, random_state = 20)\n",
    "\n",
    "print(X_train.shape)\n",
    "print(X_test.shape)\n",
    "print(Y_train.shape)\n",
    "print(Y_test.shape)"
   ]
  },
  {
   "cell_type": "markdown",
   "metadata": {
    "id": "q0MvXoul4QtK"
   },
   "source": [
    "### 3C:  Vectorize data using any one vectorizer. "
   ]
  },
  {
   "cell_type": "code",
   "execution_count": 40,
   "metadata": {
    "id": "PkBHNLYN4QwC"
   },
   "outputs": [
    {
     "name": "stdout",
     "output_type": "stream",
     "text": [
      "X_train shape & sample (6468, 67892)\n"
     ]
    },
    {
     "data": {
      "text/plain": [
       "<1x67892 sparse matrix of type '<class 'numpy.int64'>'\n",
       "\twith 14 stored elements in Compressed Sparse Row format>"
      ]
     },
     "execution_count": 40,
     "metadata": {},
     "output_type": "execute_result"
    }
   ],
   "source": [
    "# Creating Bag of words\n",
    "vectorizer = CountVectorizer(min_df = 2,ngram_range = (1,2),stop_words = \"english\")\n",
    "X_train = vectorizer.fit_transform(X_train)\n",
    "X_test = vectorizer.transform(X_test)\n",
    "print(\"X_train shape & sample\",X_train.shape)\n",
    "X_train[0]"
   ]
  },
  {
   "cell_type": "code",
   "execution_count": 41,
   "metadata": {
    "id": "veDo9r8I4QzH"
   },
   "outputs": [
    {
     "name": "stdout",
     "output_type": "stream",
     "text": [
      "   aa  aaa  aaah  aaah fuck  aap  aaron  aaron brown  aaron told  ab  aback  \\\n",
      "0   0    0     0          0    0      0            0           0   0      0   \n",
      "1   0    0     0          0    0      0            0           0   0      0   \n",
      "2   0    0     0          0    0      0            0           0   0      0   \n",
      "3   0    0     0          0    0      0            0           0   0      0   \n",
      "4   0    0     0          0    0      0            0           0   0      0   \n",
      "\n",
      "   ...  zoolander  zoom  zooming  zoot  zq  zu  zucchini  zurich  zzz  zzzzzz  \n",
      "0  ...          0     0        0     0   0   0         0       0    0       0  \n",
      "1  ...          0     0        0     0   0   0         0       0    0       0  \n",
      "2  ...          0     0        0     0   0   0         0       0    0       0  \n",
      "3  ...          0     0        0     0   0   0         0       0    0       0  \n",
      "4  ...          0     0        0     0   0   0         0       0    0       0  \n",
      "\n",
      "[5 rows x 67892 columns]\n"
     ]
    },
    {
     "name": "stderr",
     "output_type": "stream",
     "text": [
      "C:\\Users\\KUMUD .LAPTOP-S0T3F3O8\\anaconda3\\lib\\site-packages\\sklearn\\utils\\deprecation.py:87: FutureWarning: Function get_feature_names is deprecated; get_feature_names is deprecated in 1.0 and will be removed in 1.2. Please use get_feature_names_out instead.\n",
      "  warnings.warn(msg, category=FutureWarning)\n"
     ]
    }
   ],
   "source": [
    "# Document term matrix \n",
    "dtm_x_train = pd.DataFrame(X_train.toarray(), columns=vectorizer.get_feature_names())\n",
    "print(dtm_x_train.head())"
   ]
  },
  {
   "cell_type": "code",
   "execution_count": 42,
   "metadata": {},
   "outputs": [
    {
     "name": "stderr",
     "output_type": "stream",
     "text": [
      "C:\\Users\\KUMUD .LAPTOP-S0T3F3O8\\anaconda3\\lib\\site-packages\\sklearn\\utils\\deprecation.py:87: FutureWarning: Function get_feature_names is deprecated; get_feature_names is deprecated in 1.0 and will be removed in 1.2. Please use get_feature_names_out instead.\n",
      "  warnings.warn(msg, category=FutureWarning)\n"
     ]
    },
    {
     "name": "stdout",
     "output_type": "stream",
     "text": [
      "   aa  aaa  aaah  aaah fuck  aap  aaron  aaron brown  aaron told  ab  aback  \\\n",
      "0   0    0     0          0    0      0            0           0   0      0   \n",
      "1   0    0     0          0    0      0            0           0   0      0   \n",
      "2   0    0     0          0    0      0            0           0   0      0   \n",
      "3   0    0     0          0    0      0            0           0   0      0   \n",
      "4   0    0     0          0    0      0            0           0   0      0   \n",
      "\n",
      "   ...  zoolander  zoom  zooming  zoot  zq  zu  zucchini  zurich  zzz  zzzzzz  \n",
      "0  ...          0     0        0     0   0   0         0       0    0       0  \n",
      "1  ...          0     0        0     0   0   0         0       0    0       0  \n",
      "2  ...          0     0        0     0   0   0         0       0    0       0  \n",
      "3  ...          0     0        0     0   0   0         0       0    0       0  \n",
      "4  ...          0     0        0     0   0   0         0       0    0       0  \n",
      "\n",
      "[5 rows x 67892 columns]\n"
     ]
    }
   ],
   "source": [
    "dtm_x_test = pd.DataFrame(X_test.toarray(), columns=vectorizer.get_feature_names())\n",
    "print(dtm_x_test.head())"
   ]
  },
  {
   "cell_type": "code",
   "execution_count": 43,
   "metadata": {},
   "outputs": [
    {
     "data": {
      "text/plain": [
       "{'accounting': 0,\n",
       " 'advertising': 1,\n",
       " 'arts': 4,\n",
       " 'banking': 6,\n",
       " 'biotech': 7,\n",
       " 'businessservices': 8,\n",
       " 'communications': 10,\n",
       " 'media': 27,\n",
       " 'consulting': 12,\n",
       " 'education': 13,\n",
       " 'environment': 15,\n",
       " 'fashion': 16,\n",
       " 'government': 17,\n",
       " 'humanresources': 18,\n",
       " 'internet': 19,\n",
       " 'law': 21,\n",
       " 'manufacturing': 24,\n",
       " 'marketing': 26,\n",
       " 'non': 30,\n",
       " 'profit': 31,\n",
       " 'publishing': 32,\n",
       " 'religion': 35,\n",
       " 'science': 36,\n",
       " 'sports': 38,\n",
       " 'recreation': 34,\n",
       " 'student': 39,\n",
       " 'technology': 40,\n",
       " 'transportation': 43,\n",
       " 'unknown_industry': 44,\n",
       " 'chemicals': 9,\n",
       " 'construction': 11,\n",
       " 'engineering': 14,\n",
       " 'investmentbanking': 20,\n",
       " 'military': 28,\n",
       " 'museums': 29,\n",
       " 'libraries': 23,\n",
       " 'tourism': 42,\n",
       " 'architecture': 3,\n",
       " 'lawenforcement': 22,\n",
       " 'security': 37,\n",
       " 'realestate': 33,\n",
       " 'telecommunications': 41,\n",
       " 'agriculture': 2,\n",
       " 'automotive': 5,\n",
       " 'maritime': 25}"
      ]
     },
     "execution_count": 43,
     "metadata": {},
     "output_type": "execute_result"
    }
   ],
   "source": [
    "#Create a dictionary to get the count of every label i.e. the key will be label name and value will be the total count of the label.\n",
    "vectorizer_labels = CountVectorizer(min_df = 1,ngram_range = (1,1),stop_words = \"english\")\n",
    "labels_vector = vectorizer_labels.fit_transform(labels)\n",
    "vectorizer_labels.vocabulary_"
   ]
  },
  {
   "cell_type": "code",
   "execution_count": 44,
   "metadata": {},
   "outputs": [
    {
     "name": "stdout",
     "output_type": "stream",
     "text": [
      "['accounting', 'advertising', 'agriculture', 'architecture', 'arts', 'automotive', 'banking', 'biotech', 'businessservices', 'chemicals', 'communications', 'construction', 'consulting', 'education', 'engineering', 'environment', 'fashion', 'government', 'humanresources', 'internet', 'investmentbanking', 'law', 'lawenforcement', 'libraries', 'manufacturing', 'maritime', 'marketing', 'media', 'military', 'museums', 'non', 'profit', 'publishing', 'realestate', 'recreation', 'religion', 'science', 'security', 'sports', 'student', 'technology', 'telecommunications', 'tourism', 'transportation', 'unknown_industry']\n"
     ]
    }
   ],
   "source": [
    "# Extracing only key value from above dictionary, which contains unique labels. These set of labels will be used as classes in multilabelbinariser further.\n",
    "label_classes = []  \n",
    "for key in vectorizer_labels.vocabulary_.keys():\n",
    "    label_classes.append(key)\n",
    "    \n",
    "print(sorted(label_classes))"
   ]
  },
  {
   "cell_type": "code",
   "execution_count": 45,
   "metadata": {},
   "outputs": [],
   "source": [
    "# initialising multilabelbinariser with all unique possible classes\n",
    "mlb = MultiLabelBinarizer(classes = label_classes) "
   ]
  },
  {
   "cell_type": "code",
   "execution_count": 46,
   "metadata": {},
   "outputs": [
    {
     "data": {
      "text/plain": [
       "['arts']"
      ]
     },
     "execution_count": 46,
     "metadata": {},
     "output_type": "execute_result"
    }
   ],
   "source": [
    "# Converting entire se of labels into format required by mlb\n",
    "labels = [[\"\".join(re.findall(\"\\w\",f)) for f in lst] for lst in [s.split(\",\") for s in labels]]\n",
    "labels[30]"
   ]
  },
  {
   "cell_type": "code",
   "execution_count": 47,
   "metadata": {},
   "outputs": [
    {
     "data": {
      "text/plain": [
       "MultiLabelBinarizer(classes=['accounting', 'advertising', 'arts', 'banking',\n",
       "                             'biotech', 'businessservices', 'communications',\n",
       "                             'media', 'consulting', 'education', 'environment',\n",
       "                             'fashion', 'government', 'humanresources',\n",
       "                             'internet', 'law', 'manufacturing', 'marketing',\n",
       "                             'non', 'profit', 'publishing', 'religion',\n",
       "                             'science', 'sports', 'recreation', 'student',\n",
       "                             'technology', 'transportation', 'unknown_industry',\n",
       "                             'chemicals', ...])"
      ]
     },
     "execution_count": 47,
     "metadata": {},
     "output_type": "execute_result"
    }
   ],
   "source": [
    "labels_trans = mlb.fit(labels) # transforming entire set of lables\n",
    "labels_trans"
   ]
  },
  {
   "cell_type": "code",
   "execution_count": 48,
   "metadata": {},
   "outputs": [
    {
     "data": {
      "text/plain": [
       "['education']"
      ]
     },
     "execution_count": 48,
     "metadata": {},
     "output_type": "execute_result"
    }
   ],
   "source": [
    "#Convert Y_train into a format as required by mlb \n",
    "Y_train = [[\"\".join(re.findall(\"\\w\",f)) for f in lst] for lst in [s.split(\",\") for s in Y_train]]\n",
    "Y_train[30]"
   ]
  },
  {
   "cell_type": "code",
   "execution_count": 49,
   "metadata": {},
   "outputs": [
    {
     "name": "stderr",
     "output_type": "stream",
     "text": [
      "C:\\Users\\KUMUD .LAPTOP-S0T3F3O8\\anaconda3\\lib\\site-packages\\sklearn\\preprocessing\\_label.py:875: UserWarning: unknown class(es) ['communicationsmedia', 'lawenforcementsecurity', 'museumslibraries', 'nonprofit', 'sportsrecreation'] will be ignored\n",
      "  warnings.warn(\n"
     ]
    },
    {
     "data": {
      "text/plain": [
       "array([0, 0, 0, 0, 0, 0, 0, 0, 0, 1, 0, 0, 0, 0, 0, 0, 0, 0, 0, 0, 0, 0,\n",
       "       0, 0, 0, 0, 0, 0, 0, 0, 0, 0, 0, 0, 0, 0, 0, 0, 0, 0, 0, 0, 0, 0,\n",
       "       0])"
      ]
     },
     "execution_count": 49,
     "metadata": {},
     "output_type": "execute_result"
    }
   ],
   "source": [
    "Y_train_trans = mlb.transform(Y_train) # transforming Train lables using mlb which is trained on all possible unnique labels on entire data set\n",
    "Y_train_trans[30]"
   ]
  },
  {
   "cell_type": "code",
   "execution_count": 50,
   "metadata": {},
   "outputs": [
    {
     "data": {
      "text/plain": [
       "(6468, 45)"
      ]
     },
     "execution_count": 50,
     "metadata": {},
     "output_type": "execute_result"
    }
   ],
   "source": [
    "Y_train_trans.shape"
   ]
  },
  {
   "cell_type": "code",
   "execution_count": 51,
   "metadata": {},
   "outputs": [
    {
     "name": "stdout",
     "output_type": "stream",
     "text": [
      "['arts']\n"
     ]
    }
   ],
   "source": [
    "#Convert Y_test into a format as required by mlb \n",
    "Y_test = [[\"\".join(re.findall(\"\\w\",f)) for f in lst] for lst in [s.split(\",\") for s in Y_test]]\n",
    "Y_test_trans = mlb.transform(Y_test) # transforming test labels.\n",
    "print(Y_test[30])"
   ]
  },
  {
   "cell_type": "code",
   "execution_count": 52,
   "metadata": {},
   "outputs": [
    {
     "data": {
      "text/plain": [
       "array([0, 0, 1, 0, 0, 0, 0, 0, 0, 0, 0, 0, 0, 0, 0, 0, 0, 0, 0, 0, 0, 0,\n",
       "       0, 0, 0, 0, 0, 0, 0, 0, 0, 0, 0, 0, 0, 0, 0, 0, 0, 0, 0, 0, 0, 0,\n",
       "       0])"
      ]
     },
     "execution_count": 52,
     "metadata": {},
     "output_type": "execute_result"
    }
   ],
   "source": [
    "Y_test_trans[30]"
   ]
  },
  {
   "cell_type": "code",
   "execution_count": 53,
   "metadata": {},
   "outputs": [
    {
     "data": {
      "text/plain": [
       "45"
      ]
     },
     "execution_count": 53,
     "metadata": {},
     "output_type": "execute_result"
    }
   ],
   "source": [
    "len(mlb.classes_)"
   ]
  },
  {
   "cell_type": "code",
   "execution_count": 54,
   "metadata": {},
   "outputs": [
    {
     "data": {
      "text/plain": [
       "array(['accounting', 'advertising', 'arts', 'banking', 'biotech',\n",
       "       'businessservices', 'communications', 'media', 'consulting',\n",
       "       'education', 'environment', 'fashion', 'government',\n",
       "       'humanresources', 'internet', 'law', 'manufacturing', 'marketing',\n",
       "       'non', 'profit', 'publishing', 'religion', 'science', 'sports',\n",
       "       'recreation', 'student', 'technology', 'transportation',\n",
       "       'unknown_industry', 'chemicals', 'construction', 'engineering',\n",
       "       'investmentbanking', 'military', 'museums', 'libraries', 'tourism',\n",
       "       'architecture', 'lawenforcement', 'security', 'realestate',\n",
       "       'telecommunications', 'agriculture', 'automotive', 'maritime'],\n",
       "      dtype=object)"
      ]
     },
     "execution_count": 54,
     "metadata": {},
     "output_type": "execute_result"
    }
   ],
   "source": [
    "mlb.classes_"
   ]
  },
  {
   "cell_type": "code",
   "execution_count": 55,
   "metadata": {},
   "outputs": [
    {
     "data": {
      "text/plain": [
       "array([0, 0, 0, 0, 0, 0, 0, 0, 0, 0, 0, 0, 0, 0, 0, 0, 0, 0, 0, 0, 0, 0,\n",
       "       0, 0, 0, 0, 0, 0, 1, 0, 0, 0, 0, 0, 0, 0, 0, 0, 0, 0, 0, 0, 0, 0,\n",
       "       0])"
      ]
     },
     "execution_count": 55,
     "metadata": {},
     "output_type": "execute_result"
    }
   ],
   "source": [
    "Y_train_trans[10]"
   ]
  },
  {
   "cell_type": "code",
   "execution_count": 56,
   "metadata": {},
   "outputs": [
    {
     "data": {
      "text/plain": [
       "['unknown_industry']"
      ]
     },
     "execution_count": 56,
     "metadata": {},
     "output_type": "execute_result"
    }
   ],
   "source": [
    "Y_train[10]"
   ]
  },
  {
   "cell_type": "markdown",
   "metadata": {},
   "source": [
    "### 3D: Build a base model for Supervised Learning - Classification. "
   ]
  },
  {
   "cell_type": "raw",
   "metadata": {},
   "source": [
    " we will use the One-vs-Rest approach, which is implemented in OneVsRestClassifier class. In this approach k classifiers (= number of tags) are trained. As a basic classifier, we will use LogisticRegression . It is one of the simplest methods, but often it performs good enough in text classification tasks. It might take some time because the number of classifiers to train is large"
   ]
  },
  {
   "cell_type": "code",
   "execution_count": 57,
   "metadata": {},
   "outputs": [],
   "source": [
    "clf = LogisticRegression(solver = 'lbfgs',max_iter = 1000)  # initiating the classifier\n",
    "#from sklearn.svm import SVC\n",
    "#clf = SVC(kernel = \"linear\")\n",
    "clf = OneVsRestClassifier(clf)"
   ]
  },
  {
   "cell_type": "code",
   "execution_count": 58,
   "metadata": {},
   "outputs": [
    {
     "name": "stderr",
     "output_type": "stream",
     "text": [
      "C:\\Users\\KUMUD .LAPTOP-S0T3F3O8\\anaconda3\\lib\\site-packages\\sklearn\\multiclass.py:79: UserWarning: Label not 6 is present in all training examples.\n",
      "  warnings.warn(\n",
      "C:\\Users\\KUMUD .LAPTOP-S0T3F3O8\\anaconda3\\lib\\site-packages\\sklearn\\multiclass.py:79: UserWarning: Label not 7 is present in all training examples.\n",
      "  warnings.warn(\n",
      "C:\\Users\\KUMUD .LAPTOP-S0T3F3O8\\anaconda3\\lib\\site-packages\\sklearn\\multiclass.py:79: UserWarning: Label not 18 is present in all training examples.\n",
      "  warnings.warn(\n",
      "C:\\Users\\KUMUD .LAPTOP-S0T3F3O8\\anaconda3\\lib\\site-packages\\sklearn\\multiclass.py:79: UserWarning: Label not 19 is present in all training examples.\n",
      "  warnings.warn(\n",
      "C:\\Users\\KUMUD .LAPTOP-S0T3F3O8\\anaconda3\\lib\\site-packages\\sklearn\\multiclass.py:79: UserWarning: Label not 23 is present in all training examples.\n",
      "  warnings.warn(\n",
      "C:\\Users\\KUMUD .LAPTOP-S0T3F3O8\\anaconda3\\lib\\site-packages\\sklearn\\multiclass.py:79: UserWarning: Label not 24 is present in all training examples.\n",
      "  warnings.warn(\n",
      "C:\\Users\\KUMUD .LAPTOP-S0T3F3O8\\anaconda3\\lib\\site-packages\\sklearn\\multiclass.py:79: UserWarning: Label not 34 is present in all training examples.\n",
      "  warnings.warn(\n",
      "C:\\Users\\KUMUD .LAPTOP-S0T3F3O8\\anaconda3\\lib\\site-packages\\sklearn\\multiclass.py:79: UserWarning: Label not 35 is present in all training examples.\n",
      "  warnings.warn(\n",
      "C:\\Users\\KUMUD .LAPTOP-S0T3F3O8\\anaconda3\\lib\\site-packages\\sklearn\\multiclass.py:79: UserWarning: Label not 38 is present in all training examples.\n",
      "  warnings.warn(\n",
      "C:\\Users\\KUMUD .LAPTOP-S0T3F3O8\\anaconda3\\lib\\site-packages\\sklearn\\multiclass.py:79: UserWarning: Label not 39 is present in all training examples.\n",
      "  warnings.warn(\n"
     ]
    },
    {
     "data": {
      "text/plain": [
       "OneVsRestClassifier(estimator=LogisticRegression(max_iter=1000))"
      ]
     },
     "execution_count": 58,
     "metadata": {},
     "output_type": "execute_result"
    }
   ],
   "source": [
    "clf.fit(X_train,Y_train_trans)"
   ]
  },
  {
   "cell_type": "code",
   "execution_count": 59,
   "metadata": {},
   "outputs": [
    {
     "name": "stdout",
     "output_type": "stream",
     "text": [
      "Train Accuracy: 0.9420222634508348\n"
     ]
    }
   ],
   "source": [
    "print(\"Train Accuracy:\",clf.score(X_train,Y_train_trans))"
   ]
  },
  {
   "cell_type": "code",
   "execution_count": 60,
   "metadata": {},
   "outputs": [],
   "source": [
    "Y_pred = clf.predict(X_test)"
   ]
  },
  {
   "cell_type": "code",
   "execution_count": 61,
   "metadata": {},
   "outputs": [
    {
     "name": "stdout",
     "output_type": "stream",
     "text": [
      "              precision    recall  f1-score   support\n",
      "\n",
      "           0       0.00      0.00      0.00        12\n",
      "           1       0.00      0.00      0.00        17\n",
      "           2       0.10      0.01      0.02       119\n",
      "           3       0.00      0.00      0.00        16\n",
      "           4       0.00      0.00      0.00         8\n",
      "           5       1.00      0.08      0.15        12\n",
      "           6       0.00      0.00      0.00         0\n",
      "           7       0.00      0.00      0.00         0\n",
      "           8       0.00      0.00      0.00        22\n",
      "           9       0.09      0.02      0.03       128\n",
      "          10       0.00      0.00      0.00         0\n",
      "          11       0.00      0.00      0.00        13\n",
      "          12       0.00      0.00      0.00        15\n",
      "          13       0.00      0.00      0.00         8\n",
      "          14       0.25      0.02      0.03        65\n",
      "          15       0.00      0.00      0.00        49\n",
      "          16       0.00      0.00      0.00         9\n",
      "          17       0.00      0.00      0.00        15\n",
      "          18       0.00      0.00      0.00         0\n",
      "          19       0.00      0.00      0.00         0\n",
      "          20       0.00      0.00      0.00        33\n",
      "          21       0.00      0.00      0.00        13\n",
      "          22       0.00      0.00      0.00        30\n",
      "          23       0.00      0.00      0.00         0\n",
      "          24       0.00      0.00      0.00         0\n",
      "          25       0.40      0.22      0.28       644\n",
      "          26       0.24      0.03      0.05       172\n",
      "          27       0.00      0.00      0.00         4\n",
      "          28       0.44      0.34      0.39      1091\n",
      "          29       0.00      0.00      0.00         4\n",
      "          30       0.00      0.00      0.00         1\n",
      "          31       0.00      0.00      0.00        36\n",
      "          32       0.00      0.00      0.00         4\n",
      "          33       0.00      0.00      0.00        13\n",
      "          34       0.00      0.00      0.00         0\n",
      "          35       0.00      0.00      0.00         0\n",
      "          36       0.00      0.00      0.00         7\n",
      "          37       0.00      0.00      0.00         4\n",
      "          38       0.00      0.00      0.00         0\n",
      "          39       0.00      0.00      0.00         0\n",
      "          40       0.00      0.00      0.00        12\n",
      "          41       0.00      0.00      0.00        17\n",
      "          42       0.00      0.00      0.00         7\n",
      "          43       0.00      0.00      0.00         1\n",
      "          44       0.00      0.00      0.00         0\n",
      "\n",
      "   micro avg       0.41      0.20      0.27      2601\n",
      "   macro avg       0.06      0.02      0.02      2601\n",
      "weighted avg       0.32      0.20      0.24      2601\n",
      " samples avg       0.18      0.19      0.18      2601\n",
      "\n"
     ]
    },
    {
     "name": "stderr",
     "output_type": "stream",
     "text": [
      "C:\\Users\\KUMUD .LAPTOP-S0T3F3O8\\anaconda3\\lib\\site-packages\\sklearn\\metrics\\_classification.py:1318: UndefinedMetricWarning: Precision and F-score are ill-defined and being set to 0.0 in labels with no predicted samples. Use `zero_division` parameter to control this behavior.\n",
      "  _warn_prf(average, modifier, msg_start, len(result))\n",
      "C:\\Users\\KUMUD .LAPTOP-S0T3F3O8\\anaconda3\\lib\\site-packages\\sklearn\\metrics\\_classification.py:1318: UndefinedMetricWarning: Recall and F-score are ill-defined and being set to 0.0 in labels with no true samples. Use `zero_division` parameter to control this behavior.\n",
      "  _warn_prf(average, modifier, msg_start, len(result))\n",
      "C:\\Users\\KUMUD .LAPTOP-S0T3F3O8\\anaconda3\\lib\\site-packages\\sklearn\\metrics\\_classification.py:1318: UndefinedMetricWarning: Precision and F-score are ill-defined and being set to 0.0 in samples with no predicted labels. Use `zero_division` parameter to control this behavior.\n",
      "  _warn_prf(average, modifier, msg_start, len(result))\n",
      "C:\\Users\\KUMUD .LAPTOP-S0T3F3O8\\anaconda3\\lib\\site-packages\\sklearn\\metrics\\_classification.py:1318: UndefinedMetricWarning: Recall and F-score are ill-defined and being set to 0.0 in samples with no true labels. Use `zero_division` parameter to control this behavior.\n",
      "  _warn_prf(average, modifier, msg_start, len(result))\n"
     ]
    }
   ],
   "source": [
    "print(classification_report(Y_test_trans, Y_pred))"
   ]
  },
  {
   "cell_type": "code",
   "execution_count": 62,
   "metadata": {},
   "outputs": [
    {
     "name": "stdout",
     "output_type": "stream",
     "text": [
      "Test Accuracy:0.21168409664623153\n",
      "F1: 0.27162406403304934\n",
      "F1_macro: 0.021078852768531955\n",
      "Precision: 0.41352201257861637\n",
      "Precision_macro: 0.05610762116999647\n",
      "Recall: 0.20222991157247214\n",
      "Recall_macro: 0.015891505292972497\n"
     ]
    },
    {
     "name": "stderr",
     "output_type": "stream",
     "text": [
      "C:\\Users\\KUMUD .LAPTOP-S0T3F3O8\\anaconda3\\lib\\site-packages\\sklearn\\metrics\\_classification.py:1580: UndefinedMetricWarning: F-score is ill-defined and being set to 0.0 in labels with no true nor predicted samples. Use `zero_division` parameter to control this behavior.\n",
      "  _warn_prf(average, \"true nor predicted\", \"F-score is\", len(true_sum))\n",
      "C:\\Users\\KUMUD .LAPTOP-S0T3F3O8\\anaconda3\\lib\\site-packages\\sklearn\\metrics\\_classification.py:1318: UndefinedMetricWarning: Precision is ill-defined and being set to 0.0 in labels with no predicted samples. Use `zero_division` parameter to control this behavior.\n",
      "  _warn_prf(average, modifier, msg_start, len(result))\n",
      "C:\\Users\\KUMUD .LAPTOP-S0T3F3O8\\anaconda3\\lib\\site-packages\\sklearn\\metrics\\_classification.py:1318: UndefinedMetricWarning: Recall is ill-defined and being set to 0.0 in labels with no true samples. Use `zero_division` parameter to control this behavior.\n",
      "  _warn_prf(average, modifier, msg_start, len(result))\n"
     ]
    }
   ],
   "source": [
    "print(\"Test Accuracy:\" + str(accuracy_score(Y_test_trans, Y_pred)))\n",
    "print(\"F1: \" + str(f1_score(Y_test_trans, Y_pred, average='micro')))\n",
    "print(\"F1_macro: \" + str(f1_score(Y_test_trans, Y_pred, average='macro')))\n",
    "print(\"Precision: \" + str(precision_score(Y_test_trans, Y_pred, average='micro')))\n",
    "print(\"Precision_macro: \" + str(precision_score(Y_test_trans, Y_pred, average='macro')))\n",
    "print(\"Recall: \" + str(recall_score(Y_test_trans, Y_pred, average='micro')))\n",
    "print(\"Recall_macro: \" + str(recall_score(Y_test_trans, Y_pred, average='macro')))"
   ]
  },
  {
   "cell_type": "markdown",
   "metadata": {},
   "source": [
    "### 4. Improve Performance of model. "
   ]
  },
  {
   "cell_type": "markdown",
   "metadata": {},
   "source": [
    "#### A. Experiment with other vectorisers "
   ]
  },
  {
   "cell_type": "markdown",
   "metadata": {},
   "source": [
    "#### a) Word2Vec "
   ]
  },
  {
   "cell_type": "code",
   "execution_count": 63,
   "metadata": {},
   "outputs": [
    {
     "data": {
      "text/html": [
       "<div>\n",
       "<style scoped>\n",
       "    .dataframe tbody tr th:only-of-type {\n",
       "        vertical-align: middle;\n",
       "    }\n",
       "\n",
       "    .dataframe tbody tr th {\n",
       "        vertical-align: top;\n",
       "    }\n",
       "\n",
       "    .dataframe thead th {\n",
       "        text-align: right;\n",
       "    }\n",
       "</style>\n",
       "<table border=\"1\" class=\"dataframe\">\n",
       "  <thead>\n",
       "    <tr style=\"text-align: right;\">\n",
       "      <th></th>\n",
       "      <th>text</th>\n",
       "      <th>text_new</th>\n",
       "      <th>new_text</th>\n",
       "      <th>labels</th>\n",
       "    </tr>\n",
       "  </thead>\n",
       "  <tbody>\n",
       "    <tr>\n",
       "      <th>0</th>\n",
       "      <td>ok, Thomas i also did one.....Here you ...</td>\n",
       "      <td>ok, Thomas i also did one.....Here you go ever...</td>\n",
       "      <td>ok thomas also one go everyone urllink blunt t...</td>\n",
       "      <td>accounting</td>\n",
       "    </tr>\n",
       "    <tr>\n",
       "      <th>2</th>\n",
       "      <td>Here i am posting again, for some reaso...</td>\n",
       "      <td>Here i am posting again, for some reason we ha...</td>\n",
       "      <td>posting reason problem house lost blog old hou...</td>\n",
       "      <td>accounting</td>\n",
       "    </tr>\n",
       "    <tr>\n",
       "      <th>3</th>\n",
       "      <td>Another i hate my second job and all th...</td>\n",
       "      <td>Another i hate my second job and all the peopl...</td>\n",
       "      <td>another hate second job people work yup happen...</td>\n",
       "      <td>accounting</td>\n",
       "    </tr>\n",
       "    <tr>\n",
       "      <th>4</th>\n",
       "      <td>urlLink Brainbench - The Measure of Ac...</td>\n",
       "      <td>urlLink Brainbench - The Measure of Achievemen...</td>\n",
       "      <td>urllink brainbench measure achievement awesome...</td>\n",
       "      <td>accounting</td>\n",
       "    </tr>\n",
       "    <tr>\n",
       "      <th>5</th>\n",
       "      <td>Why does the posting page loo...</td>\n",
       "      <td>Why does the posting page look different every...</td>\n",
       "      <td>posting page look different every time hell we...</td>\n",
       "      <td>advertising</td>\n",
       "    </tr>\n",
       "  </tbody>\n",
       "</table>\n",
       "</div>"
      ],
      "text/plain": [
       "                                                text  \\\n",
       "0         ok, Thomas i also did one.....Here you ...   \n",
       "2         Here i am posting again, for some reaso...   \n",
       "3         Another i hate my second job and all th...   \n",
       "4          urlLink Brainbench - The Measure of Ac...   \n",
       "5                   Why does the posting page loo...   \n",
       "\n",
       "                                            text_new  \\\n",
       "0  ok, Thomas i also did one.....Here you go ever...   \n",
       "2  Here i am posting again, for some reason we ha...   \n",
       "3  Another i hate my second job and all the peopl...   \n",
       "4  urlLink Brainbench - The Measure of Achievemen...   \n",
       "5  Why does the posting page look different every...   \n",
       "\n",
       "                                            new_text       labels  \n",
       "0  ok thomas also one go everyone urllink blunt t...   accounting  \n",
       "2  posting reason problem house lost blog old hou...   accounting  \n",
       "3  another hate second job people work yup happen...   accounting  \n",
       "4  urllink brainbench measure achievement awesome...   accounting  \n",
       "5  posting page look different every time hell we...  advertising  "
      ]
     },
     "execution_count": 63,
     "metadata": {},
     "output_type": "execute_result"
    }
   ],
   "source": [
    "corpus_df.head()"
   ]
  },
  {
   "cell_type": "code",
   "execution_count": 64,
   "metadata": {},
   "outputs": [],
   "source": [
    "#convert preprocessed sentence to tokenized sentence\n",
    "\n",
    "corpus_df['new_text_tok']=[nltk.word_tokenize(i) for i in corpus_df['new_text']] "
   ]
  },
  {
   "cell_type": "code",
   "execution_count": 65,
   "metadata": {},
   "outputs": [],
   "source": [
    "#min_count=1 means word should be present at least across all documents,\n",
    "#if min_count=2 means if the word is present less than 2 times across all the documents then we shouldn't consider it\n",
    "model = Word2Vec(corpus_df['new_text_tok'],min_count=1)"
   ]
  },
  {
   "cell_type": "code",
   "execution_count": 66,
   "metadata": {},
   "outputs": [
    {
     "data": {
      "text/plain": [
       "[('reason', 0.8283962607383728),\n",
       " ('others', 0.8218168616294861),\n",
       " ('often', 0.8172793984413147),\n",
       " ('different', 0.8162515163421631),\n",
       " ('idea', 0.8153139352798462),\n",
       " ('thing', 0.8109713792800903),\n",
       " ('fact', 0.8109222650527954),\n",
       " ('world', 0.8099380731582642),\n",
       " ('experience', 0.808639645576477),\n",
       " ('friendship', 0.8071004152297974)]"
      ]
     },
     "execution_count": 66,
     "metadata": {},
     "output_type": "execute_result"
    }
   ],
   "source": [
    "model.wv.most_similar('people')"
   ]
  },
  {
   "cell_type": "code",
   "execution_count": 67,
   "metadata": {},
   "outputs": [],
   "source": [
    " #combination of word and its vector\n",
    "w2v = dict(zip(model.wv.index_to_key, model.wv.vectors)) "
   ]
  },
  {
   "cell_type": "code",
   "execution_count": 68,
   "metadata": {},
   "outputs": [],
   "source": [
    "#for converting sentence to vectors/numbers from word vectors result by Word2Vec\n",
    "class MeanEmbeddingVectorizer(object):\n",
    "    def __init__(self, word2vec):\n",
    "        self.word2vec = word2vec\n",
    "        # if a text is empty we should return a vector of zeros\n",
    "        # with the same dimensionality as all the other vectors\n",
    "        self.dim = len(next(iter(word2vec.values())))\n",
    "\n",
    "    def fit(self, X, y):\n",
    "        return self\n",
    "\n",
    "    def transform(self, X):\n",
    "        return np.array([\n",
    "            np.mean([self.word2vec[w] for w in words if w in self.word2vec]\n",
    "                    or [np.zeros(self.dim)], axis=0)\n",
    "            for words in X\n",
    "        ])"
   ]
  },
  {
   "cell_type": "code",
   "execution_count": 69,
   "metadata": {},
   "outputs": [
    {
     "data": {
      "text/html": [
       "<div>\n",
       "<style scoped>\n",
       "    .dataframe tbody tr th:only-of-type {\n",
       "        vertical-align: middle;\n",
       "    }\n",
       "\n",
       "    .dataframe tbody tr th {\n",
       "        vertical-align: top;\n",
       "    }\n",
       "\n",
       "    .dataframe thead th {\n",
       "        text-align: right;\n",
       "    }\n",
       "</style>\n",
       "<table border=\"1\" class=\"dataframe\">\n",
       "  <thead>\n",
       "    <tr style=\"text-align: right;\">\n",
       "      <th></th>\n",
       "      <th>text</th>\n",
       "      <th>text_new</th>\n",
       "      <th>new_text</th>\n",
       "      <th>labels</th>\n",
       "      <th>new_text_tok</th>\n",
       "    </tr>\n",
       "  </thead>\n",
       "  <tbody>\n",
       "    <tr>\n",
       "      <th>0</th>\n",
       "      <td>ok, Thomas i also did one.....Here you ...</td>\n",
       "      <td>ok, Thomas i also did one.....Here you go ever...</td>\n",
       "      <td>ok thomas also one go everyone urllink blunt t...</td>\n",
       "      <td>accounting</td>\n",
       "      <td>[ok, thomas, also, one, go, everyone, urllink,...</td>\n",
       "    </tr>\n",
       "    <tr>\n",
       "      <th>2</th>\n",
       "      <td>Here i am posting again, for some reaso...</td>\n",
       "      <td>Here i am posting again, for some reason we ha...</td>\n",
       "      <td>posting reason problem house lost blog old hou...</td>\n",
       "      <td>accounting</td>\n",
       "      <td>[posting, reason, problem, house, lost, blog, ...</td>\n",
       "    </tr>\n",
       "    <tr>\n",
       "      <th>3</th>\n",
       "      <td>Another i hate my second job and all th...</td>\n",
       "      <td>Another i hate my second job and all the peopl...</td>\n",
       "      <td>another hate second job people work yup happen...</td>\n",
       "      <td>accounting</td>\n",
       "      <td>[another, hate, second, job, people, work, yup...</td>\n",
       "    </tr>\n",
       "    <tr>\n",
       "      <th>4</th>\n",
       "      <td>urlLink Brainbench - The Measure of Ac...</td>\n",
       "      <td>urlLink Brainbench - The Measure of Achievemen...</td>\n",
       "      <td>urllink brainbench measure achievement awesome...</td>\n",
       "      <td>accounting</td>\n",
       "      <td>[urllink, brainbench, measure, achievement, aw...</td>\n",
       "    </tr>\n",
       "    <tr>\n",
       "      <th>5</th>\n",
       "      <td>Why does the posting page loo...</td>\n",
       "      <td>Why does the posting page look different every...</td>\n",
       "      <td>posting page look different every time hell we...</td>\n",
       "      <td>advertising</td>\n",
       "      <td>[posting, page, look, different, every, time, ...</td>\n",
       "    </tr>\n",
       "  </tbody>\n",
       "</table>\n",
       "</div>"
      ],
      "text/plain": [
       "                                                text  \\\n",
       "0         ok, Thomas i also did one.....Here you ...   \n",
       "2         Here i am posting again, for some reaso...   \n",
       "3         Another i hate my second job and all th...   \n",
       "4          urlLink Brainbench - The Measure of Ac...   \n",
       "5                   Why does the posting page loo...   \n",
       "\n",
       "                                            text_new  \\\n",
       "0  ok, Thomas i also did one.....Here you go ever...   \n",
       "2  Here i am posting again, for some reason we ha...   \n",
       "3  Another i hate my second job and all the peopl...   \n",
       "4  urlLink Brainbench - The Measure of Achievemen...   \n",
       "5  Why does the posting page look different every...   \n",
       "\n",
       "                                            new_text       labels  \\\n",
       "0  ok thomas also one go everyone urllink blunt t...   accounting   \n",
       "2  posting reason problem house lost blog old hou...   accounting   \n",
       "3  another hate second job people work yup happen...   accounting   \n",
       "4  urllink brainbench measure achievement awesome...   accounting   \n",
       "5  posting page look different every time hell we...  advertising   \n",
       "\n",
       "                                        new_text_tok  \n",
       "0  [ok, thomas, also, one, go, everyone, urllink,...  \n",
       "2  [posting, reason, problem, house, lost, blog, ...  \n",
       "3  [another, hate, second, job, people, work, yup...  \n",
       "4  [urllink, brainbench, measure, achievement, aw...  \n",
       "5  [posting, page, look, different, every, time, ...  "
      ]
     },
     "execution_count": 69,
     "metadata": {},
     "output_type": "execute_result"
    }
   ],
   "source": [
    "corpus_df.head()"
   ]
  },
  {
   "cell_type": "code",
   "execution_count": 70,
   "metadata": {},
   "outputs": [
    {
     "data": {
      "text/html": [
       "<div>\n",
       "<style scoped>\n",
       "    .dataframe tbody tr th:only-of-type {\n",
       "        vertical-align: middle;\n",
       "    }\n",
       "\n",
       "    .dataframe tbody tr th {\n",
       "        vertical-align: top;\n",
       "    }\n",
       "\n",
       "    .dataframe thead th {\n",
       "        text-align: right;\n",
       "    }\n",
       "</style>\n",
       "<table border=\"1\" class=\"dataframe\">\n",
       "  <thead>\n",
       "    <tr style=\"text-align: right;\">\n",
       "      <th></th>\n",
       "      <th>text</th>\n",
       "      <th>text_new</th>\n",
       "      <th>new_text</th>\n",
       "      <th>labels</th>\n",
       "      <th>new_text_tok</th>\n",
       "      <th>Target</th>\n",
       "    </tr>\n",
       "  </thead>\n",
       "  <tbody>\n",
       "    <tr>\n",
       "      <th>0</th>\n",
       "      <td>ok, Thomas i also did one.....Here you ...</td>\n",
       "      <td>ok, Thomas i also did one.....Here you go ever...</td>\n",
       "      <td>ok thomas also one go everyone urllink blunt t...</td>\n",
       "      <td>accounting</td>\n",
       "      <td>[ok, thomas, also, one, go, everyone, urllink,...</td>\n",
       "      <td>0</td>\n",
       "    </tr>\n",
       "    <tr>\n",
       "      <th>2</th>\n",
       "      <td>Here i am posting again, for some reaso...</td>\n",
       "      <td>Here i am posting again, for some reason we ha...</td>\n",
       "      <td>posting reason problem house lost blog old hou...</td>\n",
       "      <td>accounting</td>\n",
       "      <td>[posting, reason, problem, house, lost, blog, ...</td>\n",
       "      <td>0</td>\n",
       "    </tr>\n",
       "    <tr>\n",
       "      <th>3</th>\n",
       "      <td>Another i hate my second job and all th...</td>\n",
       "      <td>Another i hate my second job and all the peopl...</td>\n",
       "      <td>another hate second job people work yup happen...</td>\n",
       "      <td>accounting</td>\n",
       "      <td>[another, hate, second, job, people, work, yup...</td>\n",
       "      <td>0</td>\n",
       "    </tr>\n",
       "    <tr>\n",
       "      <th>4</th>\n",
       "      <td>urlLink Brainbench - The Measure of Ac...</td>\n",
       "      <td>urlLink Brainbench - The Measure of Achievemen...</td>\n",
       "      <td>urllink brainbench measure achievement awesome...</td>\n",
       "      <td>accounting</td>\n",
       "      <td>[urllink, brainbench, measure, achievement, aw...</td>\n",
       "      <td>0</td>\n",
       "    </tr>\n",
       "    <tr>\n",
       "      <th>5</th>\n",
       "      <td>Why does the posting page loo...</td>\n",
       "      <td>Why does the posting page look different every...</td>\n",
       "      <td>posting page look different every time hell we...</td>\n",
       "      <td>advertising</td>\n",
       "      <td>[posting, page, look, different, every, time, ...</td>\n",
       "      <td>1</td>\n",
       "    </tr>\n",
       "  </tbody>\n",
       "</table>\n",
       "</div>"
      ],
      "text/plain": [
       "                                                text  \\\n",
       "0         ok, Thomas i also did one.....Here you ...   \n",
       "2         Here i am posting again, for some reaso...   \n",
       "3         Another i hate my second job and all th...   \n",
       "4          urlLink Brainbench - The Measure of Ac...   \n",
       "5                   Why does the posting page loo...   \n",
       "\n",
       "                                            text_new  \\\n",
       "0  ok, Thomas i also did one.....Here you go ever...   \n",
       "2  Here i am posting again, for some reason we ha...   \n",
       "3  Another i hate my second job and all the peopl...   \n",
       "4  urlLink Brainbench - The Measure of Achievemen...   \n",
       "5  Why does the posting page look different every...   \n",
       "\n",
       "                                            new_text       labels  \\\n",
       "0  ok thomas also one go everyone urllink blunt t...   accounting   \n",
       "2  posting reason problem house lost blog old hou...   accounting   \n",
       "3  another hate second job people work yup happen...   accounting   \n",
       "4  urllink brainbench measure achievement awesome...   accounting   \n",
       "5  posting page look different every time hell we...  advertising   \n",
       "\n",
       "                                        new_text_tok  Target  \n",
       "0  [ok, thomas, also, one, go, everyone, urllink,...       0  \n",
       "2  [posting, reason, problem, house, lost, blog, ...       0  \n",
       "3  [another, hate, second, job, people, work, yup...       0  \n",
       "4  [urllink, brainbench, measure, achievement, aw...       0  \n",
       "5  [posting, page, look, different, every, time, ...       1  "
      ]
     },
     "execution_count": 70,
     "metadata": {},
     "output_type": "execute_result"
    }
   ],
   "source": [
    "le = LabelEncoder()\n",
    "corpus_df['Target'] = le.fit_transform(corpus_df['labels'])\n",
    "corpus_df.head()"
   ]
  },
  {
   "cell_type": "markdown",
   "metadata": {},
   "source": [
    "### Train test split of labelled dataset"
   ]
  },
  {
   "cell_type": "code",
   "execution_count": 71,
   "metadata": {},
   "outputs": [],
   "source": [
    "X_train, X_val, y_train, y_val = train_test_split(corpus_df[\"text_new\"],corpus_df[\"Target\"],test_size=0.2,shuffle=True)"
   ]
  },
  {
   "cell_type": "code",
   "execution_count": 72,
   "metadata": {},
   "outputs": [],
   "source": [
    "X_train_tok= [nltk.word_tokenize(i) for i in X_train]  #for word2vec\n",
    "X_val_tok= [nltk.word_tokenize(i) for i in X_val]      #for word2vec"
   ]
  },
  {
   "cell_type": "code",
   "execution_count": 73,
   "metadata": {},
   "outputs": [],
   "source": [
    "#TF-IDF\n",
    "# Convert x_train to vector since model can only run on numbers and not words- Fit and transform\n",
    "tfidf_vectorizer = TfidfVectorizer(use_idf=True)"
   ]
  },
  {
   "cell_type": "code",
   "execution_count": 74,
   "metadata": {},
   "outputs": [],
   "source": [
    "#tfidf runs on non-tokenized sentences unlike word2vec\n",
    "X_train_vectors_tfidf = tfidf_vectorizer.fit_transform(X_train)"
   ]
  },
  {
   "cell_type": "code",
   "execution_count": 75,
   "metadata": {},
   "outputs": [],
   "source": [
    "# Only transform x_test (not fit and transform)\n",
    "X_val_vectors_tfidf = tfidf_vectorizer.transform(X_val)"
   ]
  },
  {
   "cell_type": "code",
   "execution_count": 76,
   "metadata": {},
   "outputs": [],
   "source": [
    "#Word2vec\n",
    "# Fit and transform\n",
    "modelw = MeanEmbeddingVectorizer(w2v)\n",
    "X_train_vectors_w2v = modelw.transform(X_train_tok)\n",
    "X_val_vectors_w2v = modelw.transform(X_val_tok)"
   ]
  },
  {
   "cell_type": "markdown",
   "metadata": {},
   "source": [
    "### Logistic Regression with TF-IDF "
   ]
  },
  {
   "cell_type": "code",
   "execution_count": 77,
   "metadata": {},
   "outputs": [],
   "source": [
    "lr_tfidf=LogisticRegression(solver = 'liblinear', C=10, penalty = 'l2')\n",
    "lr_tfidf.fit(X_train_vectors_tfidf, y_train)  #model\n",
    "\n",
    "#Predict y value for test dataset\n",
    "y_predict = lr_tfidf.predict(X_val_vectors_tfidf)\n",
    "y_prob = lr_tfidf.predict_proba(X_val_vectors_tfidf)[:,1]"
   ]
  },
  {
   "cell_type": "code",
   "execution_count": 78,
   "metadata": {},
   "outputs": [
    {
     "name": "stdout",
     "output_type": "stream",
     "text": [
      "Test Accuracy:0.40400216333153055\n",
      "F1: 0.40400216333153055\n",
      "F1_macro: 0.034900219617417606\n",
      "Precision: 0.40400216333153055\n",
      "Precision_macro: 0.14996448695285503\n",
      "Recall: 0.40400216333153055\n",
      "Recall_macro: 0.03720531462520551\n"
     ]
    },
    {
     "name": "stderr",
     "output_type": "stream",
     "text": [
      "C:\\Users\\KUMUD .LAPTOP-S0T3F3O8\\anaconda3\\lib\\site-packages\\sklearn\\metrics\\_classification.py:1318: UndefinedMetricWarning: Precision is ill-defined and being set to 0.0 in labels with no predicted samples. Use `zero_division` parameter to control this behavior.\n",
      "  _warn_prf(average, modifier, msg_start, len(result))\n"
     ]
    }
   ],
   "source": [
    "print(\"Test Accuracy:\" + str(accuracy_score(y_val,y_predict)))\n",
    "print(\"F1: \" + str(f1_score(y_val,y_predict, average='micro')))\n",
    "print(\"F1_macro: \" + str(f1_score(y_val,y_predict, average='macro')))\n",
    "print(\"Precision: \" + str(precision_score(y_val,y_predict, average='micro')))\n",
    "print(\"Precision_macro: \" + str(precision_score(y_val,y_predict, average='macro')))\n",
    "print(\"Recall: \" + str(recall_score(y_val,y_predict, average='micro')))\n",
    "print(\"Recall_macro: \" + str(recall_score(y_val,y_predict, average='macro')))"
   ]
  },
  {
   "cell_type": "markdown",
   "metadata": {},
   "source": [
    "### Logistic Regression with w2v "
   ]
  },
  {
   "cell_type": "code",
   "execution_count": 83,
   "metadata": {},
   "outputs": [],
   "source": [
    "#FITTING THE CLASSIFICATION MODEL using Logistic Regression (W2v)\n",
    "lr_w2v=LogisticRegression(solver = 'liblinear', C=10, penalty = 'l2')\n",
    "lr_w2v.fit(X_train_vectors_w2v, y_train)  #model\n",
    "\n",
    "#Predict y value for test dataset\n",
    "y_predict = lr_w2v.predict(X_val_vectors_w2v)\n",
    "y_prob = lr_w2v.predict_proba(X_val_vectors_w2v)[:,1]"
   ]
  },
  {
   "cell_type": "code",
   "execution_count": 84,
   "metadata": {},
   "outputs": [
    {
     "name": "stdout",
     "output_type": "stream",
     "text": [
      "Test Accuracy:0.3942671714440238\n",
      "F1: 0.3942671714440238\n",
      "F1_macro: 0.020520901745898698\n",
      "Precision: 0.3942671714440238\n",
      "Precision_macro: 0.02173472038797116\n",
      "Recall: 0.3942671714440238\n",
      "Recall_macro: 0.02843401298340384\n"
     ]
    },
    {
     "name": "stderr",
     "output_type": "stream",
     "text": [
      "C:\\Users\\KUMUD .LAPTOP-S0T3F3O8\\anaconda3\\lib\\site-packages\\sklearn\\metrics\\_classification.py:1318: UndefinedMetricWarning: Precision is ill-defined and being set to 0.0 in labels with no predicted samples. Use `zero_division` parameter to control this behavior.\n",
      "  _warn_prf(average, modifier, msg_start, len(result))\n"
     ]
    }
   ],
   "source": [
    "print(\"Test Accuracy:\" + str(accuracy_score(y_val,y_predict)))\n",
    "print(\"F1: \" + str(f1_score(y_val,y_predict, average='micro')))\n",
    "print(\"F1_macro: \" + str(f1_score(y_val,y_predict, average='macro')))\n",
    "print(\"Precision: \" + str(precision_score(y_val,y_predict, average='micro')))\n",
    "print(\"Precision_macro: \" + str(precision_score(y_val,y_predict, average='macro')))\n",
    "print(\"Recall: \" + str(recall_score(y_val,y_predict, average='micro')))\n",
    "print(\"Recall_macro: \" + str(recall_score(y_val,y_predict, average='macro')))"
   ]
  },
  {
   "cell_type": "code",
   "execution_count": null,
   "metadata": {},
   "outputs": [],
   "source": []
  },
  {
   "cell_type": "markdown",
   "metadata": {},
   "source": [
    "### 4.B: Building classifers model for other algorithms "
   ]
  },
  {
   "cell_type": "raw",
   "metadata": {},
   "source": [
    "Glove Embeddings - Using pre-trained glove model"
   ]
  },
  {
   "cell_type": "code",
   "execution_count": 86,
   "metadata": {},
   "outputs": [
    {
     "name": "stdout",
     "output_type": "stream",
     "text": [
      "Loaded 400000 word vectors.\n"
     ]
    }
   ],
   "source": [
    "glove_path = 'C:/Users/KUMUD .LAPTOP-S0T3F3O8/Desktop/NLP/glove.6B.300d.txt'\n",
    "embeddings_index = {}\n",
    "f = open(glove_path, encoding='utf8')\n",
    "\n",
    "for line in f:\n",
    "    values = line.split()\n",
    "    word = values[0]\n",
    "    coefs = np.asarray(values[1:], dtype='float32')\n",
    "    embeddings_index[word] = coefs\n",
    "    #print(embeddings_index)\n",
    "f.close()\n",
    "\n",
    "print('Loaded %s word vectors.' % len(embeddings_index))"
   ]
  },
  {
   "cell_type": "code",
   "execution_count": 87,
   "metadata": {},
   "outputs": [],
   "source": [
    "# list all golve words\n",
    "all_glove_words = list(embeddings_index.keys())"
   ]
  },
  {
   "cell_type": "markdown",
   "metadata": {},
   "source": [
    "### Tokenizer - After fit on all GloVe words, tokenizer vocabulary size is 400k words"
   ]
  },
  {
   "cell_type": "code",
   "execution_count": 88,
   "metadata": {},
   "outputs": [],
   "source": [
    "# Tokenize\n",
    "vocabulary_size = len(all_glove_words)\n",
    "tokenizer = Tokenizer() #num_words= vocabulary_size\n",
    "tokenizer.fit_on_texts(all_glove_words) "
   ]
  },
  {
   "cell_type": "markdown",
   "metadata": {},
   "source": [
    "### Creat Embedding Matrix "
   ]
  },
  {
   "cell_type": "code",
   "execution_count": 90,
   "metadata": {},
   "outputs": [],
   "source": [
    "# create a weight matrix for words in training docs\n",
    "embedding_matrix = np.zeros((vocabulary_size, 300)) \n",
    "for word, index in tokenizer.word_index.items():\n",
    "    if index > vocabulary_size - 1:\n",
    "        break\n",
    "    else:\n",
    "        embedding_vector = embeddings_index.get(word)\n",
    "        if embedding_vector is not None:\n",
    "            embedding_matrix[index] = embedding_vector"
   ]
  },
  {
   "cell_type": "code",
   "execution_count": 91,
   "metadata": {},
   "outputs": [
    {
     "name": "stdout",
     "output_type": "stream",
     "text": [
      "(400000, 300)\n"
     ]
    }
   ],
   "source": [
    "print(embedding_matrix.shape)"
   ]
  },
  {
   "cell_type": "code",
   "execution_count": 92,
   "metadata": {},
   "outputs": [
    {
     "data": {
      "text/html": [
       "<div>\n",
       "<style scoped>\n",
       "    .dataframe tbody tr th:only-of-type {\n",
       "        vertical-align: middle;\n",
       "    }\n",
       "\n",
       "    .dataframe tbody tr th {\n",
       "        vertical-align: top;\n",
       "    }\n",
       "\n",
       "    .dataframe thead th {\n",
       "        text-align: right;\n",
       "    }\n",
       "</style>\n",
       "<table border=\"1\" class=\"dataframe\">\n",
       "  <thead>\n",
       "    <tr style=\"text-align: right;\">\n",
       "      <th></th>\n",
       "      <th>text</th>\n",
       "      <th>text_new</th>\n",
       "      <th>new_text</th>\n",
       "      <th>labels</th>\n",
       "      <th>new_text_tok</th>\n",
       "      <th>Target</th>\n",
       "    </tr>\n",
       "  </thead>\n",
       "  <tbody>\n",
       "    <tr>\n",
       "      <th>0</th>\n",
       "      <td>ok, Thomas i also did one.....Here you ...</td>\n",
       "      <td>ok, Thomas i also did one.....Here you go ever...</td>\n",
       "      <td>ok thomas also one go everyone urllink blunt t...</td>\n",
       "      <td>accounting</td>\n",
       "      <td>[ok, thomas, also, one, go, everyone, urllink,...</td>\n",
       "      <td>0</td>\n",
       "    </tr>\n",
       "    <tr>\n",
       "      <th>2</th>\n",
       "      <td>Here i am posting again, for some reaso...</td>\n",
       "      <td>Here i am posting again, for some reason we ha...</td>\n",
       "      <td>posting reason problem house lost blog old hou...</td>\n",
       "      <td>accounting</td>\n",
       "      <td>[posting, reason, problem, house, lost, blog, ...</td>\n",
       "      <td>0</td>\n",
       "    </tr>\n",
       "    <tr>\n",
       "      <th>3</th>\n",
       "      <td>Another i hate my second job and all th...</td>\n",
       "      <td>Another i hate my second job and all the peopl...</td>\n",
       "      <td>another hate second job people work yup happen...</td>\n",
       "      <td>accounting</td>\n",
       "      <td>[another, hate, second, job, people, work, yup...</td>\n",
       "      <td>0</td>\n",
       "    </tr>\n",
       "    <tr>\n",
       "      <th>4</th>\n",
       "      <td>urlLink Brainbench - The Measure of Ac...</td>\n",
       "      <td>urlLink Brainbench - The Measure of Achievemen...</td>\n",
       "      <td>urllink brainbench measure achievement awesome...</td>\n",
       "      <td>accounting</td>\n",
       "      <td>[urllink, brainbench, measure, achievement, aw...</td>\n",
       "      <td>0</td>\n",
       "    </tr>\n",
       "    <tr>\n",
       "      <th>5</th>\n",
       "      <td>Why does the posting page loo...</td>\n",
       "      <td>Why does the posting page look different every...</td>\n",
       "      <td>posting page look different every time hell we...</td>\n",
       "      <td>advertising</td>\n",
       "      <td>[posting, page, look, different, every, time, ...</td>\n",
       "      <td>1</td>\n",
       "    </tr>\n",
       "  </tbody>\n",
       "</table>\n",
       "</div>"
      ],
      "text/plain": [
       "                                                text  \\\n",
       "0         ok, Thomas i also did one.....Here you ...   \n",
       "2         Here i am posting again, for some reaso...   \n",
       "3         Another i hate my second job and all th...   \n",
       "4          urlLink Brainbench - The Measure of Ac...   \n",
       "5                   Why does the posting page loo...   \n",
       "\n",
       "                                            text_new  \\\n",
       "0  ok, Thomas i also did one.....Here you go ever...   \n",
       "2  Here i am posting again, for some reason we ha...   \n",
       "3  Another i hate my second job and all the peopl...   \n",
       "4  urlLink Brainbench - The Measure of Achievemen...   \n",
       "5  Why does the posting page look different every...   \n",
       "\n",
       "                                            new_text       labels  \\\n",
       "0  ok thomas also one go everyone urllink blunt t...   accounting   \n",
       "2  posting reason problem house lost blog old hou...   accounting   \n",
       "3  another hate second job people work yup happen...   accounting   \n",
       "4  urllink brainbench measure achievement awesome...   accounting   \n",
       "5  posting page look different every time hell we...  advertising   \n",
       "\n",
       "                                        new_text_tok  Target  \n",
       "0  [ok, thomas, also, one, go, everyone, urllink,...       0  \n",
       "2  [posting, reason, problem, house, lost, blog, ...       0  \n",
       "3  [another, hate, second, job, people, work, yup...       0  \n",
       "4  [urllink, brainbench, measure, achievement, aw...       0  \n",
       "5  [posting, page, look, different, every, time, ...       1  "
      ]
     },
     "execution_count": 92,
     "metadata": {},
     "output_type": "execute_result"
    }
   ],
   "source": [
    "corpus_df.head()"
   ]
  },
  {
   "cell_type": "code",
   "execution_count": 93,
   "metadata": {},
   "outputs": [
    {
     "data": {
      "text/plain": [
       "40"
      ]
     },
     "execution_count": 93,
     "metadata": {},
     "output_type": "execute_result"
    }
   ],
   "source": [
    "corpus_df['labels'].nunique()"
   ]
  },
  {
   "cell_type": "code",
   "execution_count": 94,
   "metadata": {},
   "outputs": [
    {
     "name": "stdout",
     "output_type": "stream",
     "text": [
      "['accounting' 'advertising' 'arts' 'banking' 'biotech' 'businessservices'\n",
      " 'communications-media' 'consulting' 'education' 'environment' 'fashion'\n",
      " 'government' 'humanresources' 'internet' 'law' 'manufacturing'\n",
      " 'marketing' 'non-profit' 'publishing' 'religion' 'science'\n",
      " 'sports-recreation' 'student' 'technology' 'transportation'\n",
      " 'unknown_industry' 'chemicals' 'construction' 'engineering'\n",
      " 'investmentbanking' 'military' 'museums-libraries' 'tourism'\n",
      " 'architecture' 'lawenforcement-security' 'realestate'\n",
      " 'telecommunications' 'agriculture' 'automotive' 'maritime']\n"
     ]
    }
   ],
   "source": [
    "print(corpus_df.labels.unique())"
   ]
  },
  {
   "cell_type": "code",
   "execution_count": 95,
   "metadata": {},
   "outputs": [],
   "source": [
    "labels = corpus_df['Target']\n",
    "\n",
    "num_classes = 40\n",
    "labels_cat = keras.utils.to_categorical(np.array(labels), num_classes)"
   ]
  },
  {
   "cell_type": "code",
   "execution_count": 96,
   "metadata": {},
   "outputs": [],
   "source": [
    "maxlen = 750\n",
    "sequences = tokenizer.texts_to_sequences(corpus_df['new_text_tok'])\n",
    "data = pad_sequences(sequences, maxlen=maxlen)"
   ]
  },
  {
   "cell_type": "code",
   "execution_count": 97,
   "metadata": {},
   "outputs": [],
   "source": [
    "model_glove = Sequential()\n",
    "model_glove.add(Embedding(vocabulary_size, output_dim=300, input_length=maxlen, weights=[embedding_matrix], trainable=False))\n",
    "#model_glove.add(Dropout(0.2))\n",
    "#model_glove.add(Conv1D(64, 2, activation='relu')) \n",
    "model_glove.add(LSTM(64))\n",
    "model_glove.add(Dense(40, activation='softmax'))\n",
    "\n",
    "model_glove.compile(loss='categorical_crossentropy', optimizer='adam', metrics=['accuracy'])"
   ]
  },
  {
   "cell_type": "code",
   "execution_count": 98,
   "metadata": {},
   "outputs": [],
   "source": [
    "X_train, X_val, y_train, y_val = train_test_split(data, labels_cat, test_size=0.2, random_state=1)"
   ]
  },
  {
   "cell_type": "code",
   "execution_count": 99,
   "metadata": {},
   "outputs": [
    {
     "name": "stdout",
     "output_type": "stream",
     "text": [
      "Epoch 1/10\n",
      "231/231 - 82s - loss: 2.3024 - accuracy: 0.3816 - 82s/epoch - 353ms/step\n",
      "Epoch 2/10\n",
      "231/231 - 70s - loss: 2.1718 - accuracy: 0.4010 - 70s/epoch - 305ms/step\n",
      "Epoch 3/10\n",
      "231/231 - 73s - loss: 2.1294 - accuracy: 0.4096 - 73s/epoch - 317ms/step\n",
      "Epoch 4/10\n",
      "231/231 - 73s - loss: 2.0766 - accuracy: 0.4215 - 73s/epoch - 317ms/step\n",
      "Epoch 5/10\n",
      "231/231 - 74s - loss: 2.0200 - accuracy: 0.4340 - 74s/epoch - 319ms/step\n",
      "Epoch 6/10\n",
      "231/231 - 73s - loss: 1.9602 - accuracy: 0.4483 - 73s/epoch - 316ms/step\n",
      "Epoch 7/10\n",
      "231/231 - 75s - loss: 1.8860 - accuracy: 0.4605 - 75s/epoch - 326ms/step\n",
      "Epoch 8/10\n",
      "231/231 - 74s - loss: 1.8096 - accuracy: 0.4857 - 74s/epoch - 321ms/step\n",
      "Epoch 9/10\n",
      "231/231 - 75s - loss: 1.7210 - accuracy: 0.5076 - 75s/epoch - 327ms/step\n",
      "Epoch 10/10\n",
      "231/231 - 79s - loss: 1.6368 - accuracy: 0.5303 - 79s/epoch - 340ms/step\n"
     ]
    },
    {
     "data": {
      "text/plain": [
       "<keras.callbacks.History at 0x2c6ce733ee0>"
      ]
     },
     "execution_count": 99,
     "metadata": {},
     "output_type": "execute_result"
    }
   ],
   "source": [
    "# training the model\n",
    "model_glove.fit(X_train, y_train, epochs = 10, verbose=2)"
   ]
  },
  {
   "cell_type": "code",
   "execution_count": 100,
   "metadata": {},
   "outputs": [
    {
     "name": "stdout",
     "output_type": "stream",
     "text": [
      "58/58 [==============================] - 12s 180ms/step - loss: 2.3266 - accuracy: 0.3835\n"
     ]
    }
   ],
   "source": [
    "score, acc = model_glove.evaluate(X_val, y_val)"
   ]
  },
  {
   "cell_type": "code",
   "execution_count": 101,
   "metadata": {},
   "outputs": [
    {
     "name": "stdout",
     "output_type": "stream",
     "text": [
      "Test score: 2.326601266860962\n",
      "Test accuracy: 0.3834505081176758\n"
     ]
    }
   ],
   "source": [
    "print('Test score:', score)\n",
    "print('Test accuracy:', acc)"
   ]
  },
  {
   "cell_type": "code",
   "execution_count": null,
   "metadata": {},
   "outputs": [],
   "source": []
  },
  {
   "cell_type": "markdown",
   "metadata": {},
   "source": [
    "### 4C. Tune Parameters/Hyperparameters of the model/s"
   ]
  },
  {
   "cell_type": "code",
   "execution_count": 104,
   "metadata": {},
   "outputs": [],
   "source": [
    "param_list = {\n",
    "    \"penalty\" :         [\"l2\", \"l1\"],\n",
    "    \"C\" :               [ 1.0, 1e-1, 5e-1 ],\n",
    "    \"class_weight\" :    [\"balanced\", None],\n",
    "    \"solver\" :          [\"newton-cg\", \"sag\"],\n",
    "    \"l1_ratio\" :        [0.1, 0.2, 0.3]\n",
    "}"
   ]
  },
  {
   "cell_type": "code",
   "execution_count": 111,
   "metadata": {},
   "outputs": [
    {
     "name": "stdout",
     "output_type": "stream",
     "text": [
      "Fitting 5 folds for each of 20 candidates, totalling 100 fits\n",
      "[CV 1/5; 1/20] START C=1.0, class_weight=balanced, l1_ratio=0.3, penalty=elasticnet, solver=newton-cg\n",
      "[CV 1/5; 1/20] END C=1.0, class_weight=balanced, l1_ratio=0.3, penalty=elasticnet, solver=newton-cg;, score=nan total time=   0.0s\n",
      "[CV 2/5; 1/20] START C=1.0, class_weight=balanced, l1_ratio=0.3, penalty=elasticnet, solver=newton-cg\n",
      "[CV 2/5; 1/20] END C=1.0, class_weight=balanced, l1_ratio=0.3, penalty=elasticnet, solver=newton-cg;, score=nan total time=   0.0s\n",
      "[CV 3/5; 1/20] START C=1.0, class_weight=balanced, l1_ratio=0.3, penalty=elasticnet, solver=newton-cg\n",
      "[CV 3/5; 1/20] END C=1.0, class_weight=balanced, l1_ratio=0.3, penalty=elasticnet, solver=newton-cg;, score=nan total time=   0.0s\n",
      "[CV 4/5; 1/20] START C=1.0, class_weight=balanced, l1_ratio=0.3, penalty=elasticnet, solver=newton-cg\n",
      "[CV 4/5; 1/20] END C=1.0, class_weight=balanced, l1_ratio=0.3, penalty=elasticnet, solver=newton-cg;, score=nan total time=   0.0s\n",
      "[CV 5/5; 1/20] START C=1.0, class_weight=balanced, l1_ratio=0.3, penalty=elasticnet, solver=newton-cg\n",
      "[CV 5/5; 1/20] END C=1.0, class_weight=balanced, l1_ratio=0.3, penalty=elasticnet, solver=newton-cg;, score=nan total time=   0.0s\n",
      "[CV 1/5; 2/20] START C=0.1, class_weight=balanced, l1_ratio=0.1, penalty=l2, solver=sag\n"
     ]
    },
    {
     "name": "stderr",
     "output_type": "stream",
     "text": [
      "C:\\Users\\KUMUD .LAPTOP-S0T3F3O8\\anaconda3\\lib\\site-packages\\sklearn\\model_selection\\_split.py:676: UserWarning: The least populated class in y has only 1 members, which is less than n_splits=5.\n",
      "  warnings.warn(\n",
      "C:\\Users\\KUMUD .LAPTOP-S0T3F3O8\\anaconda3\\lib\\site-packages\\sklearn\\linear_model\\_logistic.py:1476: UserWarning: l1_ratio parameter is only used when penalty is 'elasticnet'. Got (penalty=l2)\n",
      "  warnings.warn(\n",
      "C:\\Users\\KUMUD .LAPTOP-S0T3F3O8\\anaconda3\\lib\\site-packages\\sklearn\\linear_model\\_sag.py:352: ConvergenceWarning: The max_iter was reached which means the coef_ did not converge\n",
      "  warnings.warn(\n",
      "C:\\Users\\KUMUD .LAPTOP-S0T3F3O8\\anaconda3\\lib\\site-packages\\sklearn\\linear_model\\_logistic.py:1476: UserWarning: l1_ratio parameter is only used when penalty is 'elasticnet'. Got (penalty=l2)\n",
      "  warnings.warn(\n"
     ]
    },
    {
     "name": "stdout",
     "output_type": "stream",
     "text": [
      "[CV 1/5; 2/20] END C=0.1, class_weight=balanced, l1_ratio=0.1, penalty=l2, solver=sag;, score=0.002 total time=  17.8s\n",
      "[CV 2/5; 2/20] START C=0.1, class_weight=balanced, l1_ratio=0.1, penalty=l2, solver=sag\n"
     ]
    },
    {
     "name": "stderr",
     "output_type": "stream",
     "text": [
      "C:\\Users\\KUMUD .LAPTOP-S0T3F3O8\\anaconda3\\lib\\site-packages\\sklearn\\linear_model\\_sag.py:352: ConvergenceWarning: The max_iter was reached which means the coef_ did not converge\n",
      "  warnings.warn(\n",
      "C:\\Users\\KUMUD .LAPTOP-S0T3F3O8\\anaconda3\\lib\\site-packages\\sklearn\\linear_model\\_logistic.py:1476: UserWarning: l1_ratio parameter is only used when penalty is 'elasticnet'. Got (penalty=l2)\n",
      "  warnings.warn(\n"
     ]
    },
    {
     "name": "stdout",
     "output_type": "stream",
     "text": [
      "[CV 2/5; 2/20] END C=0.1, class_weight=balanced, l1_ratio=0.1, penalty=l2, solver=sag;, score=0.004 total time=  17.9s\n",
      "[CV 3/5; 2/20] START C=0.1, class_weight=balanced, l1_ratio=0.1, penalty=l2, solver=sag\n"
     ]
    },
    {
     "name": "stderr",
     "output_type": "stream",
     "text": [
      "C:\\Users\\KUMUD .LAPTOP-S0T3F3O8\\anaconda3\\lib\\site-packages\\sklearn\\linear_model\\_sag.py:352: ConvergenceWarning: The max_iter was reached which means the coef_ did not converge\n",
      "  warnings.warn(\n",
      "C:\\Users\\KUMUD .LAPTOP-S0T3F3O8\\anaconda3\\lib\\site-packages\\sklearn\\linear_model\\_logistic.py:1476: UserWarning: l1_ratio parameter is only used when penalty is 'elasticnet'. Got (penalty=l2)\n",
      "  warnings.warn(\n"
     ]
    },
    {
     "name": "stdout",
     "output_type": "stream",
     "text": [
      "[CV 3/5; 2/20] END C=0.1, class_weight=balanced, l1_ratio=0.1, penalty=l2, solver=sag;, score=0.001 total time=  18.4s\n",
      "[CV 4/5; 2/20] START C=0.1, class_weight=balanced, l1_ratio=0.1, penalty=l2, solver=sag\n"
     ]
    },
    {
     "name": "stderr",
     "output_type": "stream",
     "text": [
      "C:\\Users\\KUMUD .LAPTOP-S0T3F3O8\\anaconda3\\lib\\site-packages\\sklearn\\linear_model\\_sag.py:352: ConvergenceWarning: The max_iter was reached which means the coef_ did not converge\n",
      "  warnings.warn(\n",
      "C:\\Users\\KUMUD .LAPTOP-S0T3F3O8\\anaconda3\\lib\\site-packages\\sklearn\\linear_model\\_logistic.py:1476: UserWarning: l1_ratio parameter is only used when penalty is 'elasticnet'. Got (penalty=l2)\n",
      "  warnings.warn(\n"
     ]
    },
    {
     "name": "stdout",
     "output_type": "stream",
     "text": [
      "[CV 4/5; 2/20] END C=0.1, class_weight=balanced, l1_ratio=0.1, penalty=l2, solver=sag;, score=0.001 total time=  20.0s\n",
      "[CV 5/5; 2/20] START C=0.1, class_weight=balanced, l1_ratio=0.1, penalty=l2, solver=sag\n"
     ]
    },
    {
     "name": "stderr",
     "output_type": "stream",
     "text": [
      "C:\\Users\\KUMUD .LAPTOP-S0T3F3O8\\anaconda3\\lib\\site-packages\\sklearn\\linear_model\\_sag.py:352: ConvergenceWarning: The max_iter was reached which means the coef_ did not converge\n",
      "  warnings.warn(\n",
      "C:\\Users\\KUMUD .LAPTOP-S0T3F3O8\\anaconda3\\lib\\site-packages\\sklearn\\linear_model\\_logistic.py:1476: UserWarning: l1_ratio parameter is only used when penalty is 'elasticnet'. Got (penalty=l2)\n",
      "  warnings.warn(\n"
     ]
    },
    {
     "name": "stdout",
     "output_type": "stream",
     "text": [
      "[CV 5/5; 2/20] END C=0.1, class_weight=balanced, l1_ratio=0.1, penalty=l2, solver=sag;, score=0.005 total time=  17.6s\n",
      "[CV 1/5; 3/20] START C=1.0, class_weight=None, l1_ratio=0.3, penalty=elasticnet, solver=sag\n",
      "[CV 1/5; 3/20] END C=1.0, class_weight=None, l1_ratio=0.3, penalty=elasticnet, solver=sag;, score=nan total time=   0.0s\n",
      "[CV 2/5; 3/20] START C=1.0, class_weight=None, l1_ratio=0.3, penalty=elasticnet, solver=sag\n",
      "[CV 2/5; 3/20] END C=1.0, class_weight=None, l1_ratio=0.3, penalty=elasticnet, solver=sag;, score=nan total time=   0.0s\n",
      "[CV 3/5; 3/20] START C=1.0, class_weight=None, l1_ratio=0.3, penalty=elasticnet, solver=sag\n",
      "[CV 3/5; 3/20] END C=1.0, class_weight=None, l1_ratio=0.3, penalty=elasticnet, solver=sag;, score=nan total time=   0.0s\n",
      "[CV 4/5; 3/20] START C=1.0, class_weight=None, l1_ratio=0.3, penalty=elasticnet, solver=sag\n",
      "[CV 4/5; 3/20] END C=1.0, class_weight=None, l1_ratio=0.3, penalty=elasticnet, solver=sag;, score=nan total time=   0.0s\n",
      "[CV 5/5; 3/20] START C=1.0, class_weight=None, l1_ratio=0.3, penalty=elasticnet, solver=sag\n",
      "[CV 5/5; 3/20] END C=1.0, class_weight=None, l1_ratio=0.3, penalty=elasticnet, solver=sag;, score=nan total time=   0.0s\n",
      "[CV 1/5; 4/20] START C=0.5, class_weight=None, l1_ratio=0.2, penalty=elasticnet, solver=newton-cg\n",
      "[CV 1/5; 4/20] END C=0.5, class_weight=None, l1_ratio=0.2, penalty=elasticnet, solver=newton-cg;, score=nan total time=   0.0s\n",
      "[CV 2/5; 4/20] START C=0.5, class_weight=None, l1_ratio=0.2, penalty=elasticnet, solver=newton-cg\n",
      "[CV 2/5; 4/20] END C=0.5, class_weight=None, l1_ratio=0.2, penalty=elasticnet, solver=newton-cg;, score=nan total time=   0.0s\n",
      "[CV 3/5; 4/20] START C=0.5, class_weight=None, l1_ratio=0.2, penalty=elasticnet, solver=newton-cg\n",
      "[CV 3/5; 4/20] END C=0.5, class_weight=None, l1_ratio=0.2, penalty=elasticnet, solver=newton-cg;, score=nan total time=   0.0s\n",
      "[CV 4/5; 4/20] START C=0.5, class_weight=None, l1_ratio=0.2, penalty=elasticnet, solver=newton-cg\n",
      "[CV 4/5; 4/20] END C=0.5, class_weight=None, l1_ratio=0.2, penalty=elasticnet, solver=newton-cg;, score=nan total time=   0.0s\n",
      "[CV 5/5; 4/20] START C=0.5, class_weight=None, l1_ratio=0.2, penalty=elasticnet, solver=newton-cg\n",
      "[CV 5/5; 4/20] END C=0.5, class_weight=None, l1_ratio=0.2, penalty=elasticnet, solver=newton-cg;, score=nan total time=   0.0s\n",
      "[CV 1/5; 5/20] START C=1.0, class_weight=None, l1_ratio=0.2, penalty=l2, solver=newton-cg\n",
      "[CV 1/5; 5/20] END C=1.0, class_weight=None, l1_ratio=0.2, penalty=l2, solver=newton-cg;, score=0.377 total time= 1.0min\n",
      "[CV 2/5; 5/20] START C=1.0, class_weight=None, l1_ratio=0.2, penalty=l2, solver=newton-cg\n"
     ]
    },
    {
     "name": "stderr",
     "output_type": "stream",
     "text": [
      "C:\\Users\\KUMUD .LAPTOP-S0T3F3O8\\anaconda3\\lib\\site-packages\\sklearn\\linear_model\\_logistic.py:1476: UserWarning: l1_ratio parameter is only used when penalty is 'elasticnet'. Got (penalty=l2)\n",
      "  warnings.warn(\n"
     ]
    },
    {
     "name": "stdout",
     "output_type": "stream",
     "text": [
      "[CV 2/5; 5/20] END C=1.0, class_weight=None, l1_ratio=0.2, penalty=l2, solver=newton-cg;, score=0.379 total time= 1.0min\n",
      "[CV 3/5; 5/20] START C=1.0, class_weight=None, l1_ratio=0.2, penalty=l2, solver=newton-cg\n"
     ]
    },
    {
     "name": "stderr",
     "output_type": "stream",
     "text": [
      "C:\\Users\\KUMUD .LAPTOP-S0T3F3O8\\anaconda3\\lib\\site-packages\\sklearn\\linear_model\\_logistic.py:1476: UserWarning: l1_ratio parameter is only used when penalty is 'elasticnet'. Got (penalty=l2)\n",
      "  warnings.warn(\n"
     ]
    },
    {
     "name": "stdout",
     "output_type": "stream",
     "text": [
      "[CV 3/5; 5/20] END C=1.0, class_weight=None, l1_ratio=0.2, penalty=l2, solver=newton-cg;, score=0.389 total time= 1.0min\n",
      "[CV 4/5; 5/20] START C=1.0, class_weight=None, l1_ratio=0.2, penalty=l2, solver=newton-cg\n"
     ]
    },
    {
     "name": "stderr",
     "output_type": "stream",
     "text": [
      "C:\\Users\\KUMUD .LAPTOP-S0T3F3O8\\anaconda3\\lib\\site-packages\\sklearn\\linear_model\\_logistic.py:1476: UserWarning: l1_ratio parameter is only used when penalty is 'elasticnet'. Got (penalty=l2)\n",
      "  warnings.warn(\n"
     ]
    },
    {
     "name": "stdout",
     "output_type": "stream",
     "text": [
      "[CV 4/5; 5/20] END C=1.0, class_weight=None, l1_ratio=0.2, penalty=l2, solver=newton-cg;, score=0.378 total time= 1.1min\n",
      "[CV 5/5; 5/20] START C=1.0, class_weight=None, l1_ratio=0.2, penalty=l2, solver=newton-cg\n"
     ]
    },
    {
     "name": "stderr",
     "output_type": "stream",
     "text": [
      "C:\\Users\\KUMUD .LAPTOP-S0T3F3O8\\anaconda3\\lib\\site-packages\\sklearn\\linear_model\\_logistic.py:1476: UserWarning: l1_ratio parameter is only used when penalty is 'elasticnet'. Got (penalty=l2)\n",
      "  warnings.warn(\n"
     ]
    },
    {
     "name": "stdout",
     "output_type": "stream",
     "text": [
      "[CV 5/5; 5/20] END C=1.0, class_weight=None, l1_ratio=0.2, penalty=l2, solver=newton-cg;, score=0.383 total time=  59.8s\n",
      "[CV 1/5; 6/20] START C=0.5, class_weight=None, l1_ratio=0.2, penalty=l2, solver=sag\n"
     ]
    },
    {
     "name": "stderr",
     "output_type": "stream",
     "text": [
      "C:\\Users\\KUMUD .LAPTOP-S0T3F3O8\\anaconda3\\lib\\site-packages\\sklearn\\linear_model\\_logistic.py:1476: UserWarning: l1_ratio parameter is only used when penalty is 'elasticnet'. Got (penalty=l2)\n",
      "  warnings.warn(\n",
      "C:\\Users\\KUMUD .LAPTOP-S0T3F3O8\\anaconda3\\lib\\site-packages\\sklearn\\linear_model\\_sag.py:352: ConvergenceWarning: The max_iter was reached which means the coef_ did not converge\n",
      "  warnings.warn(\n",
      "C:\\Users\\KUMUD .LAPTOP-S0T3F3O8\\anaconda3\\lib\\site-packages\\sklearn\\linear_model\\_logistic.py:1476: UserWarning: l1_ratio parameter is only used when penalty is 'elasticnet'. Got (penalty=l2)\n",
      "  warnings.warn(\n"
     ]
    },
    {
     "name": "stdout",
     "output_type": "stream",
     "text": [
      "[CV 1/5; 6/20] END C=0.5, class_weight=None, l1_ratio=0.2, penalty=l2, solver=sag;, score=0.389 total time=  20.1s\n",
      "[CV 2/5; 6/20] START C=0.5, class_weight=None, l1_ratio=0.2, penalty=l2, solver=sag\n",
      "[CV 2/5; 6/20] END C=0.5, class_weight=None, l1_ratio=0.2, penalty=l2, solver=sag;, score=0.385 total time=  16.7s\n",
      "[CV 3/5; 6/20] START C=0.5, class_weight=None, l1_ratio=0.2, penalty=l2, solver=sag\n"
     ]
    },
    {
     "name": "stderr",
     "output_type": "stream",
     "text": [
      "C:\\Users\\KUMUD .LAPTOP-S0T3F3O8\\anaconda3\\lib\\site-packages\\sklearn\\linear_model\\_logistic.py:1476: UserWarning: l1_ratio parameter is only used when penalty is 'elasticnet'. Got (penalty=l2)\n",
      "  warnings.warn(\n",
      "C:\\Users\\KUMUD .LAPTOP-S0T3F3O8\\anaconda3\\lib\\site-packages\\sklearn\\linear_model\\_sag.py:352: ConvergenceWarning: The max_iter was reached which means the coef_ did not converge\n",
      "  warnings.warn(\n",
      "C:\\Users\\KUMUD .LAPTOP-S0T3F3O8\\anaconda3\\lib\\site-packages\\sklearn\\linear_model\\_logistic.py:1476: UserWarning: l1_ratio parameter is only used when penalty is 'elasticnet'. Got (penalty=l2)\n",
      "  warnings.warn(\n"
     ]
    },
    {
     "name": "stdout",
     "output_type": "stream",
     "text": [
      "[CV 3/5; 6/20] END C=0.5, class_weight=None, l1_ratio=0.2, penalty=l2, solver=sag;, score=0.391 total time=  19.9s\n",
      "[CV 4/5; 6/20] START C=0.5, class_weight=None, l1_ratio=0.2, penalty=l2, solver=sag\n"
     ]
    },
    {
     "name": "stderr",
     "output_type": "stream",
     "text": [
      "C:\\Users\\KUMUD .LAPTOP-S0T3F3O8\\anaconda3\\lib\\site-packages\\sklearn\\linear_model\\_sag.py:352: ConvergenceWarning: The max_iter was reached which means the coef_ did not converge\n",
      "  warnings.warn(\n",
      "C:\\Users\\KUMUD .LAPTOP-S0T3F3O8\\anaconda3\\lib\\site-packages\\sklearn\\linear_model\\_logistic.py:1476: UserWarning: l1_ratio parameter is only used when penalty is 'elasticnet'. Got (penalty=l2)\n",
      "  warnings.warn(\n"
     ]
    },
    {
     "name": "stdout",
     "output_type": "stream",
     "text": [
      "[CV 4/5; 6/20] END C=0.5, class_weight=None, l1_ratio=0.2, penalty=l2, solver=sag;, score=0.387 total time=  20.1s\n",
      "[CV 5/5; 6/20] START C=0.5, class_weight=None, l1_ratio=0.2, penalty=l2, solver=sag\n"
     ]
    },
    {
     "name": "stderr",
     "output_type": "stream",
     "text": [
      "C:\\Users\\KUMUD .LAPTOP-S0T3F3O8\\anaconda3\\lib\\site-packages\\sklearn\\linear_model\\_sag.py:352: ConvergenceWarning: The max_iter was reached which means the coef_ did not converge\n",
      "  warnings.warn(\n",
      "C:\\Users\\KUMUD .LAPTOP-S0T3F3O8\\anaconda3\\lib\\site-packages\\sklearn\\linear_model\\_logistic.py:1476: UserWarning: l1_ratio parameter is only used when penalty is 'elasticnet'. Got (penalty=l2)\n",
      "  warnings.warn(\n"
     ]
    },
    {
     "name": "stdout",
     "output_type": "stream",
     "text": [
      "[CV 5/5; 6/20] END C=0.5, class_weight=None, l1_ratio=0.2, penalty=l2, solver=sag;, score=0.385 total time=  18.7s\n",
      "[CV 1/5; 7/20] START C=1.0, class_weight=balanced, l1_ratio=0.1, penalty=l2, solver=newton-cg\n",
      "[CV 1/5; 7/20] END C=1.0, class_weight=balanced, l1_ratio=0.1, penalty=l2, solver=newton-cg;, score=0.025 total time=  32.1s\n",
      "[CV 2/5; 7/20] START C=1.0, class_weight=balanced, l1_ratio=0.1, penalty=l2, solver=newton-cg\n"
     ]
    },
    {
     "name": "stderr",
     "output_type": "stream",
     "text": [
      "C:\\Users\\KUMUD .LAPTOP-S0T3F3O8\\anaconda3\\lib\\site-packages\\sklearn\\linear_model\\_logistic.py:1476: UserWarning: l1_ratio parameter is only used when penalty is 'elasticnet'. Got (penalty=l2)\n",
      "  warnings.warn(\n"
     ]
    },
    {
     "name": "stdout",
     "output_type": "stream",
     "text": [
      "[CV 2/5; 7/20] END C=1.0, class_weight=balanced, l1_ratio=0.1, penalty=l2, solver=newton-cg;, score=0.028 total time=  27.7s\n",
      "[CV 3/5; 7/20] START C=1.0, class_weight=balanced, l1_ratio=0.1, penalty=l2, solver=newton-cg\n"
     ]
    },
    {
     "name": "stderr",
     "output_type": "stream",
     "text": [
      "C:\\Users\\KUMUD .LAPTOP-S0T3F3O8\\anaconda3\\lib\\site-packages\\sklearn\\linear_model\\_logistic.py:1476: UserWarning: l1_ratio parameter is only used when penalty is 'elasticnet'. Got (penalty=l2)\n",
      "  warnings.warn(\n"
     ]
    },
    {
     "name": "stdout",
     "output_type": "stream",
     "text": [
      "[CV 3/5; 7/20] END C=1.0, class_weight=balanced, l1_ratio=0.1, penalty=l2, solver=newton-cg;, score=0.023 total time=  30.2s\n",
      "[CV 4/5; 7/20] START C=1.0, class_weight=balanced, l1_ratio=0.1, penalty=l2, solver=newton-cg\n"
     ]
    },
    {
     "name": "stderr",
     "output_type": "stream",
     "text": [
      "C:\\Users\\KUMUD .LAPTOP-S0T3F3O8\\anaconda3\\lib\\site-packages\\sklearn\\linear_model\\_logistic.py:1476: UserWarning: l1_ratio parameter is only used when penalty is 'elasticnet'. Got (penalty=l2)\n",
      "  warnings.warn(\n"
     ]
    },
    {
     "name": "stdout",
     "output_type": "stream",
     "text": [
      "[CV 4/5; 7/20] END C=1.0, class_weight=balanced, l1_ratio=0.1, penalty=l2, solver=newton-cg;, score=0.018 total time=  31.9s\n",
      "[CV 5/5; 7/20] START C=1.0, class_weight=balanced, l1_ratio=0.1, penalty=l2, solver=newton-cg\n"
     ]
    },
    {
     "name": "stderr",
     "output_type": "stream",
     "text": [
      "C:\\Users\\KUMUD .LAPTOP-S0T3F3O8\\anaconda3\\lib\\site-packages\\sklearn\\linear_model\\_logistic.py:1476: UserWarning: l1_ratio parameter is only used when penalty is 'elasticnet'. Got (penalty=l2)\n",
      "  warnings.warn(\n"
     ]
    },
    {
     "name": "stdout",
     "output_type": "stream",
     "text": [
      "[CV 5/5; 7/20] END C=1.0, class_weight=balanced, l1_ratio=0.1, penalty=l2, solver=newton-cg;, score=0.028 total time=  34.5s\n",
      "[CV 1/5; 8/20] START C=0.1, class_weight=None, l1_ratio=0.1, penalty=elasticnet, solver=sag\n",
      "[CV 1/5; 8/20] END C=0.1, class_weight=None, l1_ratio=0.1, penalty=elasticnet, solver=sag;, score=nan total time=   0.0s\n",
      "[CV 2/5; 8/20] START C=0.1, class_weight=None, l1_ratio=0.1, penalty=elasticnet, solver=sag\n",
      "[CV 2/5; 8/20] END C=0.1, class_weight=None, l1_ratio=0.1, penalty=elasticnet, solver=sag;, score=nan total time=   0.0s\n",
      "[CV 3/5; 8/20] START C=0.1, class_weight=None, l1_ratio=0.1, penalty=elasticnet, solver=sag\n",
      "[CV 3/5; 8/20] END C=0.1, class_weight=None, l1_ratio=0.1, penalty=elasticnet, solver=sag;, score=nan total time=   0.0s\n",
      "[CV 4/5; 8/20] START C=0.1, class_weight=None, l1_ratio=0.1, penalty=elasticnet, solver=sag\n",
      "[CV 4/5; 8/20] END C=0.1, class_weight=None, l1_ratio=0.1, penalty=elasticnet, solver=sag;, score=nan total time=   0.0s\n",
      "[CV 5/5; 8/20] START C=0.1, class_weight=None, l1_ratio=0.1, penalty=elasticnet, solver=sag\n",
      "[CV 5/5; 8/20] END C=0.1, class_weight=None, l1_ratio=0.1, penalty=elasticnet, solver=sag;, score=nan total time=   0.0s\n",
      "[CV 1/5; 9/20] START C=0.5, class_weight=None, l1_ratio=0.3, penalty=l2, solver=newton-cg\n"
     ]
    },
    {
     "name": "stderr",
     "output_type": "stream",
     "text": [
      "C:\\Users\\KUMUD .LAPTOP-S0T3F3O8\\anaconda3\\lib\\site-packages\\sklearn\\linear_model\\_logistic.py:1476: UserWarning: l1_ratio parameter is only used when penalty is 'elasticnet'. Got (penalty=l2)\n",
      "  warnings.warn(\n"
     ]
    },
    {
     "name": "stdout",
     "output_type": "stream",
     "text": [
      "[CV 1/5; 9/20] END C=0.5, class_weight=None, l1_ratio=0.3, penalty=l2, solver=newton-cg;, score=0.389 total time= 1.0min\n",
      "[CV 2/5; 9/20] START C=0.5, class_weight=None, l1_ratio=0.3, penalty=l2, solver=newton-cg\n"
     ]
    },
    {
     "name": "stderr",
     "output_type": "stream",
     "text": [
      "C:\\Users\\KUMUD .LAPTOP-S0T3F3O8\\anaconda3\\lib\\site-packages\\sklearn\\linear_model\\_logistic.py:1476: UserWarning: l1_ratio parameter is only used when penalty is 'elasticnet'. Got (penalty=l2)\n",
      "  warnings.warn(\n"
     ]
    },
    {
     "name": "stdout",
     "output_type": "stream",
     "text": [
      "[CV 2/5; 9/20] END C=0.5, class_weight=None, l1_ratio=0.3, penalty=l2, solver=newton-cg;, score=0.385 total time=  54.8s\n",
      "[CV 3/5; 9/20] START C=0.5, class_weight=None, l1_ratio=0.3, penalty=l2, solver=newton-cg\n"
     ]
    },
    {
     "name": "stderr",
     "output_type": "stream",
     "text": [
      "C:\\Users\\KUMUD .LAPTOP-S0T3F3O8\\anaconda3\\lib\\site-packages\\sklearn\\linear_model\\_logistic.py:1476: UserWarning: l1_ratio parameter is only used when penalty is 'elasticnet'. Got (penalty=l2)\n",
      "  warnings.warn(\n"
     ]
    },
    {
     "name": "stdout",
     "output_type": "stream",
     "text": [
      "[CV 3/5; 9/20] END C=0.5, class_weight=None, l1_ratio=0.3, penalty=l2, solver=newton-cg;, score=0.391 total time=  46.8s\n",
      "[CV 4/5; 9/20] START C=0.5, class_weight=None, l1_ratio=0.3, penalty=l2, solver=newton-cg\n"
     ]
    },
    {
     "name": "stderr",
     "output_type": "stream",
     "text": [
      "C:\\Users\\KUMUD .LAPTOP-S0T3F3O8\\anaconda3\\lib\\site-packages\\sklearn\\linear_model\\_logistic.py:1476: UserWarning: l1_ratio parameter is only used when penalty is 'elasticnet'. Got (penalty=l2)\n",
      "  warnings.warn(\n"
     ]
    },
    {
     "name": "stdout",
     "output_type": "stream",
     "text": [
      "[CV 4/5; 9/20] END C=0.5, class_weight=None, l1_ratio=0.3, penalty=l2, solver=newton-cg;, score=0.387 total time=  46.0s\n",
      "[CV 5/5; 9/20] START C=0.5, class_weight=None, l1_ratio=0.3, penalty=l2, solver=newton-cg\n"
     ]
    },
    {
     "name": "stderr",
     "output_type": "stream",
     "text": [
      "C:\\Users\\KUMUD .LAPTOP-S0T3F3O8\\anaconda3\\lib\\site-packages\\sklearn\\linear_model\\_logistic.py:1476: UserWarning: l1_ratio parameter is only used when penalty is 'elasticnet'. Got (penalty=l2)\n",
      "  warnings.warn(\n"
     ]
    },
    {
     "name": "stdout",
     "output_type": "stream",
     "text": [
      "[CV 5/5; 9/20] END C=0.5, class_weight=None, l1_ratio=0.3, penalty=l2, solver=newton-cg;, score=0.385 total time=  47.2s\n",
      "[CV 1/5; 10/20] START C=0.5, class_weight=None, l1_ratio=0.1, penalty=elasticnet, solver=sag\n",
      "[CV 1/5; 10/20] END C=0.5, class_weight=None, l1_ratio=0.1, penalty=elasticnet, solver=sag;, score=nan total time=   0.0s\n",
      "[CV 2/5; 10/20] START C=0.5, class_weight=None, l1_ratio=0.1, penalty=elasticnet, solver=sag\n",
      "[CV 2/5; 10/20] END C=0.5, class_weight=None, l1_ratio=0.1, penalty=elasticnet, solver=sag;, score=nan total time=   0.0s\n",
      "[CV 3/5; 10/20] START C=0.5, class_weight=None, l1_ratio=0.1, penalty=elasticnet, solver=sag\n",
      "[CV 3/5; 10/20] END C=0.5, class_weight=None, l1_ratio=0.1, penalty=elasticnet, solver=sag;, score=nan total time=   0.0s\n",
      "[CV 4/5; 10/20] START C=0.5, class_weight=None, l1_ratio=0.1, penalty=elasticnet, solver=sag\n",
      "[CV 4/5; 10/20] END C=0.5, class_weight=None, l1_ratio=0.1, penalty=elasticnet, solver=sag;, score=nan total time=   0.0s\n",
      "[CV 5/5; 10/20] START C=0.5, class_weight=None, l1_ratio=0.1, penalty=elasticnet, solver=sag\n",
      "[CV 5/5; 10/20] END C=0.5, class_weight=None, l1_ratio=0.1, penalty=elasticnet, solver=sag;, score=nan total time=   0.0s\n",
      "[CV 1/5; 11/20] START C=0.5, class_weight=balanced, l1_ratio=0.3, penalty=l2, solver=newton-cg\n"
     ]
    },
    {
     "name": "stderr",
     "output_type": "stream",
     "text": [
      "C:\\Users\\KUMUD .LAPTOP-S0T3F3O8\\anaconda3\\lib\\site-packages\\sklearn\\linear_model\\_logistic.py:1476: UserWarning: l1_ratio parameter is only used when penalty is 'elasticnet'. Got (penalty=l2)\n",
      "  warnings.warn(\n"
     ]
    },
    {
     "name": "stdout",
     "output_type": "stream",
     "text": [
      "[CV 1/5; 11/20] END C=0.5, class_weight=balanced, l1_ratio=0.3, penalty=l2, solver=newton-cg;, score=0.013 total time=  26.4s\n",
      "[CV 2/5; 11/20] START C=0.5, class_weight=balanced, l1_ratio=0.3, penalty=l2, solver=newton-cg\n"
     ]
    },
    {
     "name": "stderr",
     "output_type": "stream",
     "text": [
      "C:\\Users\\KUMUD .LAPTOP-S0T3F3O8\\anaconda3\\lib\\site-packages\\sklearn\\linear_model\\_logistic.py:1476: UserWarning: l1_ratio parameter is only used when penalty is 'elasticnet'. Got (penalty=l2)\n",
      "  warnings.warn(\n"
     ]
    },
    {
     "name": "stdout",
     "output_type": "stream",
     "text": [
      "[CV 2/5; 11/20] END C=0.5, class_weight=balanced, l1_ratio=0.3, penalty=l2, solver=newton-cg;, score=0.009 total time=  22.5s\n",
      "[CV 3/5; 11/20] START C=0.5, class_weight=balanced, l1_ratio=0.3, penalty=l2, solver=newton-cg\n"
     ]
    },
    {
     "name": "stderr",
     "output_type": "stream",
     "text": [
      "C:\\Users\\KUMUD .LAPTOP-S0T3F3O8\\anaconda3\\lib\\site-packages\\sklearn\\linear_model\\_logistic.py:1476: UserWarning: l1_ratio parameter is only used when penalty is 'elasticnet'. Got (penalty=l2)\n",
      "  warnings.warn(\n"
     ]
    },
    {
     "name": "stdout",
     "output_type": "stream",
     "text": [
      "[CV 3/5; 11/20] END C=0.5, class_weight=balanced, l1_ratio=0.3, penalty=l2, solver=newton-cg;, score=0.007 total time=  23.7s\n",
      "[CV 4/5; 11/20] START C=0.5, class_weight=balanced, l1_ratio=0.3, penalty=l2, solver=newton-cg\n"
     ]
    },
    {
     "name": "stderr",
     "output_type": "stream",
     "text": [
      "C:\\Users\\KUMUD .LAPTOP-S0T3F3O8\\anaconda3\\lib\\site-packages\\sklearn\\linear_model\\_logistic.py:1476: UserWarning: l1_ratio parameter is only used when penalty is 'elasticnet'. Got (penalty=l2)\n",
      "  warnings.warn(\n"
     ]
    },
    {
     "name": "stdout",
     "output_type": "stream",
     "text": [
      "[CV 4/5; 11/20] END C=0.5, class_weight=balanced, l1_ratio=0.3, penalty=l2, solver=newton-cg;, score=0.009 total time=  22.5s\n",
      "[CV 5/5; 11/20] START C=0.5, class_weight=balanced, l1_ratio=0.3, penalty=l2, solver=newton-cg\n"
     ]
    },
    {
     "name": "stderr",
     "output_type": "stream",
     "text": [
      "C:\\Users\\KUMUD .LAPTOP-S0T3F3O8\\anaconda3\\lib\\site-packages\\sklearn\\linear_model\\_logistic.py:1476: UserWarning: l1_ratio parameter is only used when penalty is 'elasticnet'. Got (penalty=l2)\n",
      "  warnings.warn(\n"
     ]
    },
    {
     "name": "stdout",
     "output_type": "stream",
     "text": [
      "[CV 5/5; 11/20] END C=0.5, class_weight=balanced, l1_ratio=0.3, penalty=l2, solver=newton-cg;, score=0.012 total time=  26.0s\n",
      "[CV 1/5; 12/20] START C=0.1, class_weight=None, l1_ratio=0.3, penalty=l2, solver=sag\n"
     ]
    },
    {
     "name": "stderr",
     "output_type": "stream",
     "text": [
      "C:\\Users\\KUMUD .LAPTOP-S0T3F3O8\\anaconda3\\lib\\site-packages\\sklearn\\linear_model\\_logistic.py:1476: UserWarning: l1_ratio parameter is only used when penalty is 'elasticnet'. Got (penalty=l2)\n",
      "  warnings.warn(\n"
     ]
    },
    {
     "name": "stdout",
     "output_type": "stream",
     "text": [
      "[CV 1/5; 12/20] END C=0.1, class_weight=None, l1_ratio=0.3, penalty=l2, solver=sag;, score=0.391 total time=  16.7s\n",
      "[CV 2/5; 12/20] START C=0.1, class_weight=None, l1_ratio=0.3, penalty=l2, solver=sag\n"
     ]
    },
    {
     "name": "stderr",
     "output_type": "stream",
     "text": [
      "C:\\Users\\KUMUD .LAPTOP-S0T3F3O8\\anaconda3\\lib\\site-packages\\sklearn\\linear_model\\_logistic.py:1476: UserWarning: l1_ratio parameter is only used when penalty is 'elasticnet'. Got (penalty=l2)\n",
      "  warnings.warn(\n"
     ]
    },
    {
     "name": "stdout",
     "output_type": "stream",
     "text": [
      "[CV 2/5; 12/20] END C=0.1, class_weight=None, l1_ratio=0.3, penalty=l2, solver=sag;, score=0.391 total time=  10.6s\n",
      "[CV 3/5; 12/20] START C=0.1, class_weight=None, l1_ratio=0.3, penalty=l2, solver=sag\n"
     ]
    },
    {
     "name": "stderr",
     "output_type": "stream",
     "text": [
      "C:\\Users\\KUMUD .LAPTOP-S0T3F3O8\\anaconda3\\lib\\site-packages\\sklearn\\linear_model\\_logistic.py:1476: UserWarning: l1_ratio parameter is only used when penalty is 'elasticnet'. Got (penalty=l2)\n",
      "  warnings.warn(\n",
      "C:\\Users\\KUMUD .LAPTOP-S0T3F3O8\\anaconda3\\lib\\site-packages\\sklearn\\linear_model\\_sag.py:352: ConvergenceWarning: The max_iter was reached which means the coef_ did not converge\n",
      "  warnings.warn(\n",
      "C:\\Users\\KUMUD .LAPTOP-S0T3F3O8\\anaconda3\\lib\\site-packages\\sklearn\\linear_model\\_logistic.py:1476: UserWarning: l1_ratio parameter is only used when penalty is 'elasticnet'. Got (penalty=l2)\n",
      "  warnings.warn(\n"
     ]
    },
    {
     "name": "stdout",
     "output_type": "stream",
     "text": [
      "[CV 3/5; 12/20] END C=0.1, class_weight=None, l1_ratio=0.3, penalty=l2, solver=sag;, score=0.390 total time=  17.3s\n",
      "[CV 4/5; 12/20] START C=0.1, class_weight=None, l1_ratio=0.3, penalty=l2, solver=sag\n"
     ]
    },
    {
     "name": "stderr",
     "output_type": "stream",
     "text": [
      "C:\\Users\\KUMUD .LAPTOP-S0T3F3O8\\anaconda3\\lib\\site-packages\\sklearn\\linear_model\\_sag.py:352: ConvergenceWarning: The max_iter was reached which means the coef_ did not converge\n",
      "  warnings.warn(\n",
      "C:\\Users\\KUMUD .LAPTOP-S0T3F3O8\\anaconda3\\lib\\site-packages\\sklearn\\linear_model\\_logistic.py:1476: UserWarning: l1_ratio parameter is only used when penalty is 'elasticnet'. Got (penalty=l2)\n",
      "  warnings.warn(\n"
     ]
    },
    {
     "name": "stdout",
     "output_type": "stream",
     "text": [
      "[CV 4/5; 12/20] END C=0.1, class_weight=None, l1_ratio=0.3, penalty=l2, solver=sag;, score=0.390 total time=  17.0s\n",
      "[CV 5/5; 12/20] START C=0.1, class_weight=None, l1_ratio=0.3, penalty=l2, solver=sag\n"
     ]
    },
    {
     "name": "stderr",
     "output_type": "stream",
     "text": [
      "C:\\Users\\KUMUD .LAPTOP-S0T3F3O8\\anaconda3\\lib\\site-packages\\sklearn\\linear_model\\_sag.py:352: ConvergenceWarning: The max_iter was reached which means the coef_ did not converge\n",
      "  warnings.warn(\n",
      "C:\\Users\\KUMUD .LAPTOP-S0T3F3O8\\anaconda3\\lib\\site-packages\\sklearn\\linear_model\\_logistic.py:1476: UserWarning: l1_ratio parameter is only used when penalty is 'elasticnet'. Got (penalty=l2)\n",
      "  warnings.warn(\n"
     ]
    },
    {
     "name": "stdout",
     "output_type": "stream",
     "text": [
      "[CV 5/5; 12/20] END C=0.1, class_weight=None, l1_ratio=0.3, penalty=l2, solver=sag;, score=0.390 total time=  17.1s\n",
      "[CV 1/5; 13/20] START C=0.5, class_weight=None, l1_ratio=0.3, penalty=elasticnet, solver=sag\n",
      "[CV 1/5; 13/20] END C=0.5, class_weight=None, l1_ratio=0.3, penalty=elasticnet, solver=sag;, score=nan total time=   0.0s\n",
      "[CV 2/5; 13/20] START C=0.5, class_weight=None, l1_ratio=0.3, penalty=elasticnet, solver=sag\n",
      "[CV 2/5; 13/20] END C=0.5, class_weight=None, l1_ratio=0.3, penalty=elasticnet, solver=sag;, score=nan total time=   0.0s\n",
      "[CV 3/5; 13/20] START C=0.5, class_weight=None, l1_ratio=0.3, penalty=elasticnet, solver=sag\n",
      "[CV 3/5; 13/20] END C=0.5, class_weight=None, l1_ratio=0.3, penalty=elasticnet, solver=sag;, score=nan total time=   0.0s\n",
      "[CV 4/5; 13/20] START C=0.5, class_weight=None, l1_ratio=0.3, penalty=elasticnet, solver=sag\n",
      "[CV 4/5; 13/20] END C=0.5, class_weight=None, l1_ratio=0.3, penalty=elasticnet, solver=sag;, score=nan total time=   0.0s\n",
      "[CV 5/5; 13/20] START C=0.5, class_weight=None, l1_ratio=0.3, penalty=elasticnet, solver=sag\n",
      "[CV 5/5; 13/20] END C=0.5, class_weight=None, l1_ratio=0.3, penalty=elasticnet, solver=sag;, score=nan total time=   0.0s\n",
      "[CV 1/5; 14/20] START C=1.0, class_weight=balanced, l1_ratio=0.2, penalty=elasticnet, solver=newton-cg\n",
      "[CV 1/5; 14/20] END C=1.0, class_weight=balanced, l1_ratio=0.2, penalty=elasticnet, solver=newton-cg;, score=nan total time=   0.0s\n",
      "[CV 2/5; 14/20] START C=1.0, class_weight=balanced, l1_ratio=0.2, penalty=elasticnet, solver=newton-cg\n",
      "[CV 2/5; 14/20] END C=1.0, class_weight=balanced, l1_ratio=0.2, penalty=elasticnet, solver=newton-cg;, score=nan total time=   0.0s\n",
      "[CV 3/5; 14/20] START C=1.0, class_weight=balanced, l1_ratio=0.2, penalty=elasticnet, solver=newton-cg\n",
      "[CV 3/5; 14/20] END C=1.0, class_weight=balanced, l1_ratio=0.2, penalty=elasticnet, solver=newton-cg;, score=nan total time=   0.0s\n",
      "[CV 4/5; 14/20] START C=1.0, class_weight=balanced, l1_ratio=0.2, penalty=elasticnet, solver=newton-cg\n",
      "[CV 4/5; 14/20] END C=1.0, class_weight=balanced, l1_ratio=0.2, penalty=elasticnet, solver=newton-cg;, score=nan total time=   0.0s\n",
      "[CV 5/5; 14/20] START C=1.0, class_weight=balanced, l1_ratio=0.2, penalty=elasticnet, solver=newton-cg\n",
      "[CV 5/5; 14/20] END C=1.0, class_weight=balanced, l1_ratio=0.2, penalty=elasticnet, solver=newton-cg;, score=nan total time=   0.0s\n",
      "[CV 1/5; 15/20] START C=1.0, class_weight=balanced, l1_ratio=0.2, penalty=l2, solver=sag\n"
     ]
    },
    {
     "name": "stderr",
     "output_type": "stream",
     "text": [
      "C:\\Users\\KUMUD .LAPTOP-S0T3F3O8\\anaconda3\\lib\\site-packages\\sklearn\\linear_model\\_sag.py:352: ConvergenceWarning: The max_iter was reached which means the coef_ did not converge\n",
      "  warnings.warn(\n",
      "C:\\Users\\KUMUD .LAPTOP-S0T3F3O8\\anaconda3\\lib\\site-packages\\sklearn\\linear_model\\_logistic.py:1476: UserWarning: l1_ratio parameter is only used when penalty is 'elasticnet'. Got (penalty=l2)\n",
      "  warnings.warn(\n"
     ]
    },
    {
     "name": "stdout",
     "output_type": "stream",
     "text": [
      "[CV 1/5; 15/20] END C=1.0, class_weight=balanced, l1_ratio=0.2, penalty=l2, solver=sag;, score=0.020 total time=  16.9s\n",
      "[CV 2/5; 15/20] START C=1.0, class_weight=balanced, l1_ratio=0.2, penalty=l2, solver=sag\n"
     ]
    },
    {
     "name": "stderr",
     "output_type": "stream",
     "text": [
      "C:\\Users\\KUMUD .LAPTOP-S0T3F3O8\\anaconda3\\lib\\site-packages\\sklearn\\linear_model\\_sag.py:352: ConvergenceWarning: The max_iter was reached which means the coef_ did not converge\n",
      "  warnings.warn(\n",
      "C:\\Users\\KUMUD .LAPTOP-S0T3F3O8\\anaconda3\\lib\\site-packages\\sklearn\\linear_model\\_logistic.py:1476: UserWarning: l1_ratio parameter is only used when penalty is 'elasticnet'. Got (penalty=l2)\n",
      "  warnings.warn(\n"
     ]
    },
    {
     "name": "stdout",
     "output_type": "stream",
     "text": [
      "[CV 2/5; 15/20] END C=1.0, class_weight=balanced, l1_ratio=0.2, penalty=l2, solver=sag;, score=0.022 total time=  18.0s\n",
      "[CV 3/5; 15/20] START C=1.0, class_weight=balanced, l1_ratio=0.2, penalty=l2, solver=sag\n"
     ]
    },
    {
     "name": "stderr",
     "output_type": "stream",
     "text": [
      "C:\\Users\\KUMUD .LAPTOP-S0T3F3O8\\anaconda3\\lib\\site-packages\\sklearn\\linear_model\\_sag.py:352: ConvergenceWarning: The max_iter was reached which means the coef_ did not converge\n",
      "  warnings.warn(\n",
      "C:\\Users\\KUMUD .LAPTOP-S0T3F3O8\\anaconda3\\lib\\site-packages\\sklearn\\linear_model\\_logistic.py:1476: UserWarning: l1_ratio parameter is only used when penalty is 'elasticnet'. Got (penalty=l2)\n",
      "  warnings.warn(\n"
     ]
    },
    {
     "name": "stdout",
     "output_type": "stream",
     "text": [
      "[CV 3/5; 15/20] END C=1.0, class_weight=balanced, l1_ratio=0.2, penalty=l2, solver=sag;, score=0.017 total time=  17.7s\n",
      "[CV 4/5; 15/20] START C=1.0, class_weight=balanced, l1_ratio=0.2, penalty=l2, solver=sag\n"
     ]
    },
    {
     "name": "stderr",
     "output_type": "stream",
     "text": [
      "C:\\Users\\KUMUD .LAPTOP-S0T3F3O8\\anaconda3\\lib\\site-packages\\sklearn\\linear_model\\_sag.py:352: ConvergenceWarning: The max_iter was reached which means the coef_ did not converge\n",
      "  warnings.warn(\n",
      "C:\\Users\\KUMUD .LAPTOP-S0T3F3O8\\anaconda3\\lib\\site-packages\\sklearn\\linear_model\\_logistic.py:1476: UserWarning: l1_ratio parameter is only used when penalty is 'elasticnet'. Got (penalty=l2)\n",
      "  warnings.warn(\n"
     ]
    },
    {
     "name": "stdout",
     "output_type": "stream",
     "text": [
      "[CV 4/5; 15/20] END C=1.0, class_weight=balanced, l1_ratio=0.2, penalty=l2, solver=sag;, score=0.016 total time=  17.5s\n",
      "[CV 5/5; 15/20] START C=1.0, class_weight=balanced, l1_ratio=0.2, penalty=l2, solver=sag\n"
     ]
    },
    {
     "name": "stderr",
     "output_type": "stream",
     "text": [
      "C:\\Users\\KUMUD .LAPTOP-S0T3F3O8\\anaconda3\\lib\\site-packages\\sklearn\\linear_model\\_sag.py:352: ConvergenceWarning: The max_iter was reached which means the coef_ did not converge\n",
      "  warnings.warn(\n",
      "C:\\Users\\KUMUD .LAPTOP-S0T3F3O8\\anaconda3\\lib\\site-packages\\sklearn\\linear_model\\_logistic.py:1476: UserWarning: l1_ratio parameter is only used when penalty is 'elasticnet'. Got (penalty=l2)\n",
      "  warnings.warn(\n"
     ]
    },
    {
     "name": "stdout",
     "output_type": "stream",
     "text": [
      "[CV 5/5; 15/20] END C=1.0, class_weight=balanced, l1_ratio=0.2, penalty=l2, solver=sag;, score=0.018 total time=  16.8s\n",
      "[CV 1/5; 16/20] START C=0.5, class_weight=None, l1_ratio=0.3, penalty=elasticnet, solver=newton-cg\n",
      "[CV 1/5; 16/20] END C=0.5, class_weight=None, l1_ratio=0.3, penalty=elasticnet, solver=newton-cg;, score=nan total time=   0.0s\n",
      "[CV 2/5; 16/20] START C=0.5, class_weight=None, l1_ratio=0.3, penalty=elasticnet, solver=newton-cg\n",
      "[CV 2/5; 16/20] END C=0.5, class_weight=None, l1_ratio=0.3, penalty=elasticnet, solver=newton-cg;, score=nan total time=   0.0s\n",
      "[CV 3/5; 16/20] START C=0.5, class_weight=None, l1_ratio=0.3, penalty=elasticnet, solver=newton-cg\n",
      "[CV 3/5; 16/20] END C=0.5, class_weight=None, l1_ratio=0.3, penalty=elasticnet, solver=newton-cg;, score=nan total time=   0.0s\n",
      "[CV 4/5; 16/20] START C=0.5, class_weight=None, l1_ratio=0.3, penalty=elasticnet, solver=newton-cg\n",
      "[CV 4/5; 16/20] END C=0.5, class_weight=None, l1_ratio=0.3, penalty=elasticnet, solver=newton-cg;, score=nan total time=   0.0s\n",
      "[CV 5/5; 16/20] START C=0.5, class_weight=None, l1_ratio=0.3, penalty=elasticnet, solver=newton-cg\n",
      "[CV 5/5; 16/20] END C=0.5, class_weight=None, l1_ratio=0.3, penalty=elasticnet, solver=newton-cg;, score=nan total time=   0.0s\n",
      "[CV 1/5; 17/20] START C=0.1, class_weight=None, l1_ratio=0.1, penalty=elasticnet, solver=newton-cg\n",
      "[CV 1/5; 17/20] END C=0.1, class_weight=None, l1_ratio=0.1, penalty=elasticnet, solver=newton-cg;, score=nan total time=   0.0s\n",
      "[CV 2/5; 17/20] START C=0.1, class_weight=None, l1_ratio=0.1, penalty=elasticnet, solver=newton-cg\n",
      "[CV 2/5; 17/20] END C=0.1, class_weight=None, l1_ratio=0.1, penalty=elasticnet, solver=newton-cg;, score=nan total time=   0.0s\n",
      "[CV 3/5; 17/20] START C=0.1, class_weight=None, l1_ratio=0.1, penalty=elasticnet, solver=newton-cg\n",
      "[CV 3/5; 17/20] END C=0.1, class_weight=None, l1_ratio=0.1, penalty=elasticnet, solver=newton-cg;, score=nan total time=   0.0s\n",
      "[CV 4/5; 17/20] START C=0.1, class_weight=None, l1_ratio=0.1, penalty=elasticnet, solver=newton-cg\n",
      "[CV 4/5; 17/20] END C=0.1, class_weight=None, l1_ratio=0.1, penalty=elasticnet, solver=newton-cg;, score=nan total time=   0.0s\n",
      "[CV 5/5; 17/20] START C=0.1, class_weight=None, l1_ratio=0.1, penalty=elasticnet, solver=newton-cg\n",
      "[CV 5/5; 17/20] END C=0.1, class_weight=None, l1_ratio=0.1, penalty=elasticnet, solver=newton-cg;, score=nan total time=   0.0s\n",
      "[CV 1/5; 18/20] START C=1.0, class_weight=balanced, l1_ratio=0.3, penalty=l2, solver=sag\n"
     ]
    },
    {
     "name": "stderr",
     "output_type": "stream",
     "text": [
      "C:\\Users\\KUMUD .LAPTOP-S0T3F3O8\\anaconda3\\lib\\site-packages\\sklearn\\linear_model\\_sag.py:352: ConvergenceWarning: The max_iter was reached which means the coef_ did not converge\n",
      "  warnings.warn(\n",
      "C:\\Users\\KUMUD .LAPTOP-S0T3F3O8\\anaconda3\\lib\\site-packages\\sklearn\\linear_model\\_logistic.py:1476: UserWarning: l1_ratio parameter is only used when penalty is 'elasticnet'. Got (penalty=l2)\n",
      "  warnings.warn(\n"
     ]
    },
    {
     "name": "stdout",
     "output_type": "stream",
     "text": [
      "[CV 1/5; 18/20] END C=1.0, class_weight=balanced, l1_ratio=0.3, penalty=l2, solver=sag;, score=0.016 total time=  16.9s\n",
      "[CV 2/5; 18/20] START C=1.0, class_weight=balanced, l1_ratio=0.3, penalty=l2, solver=sag\n"
     ]
    },
    {
     "name": "stderr",
     "output_type": "stream",
     "text": [
      "C:\\Users\\KUMUD .LAPTOP-S0T3F3O8\\anaconda3\\lib\\site-packages\\sklearn\\linear_model\\_sag.py:352: ConvergenceWarning: The max_iter was reached which means the coef_ did not converge\n",
      "  warnings.warn(\n",
      "C:\\Users\\KUMUD .LAPTOP-S0T3F3O8\\anaconda3\\lib\\site-packages\\sklearn\\linear_model\\_logistic.py:1476: UserWarning: l1_ratio parameter is only used when penalty is 'elasticnet'. Got (penalty=l2)\n",
      "  warnings.warn(\n"
     ]
    },
    {
     "name": "stdout",
     "output_type": "stream",
     "text": [
      "[CV 2/5; 18/20] END C=1.0, class_weight=balanced, l1_ratio=0.3, penalty=l2, solver=sag;, score=0.015 total time=  17.4s\n",
      "[CV 3/5; 18/20] START C=1.0, class_weight=balanced, l1_ratio=0.3, penalty=l2, solver=sag\n"
     ]
    },
    {
     "name": "stderr",
     "output_type": "stream",
     "text": [
      "C:\\Users\\KUMUD .LAPTOP-S0T3F3O8\\anaconda3\\lib\\site-packages\\sklearn\\linear_model\\_sag.py:352: ConvergenceWarning: The max_iter was reached which means the coef_ did not converge\n",
      "  warnings.warn(\n",
      "C:\\Users\\KUMUD .LAPTOP-S0T3F3O8\\anaconda3\\lib\\site-packages\\sklearn\\linear_model\\_logistic.py:1476: UserWarning: l1_ratio parameter is only used when penalty is 'elasticnet'. Got (penalty=l2)\n",
      "  warnings.warn(\n"
     ]
    },
    {
     "name": "stdout",
     "output_type": "stream",
     "text": [
      "[CV 3/5; 18/20] END C=1.0, class_weight=balanced, l1_ratio=0.3, penalty=l2, solver=sag;, score=0.022 total time=  17.4s\n",
      "[CV 4/5; 18/20] START C=1.0, class_weight=balanced, l1_ratio=0.3, penalty=l2, solver=sag\n"
     ]
    },
    {
     "name": "stderr",
     "output_type": "stream",
     "text": [
      "C:\\Users\\KUMUD .LAPTOP-S0T3F3O8\\anaconda3\\lib\\site-packages\\sklearn\\linear_model\\_sag.py:352: ConvergenceWarning: The max_iter was reached which means the coef_ did not converge\n",
      "  warnings.warn(\n",
      "C:\\Users\\KUMUD .LAPTOP-S0T3F3O8\\anaconda3\\lib\\site-packages\\sklearn\\linear_model\\_logistic.py:1476: UserWarning: l1_ratio parameter is only used when penalty is 'elasticnet'. Got (penalty=l2)\n",
      "  warnings.warn(\n"
     ]
    },
    {
     "name": "stdout",
     "output_type": "stream",
     "text": [
      "[CV 4/5; 18/20] END C=1.0, class_weight=balanced, l1_ratio=0.3, penalty=l2, solver=sag;, score=0.021 total time=  17.8s\n",
      "[CV 5/5; 18/20] START C=1.0, class_weight=balanced, l1_ratio=0.3, penalty=l2, solver=sag\n"
     ]
    },
    {
     "name": "stderr",
     "output_type": "stream",
     "text": [
      "C:\\Users\\KUMUD .LAPTOP-S0T3F3O8\\anaconda3\\lib\\site-packages\\sklearn\\linear_model\\_sag.py:352: ConvergenceWarning: The max_iter was reached which means the coef_ did not converge\n",
      "  warnings.warn(\n",
      "C:\\Users\\KUMUD .LAPTOP-S0T3F3O8\\anaconda3\\lib\\site-packages\\sklearn\\model_selection\\_validation.py:372: FitFailedWarning: \n",
      "55 fits failed out of a total of 100.\n",
      "The score on these train-test partitions for these parameters will be set to nan.\n",
      "If these failures are not expected, you can try to debug them by setting error_score='raise'.\n",
      "\n",
      "Below are more details about the failures:\n",
      "--------------------------------------------------------------------------------\n",
      "30 fits failed with the following error:\n",
      "Traceback (most recent call last):\n",
      "  File \"C:\\Users\\KUMUD .LAPTOP-S0T3F3O8\\anaconda3\\lib\\site-packages\\sklearn\\model_selection\\_validation.py\", line 680, in _fit_and_score\n",
      "    estimator.fit(X_train, y_train, **fit_params)\n",
      "  File \"C:\\Users\\KUMUD .LAPTOP-S0T3F3O8\\anaconda3\\lib\\site-packages\\sklearn\\linear_model\\_logistic.py\", line 1461, in fit\n",
      "    solver = _check_solver(self.solver, self.penalty, self.dual)\n",
      "  File \"C:\\Users\\KUMUD .LAPTOP-S0T3F3O8\\anaconda3\\lib\\site-packages\\sklearn\\linear_model\\_logistic.py\", line 447, in _check_solver\n",
      "    raise ValueError(\n",
      "ValueError: Solver newton-cg supports only 'l2' or 'none' penalties, got elasticnet penalty.\n",
      "\n",
      "--------------------------------------------------------------------------------\n",
      "25 fits failed with the following error:\n",
      "Traceback (most recent call last):\n",
      "  File \"C:\\Users\\KUMUD .LAPTOP-S0T3F3O8\\anaconda3\\lib\\site-packages\\sklearn\\model_selection\\_validation.py\", line 680, in _fit_and_score\n",
      "    estimator.fit(X_train, y_train, **fit_params)\n",
      "  File \"C:\\Users\\KUMUD .LAPTOP-S0T3F3O8\\anaconda3\\lib\\site-packages\\sklearn\\linear_model\\_logistic.py\", line 1461, in fit\n",
      "    solver = _check_solver(self.solver, self.penalty, self.dual)\n",
      "  File \"C:\\Users\\KUMUD .LAPTOP-S0T3F3O8\\anaconda3\\lib\\site-packages\\sklearn\\linear_model\\_logistic.py\", line 447, in _check_solver\n",
      "    raise ValueError(\n",
      "ValueError: Solver sag supports only 'l2' or 'none' penalties, got elasticnet penalty.\n",
      "\n",
      "  warnings.warn(some_fits_failed_message, FitFailedWarning)\n",
      "C:\\Users\\KUMUD .LAPTOP-S0T3F3O8\\anaconda3\\lib\\site-packages\\sklearn\\model_selection\\_search.py:969: UserWarning: One or more of the test scores are non-finite: [       nan 0.00257022        nan        nan 0.3810886  0.38758121\n",
      " 0.02448533        nan 0.38758121        nan 0.00987529 0.39055729\n",
      "        nan        nan 0.01866812        nan        nan 0.01948158\n",
      "        nan        nan]\n",
      "  warnings.warn(\n",
      "C:\\Users\\KUMUD .LAPTOP-S0T3F3O8\\anaconda3\\lib\\site-packages\\sklearn\\linear_model\\_logistic.py:1476: UserWarning: l1_ratio parameter is only used when penalty is 'elasticnet'. Got (penalty=l2)\n",
      "  warnings.warn(\n"
     ]
    },
    {
     "name": "stdout",
     "output_type": "stream",
     "text": [
      "[CV 5/5; 18/20] END C=1.0, class_weight=balanced, l1_ratio=0.3, penalty=l2, solver=sag;, score=0.023 total time=  17.0s\n",
      "[CV 1/5; 19/20] START C=0.1, class_weight=balanced, l1_ratio=0.1, penalty=elasticnet, solver=newton-cg\n",
      "[CV 1/5; 19/20] END C=0.1, class_weight=balanced, l1_ratio=0.1, penalty=elasticnet, solver=newton-cg;, score=nan total time=   0.0s\n",
      "[CV 2/5; 19/20] START C=0.1, class_weight=balanced, l1_ratio=0.1, penalty=elasticnet, solver=newton-cg\n",
      "[CV 2/5; 19/20] END C=0.1, class_weight=balanced, l1_ratio=0.1, penalty=elasticnet, solver=newton-cg;, score=nan total time=   0.0s\n",
      "[CV 3/5; 19/20] START C=0.1, class_weight=balanced, l1_ratio=0.1, penalty=elasticnet, solver=newton-cg\n",
      "[CV 3/5; 19/20] END C=0.1, class_weight=balanced, l1_ratio=0.1, penalty=elasticnet, solver=newton-cg;, score=nan total time=   0.0s\n",
      "[CV 4/5; 19/20] START C=0.1, class_weight=balanced, l1_ratio=0.1, penalty=elasticnet, solver=newton-cg\n",
      "[CV 4/5; 19/20] END C=0.1, class_weight=balanced, l1_ratio=0.1, penalty=elasticnet, solver=newton-cg;, score=nan total time=   0.0s\n",
      "[CV 5/5; 19/20] START C=0.1, class_weight=balanced, l1_ratio=0.1, penalty=elasticnet, solver=newton-cg\n",
      "[CV 5/5; 19/20] END C=0.1, class_weight=balanced, l1_ratio=0.1, penalty=elasticnet, solver=newton-cg;, score=nan total time=   0.0s\n",
      "[CV 1/5; 20/20] START C=1.0, class_weight=balanced, l1_ratio=0.3, penalty=elasticnet, solver=sag\n",
      "[CV 1/5; 20/20] END C=1.0, class_weight=balanced, l1_ratio=0.3, penalty=elasticnet, solver=sag;, score=nan total time=   0.0s\n",
      "[CV 2/5; 20/20] START C=1.0, class_weight=balanced, l1_ratio=0.3, penalty=elasticnet, solver=sag\n",
      "[CV 2/5; 20/20] END C=1.0, class_weight=balanced, l1_ratio=0.3, penalty=elasticnet, solver=sag;, score=nan total time=   0.0s\n",
      "[CV 3/5; 20/20] START C=1.0, class_weight=balanced, l1_ratio=0.3, penalty=elasticnet, solver=sag\n",
      "[CV 3/5; 20/20] END C=1.0, class_weight=balanced, l1_ratio=0.3, penalty=elasticnet, solver=sag;, score=nan total time=   0.0s\n",
      "[CV 4/5; 20/20] START C=1.0, class_weight=balanced, l1_ratio=0.3, penalty=elasticnet, solver=sag\n",
      "[CV 4/5; 20/20] END C=1.0, class_weight=balanced, l1_ratio=0.3, penalty=elasticnet, solver=sag;, score=nan total time=   0.0s\n",
      "[CV 5/5; 20/20] START C=1.0, class_weight=balanced, l1_ratio=0.3, penalty=elasticnet, solver=sag\n",
      "[CV 5/5; 20/20] END C=1.0, class_weight=balanced, l1_ratio=0.3, penalty=elasticnet, solver=sag;, score=nan total time=   0.0s\n"
     ]
    },
    {
     "name": "stderr",
     "output_type": "stream",
     "text": [
      "C:\\Users\\KUMUD .LAPTOP-S0T3F3O8\\anaconda3\\lib\\site-packages\\sklearn\\linear_model\\_sag.py:352: ConvergenceWarning: The max_iter was reached which means the coef_ did not converge\n",
      "  warnings.warn(\n"
     ]
    }
   ],
   "source": [
    "from sklearn.model_selection import train_test_split, RandomizedSearchCV, GridSearchCV\n",
    "tuned_log_reg = RandomizedSearchCV(LogisticRegression(), \n",
    "                                   param_list, \n",
    "                                   verbose = 10,\n",
    "                                   n_iter = 20, # only few iterations because n_jobs = -1 crashes the notebook\n",
    "                                   #n_jobs = -1   \n",
    "                                  ).fit(X_train_vectors_tfidf, y_train.argmax(axis = 1))"
   ]
  },
  {
   "cell_type": "code",
   "execution_count": 114,
   "metadata": {},
   "outputs": [
    {
     "data": {
      "text/plain": [
       "{'solver': 'sag',\n",
       " 'penalty': 'l2',\n",
       " 'l1_ratio': 0.3,\n",
       " 'class_weight': None,\n",
       " 'C': 0.1}"
      ]
     },
     "execution_count": 114,
     "metadata": {},
     "output_type": "execute_result"
    }
   ],
   "source": [
    "\n",
    "# Fetching the best hyperparameters\n",
    "tuned_log_reg.best_params_\n",
    " "
   ]
  },
  {
   "cell_type": "markdown",
   "metadata": {},
   "source": [
    "#### 4D: "
   ]
  },
  {
   "cell_type": "code",
   "execution_count": 116,
   "metadata": {},
   "outputs": [
    {
     "name": "stderr",
     "output_type": "stream",
     "text": [
      "C:\\Users\\KUMUD .LAPTOP-S0T3F3O8\\anaconda3\\lib\\site-packages\\sklearn\\linear_model\\_logistic.py:1476: UserWarning: l1_ratio parameter is only used when penalty is 'elasticnet'. Got (penalty=l2)\n",
      "  warnings.warn(\n",
      "C:\\Users\\KUMUD .LAPTOP-S0T3F3O8\\anaconda3\\lib\\site-packages\\sklearn\\linear_model\\_logistic.py:1476: UserWarning: l1_ratio parameter is only used when penalty is 'elasticnet'. Got (penalty=l2)\n",
      "  warnings.warn(\n",
      "C:\\Users\\KUMUD .LAPTOP-S0T3F3O8\\anaconda3\\lib\\site-packages\\sklearn\\linear_model\\_logistic.py:1476: UserWarning: l1_ratio parameter is only used when penalty is 'elasticnet'. Got (penalty=l2)\n",
      "  warnings.warn(\n",
      "C:\\Users\\KUMUD .LAPTOP-S0T3F3O8\\anaconda3\\lib\\site-packages\\sklearn\\linear_model\\_logistic.py:1476: UserWarning: l1_ratio parameter is only used when penalty is 'elasticnet'. Got (penalty=l2)\n",
      "  warnings.warn(\n",
      "C:\\Users\\KUMUD .LAPTOP-S0T3F3O8\\anaconda3\\lib\\site-packages\\sklearn\\linear_model\\_logistic.py:1476: UserWarning: l1_ratio parameter is only used when penalty is 'elasticnet'. Got (penalty=l2)\n",
      "  warnings.warn(\n",
      "C:\\Users\\KUMUD .LAPTOP-S0T3F3O8\\anaconda3\\lib\\site-packages\\sklearn\\linear_model\\_logistic.py:1476: UserWarning: l1_ratio parameter is only used when penalty is 'elasticnet'. Got (penalty=l2)\n",
      "  warnings.warn(\n",
      "C:\\Users\\KUMUD .LAPTOP-S0T3F3O8\\anaconda3\\lib\\site-packages\\sklearn\\linear_model\\_logistic.py:1476: UserWarning: l1_ratio parameter is only used when penalty is 'elasticnet'. Got (penalty=l2)\n",
      "  warnings.warn(\n",
      "C:\\Users\\KUMUD .LAPTOP-S0T3F3O8\\anaconda3\\lib\\site-packages\\sklearn\\linear_model\\_logistic.py:1476: UserWarning: l1_ratio parameter is only used when penalty is 'elasticnet'. Got (penalty=l2)\n",
      "  warnings.warn(\n",
      "C:\\Users\\KUMUD .LAPTOP-S0T3F3O8\\anaconda3\\lib\\site-packages\\sklearn\\linear_model\\_logistic.py:1476: UserWarning: l1_ratio parameter is only used when penalty is 'elasticnet'. Got (penalty=l2)\n",
      "  warnings.warn(\n",
      "C:\\Users\\KUMUD .LAPTOP-S0T3F3O8\\anaconda3\\lib\\site-packages\\sklearn\\linear_model\\_logistic.py:1476: UserWarning: l1_ratio parameter is only used when penalty is 'elasticnet'. Got (penalty=l2)\n",
      "  warnings.warn(\n",
      "C:\\Users\\KUMUD .LAPTOP-S0T3F3O8\\anaconda3\\lib\\site-packages\\sklearn\\linear_model\\_logistic.py:1476: UserWarning: l1_ratio parameter is only used when penalty is 'elasticnet'. Got (penalty=l2)\n",
      "  warnings.warn(\n",
      "C:\\Users\\KUMUD .LAPTOP-S0T3F3O8\\anaconda3\\lib\\site-packages\\sklearn\\linear_model\\_logistic.py:1476: UserWarning: l1_ratio parameter is only used when penalty is 'elasticnet'. Got (penalty=l2)\n",
      "  warnings.warn(\n",
      "C:\\Users\\KUMUD .LAPTOP-S0T3F3O8\\anaconda3\\lib\\site-packages\\sklearn\\linear_model\\_logistic.py:1476: UserWarning: l1_ratio parameter is only used when penalty is 'elasticnet'. Got (penalty=l2)\n",
      "  warnings.warn(\n",
      "C:\\Users\\KUMUD .LAPTOP-S0T3F3O8\\anaconda3\\lib\\site-packages\\sklearn\\linear_model\\_logistic.py:1476: UserWarning: l1_ratio parameter is only used when penalty is 'elasticnet'. Got (penalty=l2)\n",
      "  warnings.warn(\n",
      "C:\\Users\\KUMUD .LAPTOP-S0T3F3O8\\anaconda3\\lib\\site-packages\\sklearn\\linear_model\\_logistic.py:1476: UserWarning: l1_ratio parameter is only used when penalty is 'elasticnet'. Got (penalty=l2)\n",
      "  warnings.warn(\n",
      "C:\\Users\\KUMUD .LAPTOP-S0T3F3O8\\anaconda3\\lib\\site-packages\\sklearn\\linear_model\\_logistic.py:1476: UserWarning: l1_ratio parameter is only used when penalty is 'elasticnet'. Got (penalty=l2)\n",
      "  warnings.warn(\n",
      "C:\\Users\\KUMUD .LAPTOP-S0T3F3O8\\anaconda3\\lib\\site-packages\\sklearn\\linear_model\\_logistic.py:1476: UserWarning: l1_ratio parameter is only used when penalty is 'elasticnet'. Got (penalty=l2)\n",
      "  warnings.warn(\n",
      "C:\\Users\\KUMUD .LAPTOP-S0T3F3O8\\anaconda3\\lib\\site-packages\\sklearn\\linear_model\\_logistic.py:1476: UserWarning: l1_ratio parameter is only used when penalty is 'elasticnet'. Got (penalty=l2)\n",
      "  warnings.warn(\n",
      "C:\\Users\\KUMUD .LAPTOP-S0T3F3O8\\anaconda3\\lib\\site-packages\\sklearn\\linear_model\\_logistic.py:1476: UserWarning: l1_ratio parameter is only used when penalty is 'elasticnet'. Got (penalty=l2)\n",
      "  warnings.warn(\n",
      "C:\\Users\\KUMUD .LAPTOP-S0T3F3O8\\anaconda3\\lib\\site-packages\\sklearn\\linear_model\\_logistic.py:1476: UserWarning: l1_ratio parameter is only used when penalty is 'elasticnet'. Got (penalty=l2)\n",
      "  warnings.warn(\n",
      "C:\\Users\\KUMUD .LAPTOP-S0T3F3O8\\anaconda3\\lib\\site-packages\\sklearn\\linear_model\\_logistic.py:1476: UserWarning: l1_ratio parameter is only used when penalty is 'elasticnet'. Got (penalty=l2)\n",
      "  warnings.warn(\n",
      "C:\\Users\\KUMUD .LAPTOP-S0T3F3O8\\anaconda3\\lib\\site-packages\\sklearn\\linear_model\\_logistic.py:1476: UserWarning: l1_ratio parameter is only used when penalty is 'elasticnet'. Got (penalty=l2)\n",
      "  warnings.warn(\n",
      "C:\\Users\\KUMUD .LAPTOP-S0T3F3O8\\anaconda3\\lib\\site-packages\\sklearn\\linear_model\\_logistic.py:1476: UserWarning: l1_ratio parameter is only used when penalty is 'elasticnet'. Got (penalty=l2)\n",
      "  warnings.warn(\n",
      "C:\\Users\\KUMUD .LAPTOP-S0T3F3O8\\anaconda3\\lib\\site-packages\\sklearn\\linear_model\\_logistic.py:1476: UserWarning: l1_ratio parameter is only used when penalty is 'elasticnet'. Got (penalty=l2)\n",
      "  warnings.warn(\n",
      "C:\\Users\\KUMUD .LAPTOP-S0T3F3O8\\anaconda3\\lib\\site-packages\\sklearn\\linear_model\\_logistic.py:1476: UserWarning: l1_ratio parameter is only used when penalty is 'elasticnet'. Got (penalty=l2)\n",
      "  warnings.warn(\n",
      "C:\\Users\\KUMUD .LAPTOP-S0T3F3O8\\anaconda3\\lib\\site-packages\\sklearn\\linear_model\\_sag.py:352: ConvergenceWarning: The max_iter was reached which means the coef_ did not converge\n",
      "  warnings.warn(\n",
      "C:\\Users\\KUMUD .LAPTOP-S0T3F3O8\\anaconda3\\lib\\site-packages\\sklearn\\linear_model\\_logistic.py:1476: UserWarning: l1_ratio parameter is only used when penalty is 'elasticnet'. Got (penalty=l2)\n",
      "  warnings.warn(\n",
      "C:\\Users\\KUMUD .LAPTOP-S0T3F3O8\\anaconda3\\lib\\site-packages\\sklearn\\linear_model\\_logistic.py:1476: UserWarning: l1_ratio parameter is only used when penalty is 'elasticnet'. Got (penalty=l2)\n",
      "  warnings.warn(\n",
      "C:\\Users\\KUMUD .LAPTOP-S0T3F3O8\\anaconda3\\lib\\site-packages\\sklearn\\linear_model\\_logistic.py:1476: UserWarning: l1_ratio parameter is only used when penalty is 'elasticnet'. Got (penalty=l2)\n",
      "  warnings.warn(\n",
      "C:\\Users\\KUMUD .LAPTOP-S0T3F3O8\\anaconda3\\lib\\site-packages\\sklearn\\linear_model\\_logistic.py:1476: UserWarning: l1_ratio parameter is only used when penalty is 'elasticnet'. Got (penalty=l2)\n",
      "  warnings.warn(\n",
      "C:\\Users\\KUMUD .LAPTOP-S0T3F3O8\\anaconda3\\lib\\site-packages\\sklearn\\linear_model\\_logistic.py:1476: UserWarning: l1_ratio parameter is only used when penalty is 'elasticnet'. Got (penalty=l2)\n",
      "  warnings.warn(\n",
      "C:\\Users\\KUMUD .LAPTOP-S0T3F3O8\\anaconda3\\lib\\site-packages\\sklearn\\linear_model\\_logistic.py:1476: UserWarning: l1_ratio parameter is only used when penalty is 'elasticnet'. Got (penalty=l2)\n",
      "  warnings.warn(\n",
      "C:\\Users\\KUMUD .LAPTOP-S0T3F3O8\\anaconda3\\lib\\site-packages\\sklearn\\linear_model\\_logistic.py:1476: UserWarning: l1_ratio parameter is only used when penalty is 'elasticnet'. Got (penalty=l2)\n",
      "  warnings.warn(\n",
      "C:\\Users\\KUMUD .LAPTOP-S0T3F3O8\\anaconda3\\lib\\site-packages\\sklearn\\linear_model\\_logistic.py:1476: UserWarning: l1_ratio parameter is only used when penalty is 'elasticnet'. Got (penalty=l2)\n",
      "  warnings.warn(\n",
      "C:\\Users\\KUMUD .LAPTOP-S0T3F3O8\\anaconda3\\lib\\site-packages\\sklearn\\linear_model\\_logistic.py:1476: UserWarning: l1_ratio parameter is only used when penalty is 'elasticnet'. Got (penalty=l2)\n",
      "  warnings.warn(\n",
      "C:\\Users\\KUMUD .LAPTOP-S0T3F3O8\\anaconda3\\lib\\site-packages\\sklearn\\linear_model\\_logistic.py:1476: UserWarning: l1_ratio parameter is only used when penalty is 'elasticnet'. Got (penalty=l2)\n",
      "  warnings.warn(\n",
      "C:\\Users\\KUMUD .LAPTOP-S0T3F3O8\\anaconda3\\lib\\site-packages\\sklearn\\linear_model\\_logistic.py:1476: UserWarning: l1_ratio parameter is only used when penalty is 'elasticnet'. Got (penalty=l2)\n",
      "  warnings.warn(\n",
      "C:\\Users\\KUMUD .LAPTOP-S0T3F3O8\\anaconda3\\lib\\site-packages\\sklearn\\linear_model\\_logistic.py:1476: UserWarning: l1_ratio parameter is only used when penalty is 'elasticnet'. Got (penalty=l2)\n",
      "  warnings.warn(\n",
      "C:\\Users\\KUMUD .LAPTOP-S0T3F3O8\\anaconda3\\lib\\site-packages\\sklearn\\linear_model\\_logistic.py:1476: UserWarning: l1_ratio parameter is only used when penalty is 'elasticnet'. Got (penalty=l2)\n",
      "  warnings.warn(\n",
      "C:\\Users\\KUMUD .LAPTOP-S0T3F3O8\\anaconda3\\lib\\site-packages\\sklearn\\linear_model\\_logistic.py:1476: UserWarning: l1_ratio parameter is only used when penalty is 'elasticnet'. Got (penalty=l2)\n",
      "  warnings.warn(\n"
     ]
    },
    {
     "name": "stderr",
     "output_type": "stream",
     "text": [
      "C:\\Users\\KUMUD .LAPTOP-S0T3F3O8\\anaconda3\\lib\\site-packages\\sklearn\\linear_model\\_logistic.py:1476: UserWarning: l1_ratio parameter is only used when penalty is 'elasticnet'. Got (penalty=l2)\n",
      "  warnings.warn(\n"
     ]
    }
   ],
   "source": [
    "log_reg_tfidf_tuned = OneVsRestClassifier(\n",
    "    LogisticRegression(C = 0.1, \n",
    "                       class_weight = \"none\", \n",
    "                       l1_ratio = 0.3, \n",
    "                       penalty = \"l2\", \n",
    "                       solver = \"sag\",\n",
    "        )\n",
    "    ).fit(X_train_vectors_tfidf, y_train.argmax(axis = 1))"
   ]
  },
  {
   "cell_type": "code",
   "execution_count": null,
   "metadata": {},
   "outputs": [],
   "source": []
  },
  {
   "cell_type": "markdown",
   "metadata": {},
   "source": [
    "### 5.  Share insights on relative performance comparison"
   ]
  },
  {
   "cell_type": "markdown",
   "metadata": {},
   "source": [
    "#### 5A. Which vectorizer performed better? "
   ]
  },
  {
   "cell_type": "raw",
   "metadata": {},
   "source": [
    "1. The original model performed poorly, even though used a much more robust vectorizer like glove model algorithm.\n",
    "\n",
    "2. the performance could've improved by hyperparameter tuning, but that is infeasible for me , because of constraint at system RAM.\n",
    "3. Overall tf_idf 1-gram became the preferred vectorizer as test accuracy is 40%. "
   ]
  },
  {
   "cell_type": "markdown",
   "metadata": {},
   "source": [
    "#### 5B. Which model outperformed? Probable reason? "
   ]
  },
  {
   "cell_type": "raw",
   "metadata": {},
   "source": [
    "1. CountVectorizer gives us a vector with the number of times each word appears in the document. This leads to a few problems such as, common words like “a”,”the”,”and”,”an” etc will appear most of the time and other words that carry the topic information of our document will be less frequent.\n",
    "\n",
    "2. The way to combat problem of CountVectorizer is: TF-IDF - It balances out the term frequency (how often the word appears in the document) with its inverse document frequency (how often the term appears across all documents in the data set). This means that words like “a” and “the” will have very low scores as they’ll appear in all documents in your set\n",
    "\n",
    "3.Observation: When we look into the accuracy/micro F1 scores of 3 vectorizer model, *Word2Vec and Glove Model* have similar (higher) accuracy %, while *Countvectorizer* gives lesser accuracy. "
   ]
  },
  {
   "cell_type": "markdown",
   "metadata": {},
   "source": [
    "#### 5C. Which parameter/hyperparameter significantly helped to improve performance?Probable reason? "
   ]
  },
  {
   "cell_type": "raw",
   "metadata": {},
   "source": [
    "1. **Word2Vec method** - (solver = 'liblinear', C=10, penalty = 'l2')\n",
    "2. **Glove Embeddings** vectorizer method -\n",
    "\n",
    " NUMBER OF UNITS IN A *DENSE LAYER* - Dense layers improve overall accuracy. model_glove.add(Dense(40, ,,,,,)\n",
    "*Dropout* - The dropout layer, as its name suggests, randomly drops a certain number of neurons in a layer. #model_glove.add(Dropout(0.2)) #did not helped significantly.\n",
    "\n",
    "*Activation* - An activation function is a parameter in each layer,The activation function decides how to compute the input values of a layer into output values. The output values of a layer are then passed to the next layer as input values again.model_glove.add(Dense(40, activation='softmax'))\n",
    "\n",
    "The *Optimizer* is responsible to change the learning rate and weights of neurons in the neural network to reach the minimum loss function. Optimizer is very important to achieve the possible highest accuracy or minimum loss.optimizer='adam'"
   ]
  },
  {
   "cell_type": "markdown",
   "metadata": {},
   "source": [
    "#### 5D: According to you, which performance metric should be given most importance, why? "
   ]
  },
  {
   "cell_type": "raw",
   "metadata": {},
   "source": [
    "1. The accuracy obtained on the test data is quite low compared to the train data although the train test split was done in a stratified manner. This might be the result of big variation in the test and train data.\n",
    "\n",
    "2. Micro-average method - Sum up the individual true positives, false positives, and false negatives of the system for different sets and apply them to get the statistics.\n",
    "\n",
    "3. Macro-average Method - The method is straight forward. Just take the average of the precision and recall of the system on different sets.\n",
    "\n",
    "Micro-averaged precision and micro-averaged recall are both equal to the accuracy when each data point is assigned to exactly one class\n",
    "\n",
    "In general, if we are working with an imbalanced dataset where all classes are equally important, using the macro average would be a good choice as it treats all classes equally. (macro-F1 score)\n",
    "\n",
    "Suppose you have a balanced dataset and want an easily understandable metric for overall performance regardless of the class. In that case, you can go with accuracy, which is essentially our micro F1 score.\n",
    "\n",
    "Conclusion:\n",
    "since we have balanced (stratified) the population data we can give importance to accuracy/micro F1 Score"
   ]
  },
  {
   "cell_type": "code",
   "execution_count": null,
   "metadata": {},
   "outputs": [],
   "source": []
  },
  {
   "cell_type": "markdown",
   "metadata": {},
   "source": [
    "### Part B\n",
    "\n",
    "• **DOMAIN**: Customer support\n",
    "\n",
    "• **CONTEXT**: Great Learning has a an academic support department which receives numerous support requests every day throughout the year.Teams are spread across geographies and try to provide support round the year. Sometimes there are circumstances where due to heavy workload certain request resolutions are delayed, impacting company’s business. Some of the requests are very generic where a proper resolution procedure delivered to the user can solve the problem. Company is looking forward to design an automation which can interact with the user, understand the problem and display the resolution procedure [ if found as a generic request ] or redirect the request to an actual human support executive if the request is complex or not in it’s database.\n",
    "\n",
    "• **DATA DESCRIPTION**: A sample corpus is attached for your reference. Please enhance/add more data to the corpus using your linguistics skills.\n",
    "\n",
    "• **PROJECT OBJECTIVE**: Design a python based interactive semi - rule based chatbot which can do the following:\n",
    "\n",
    "1. Start chat session with greetings and ask what the user is looking for.\n",
    "2. Accept dynamic text based questions from the user. Reply back with relevant answer from the designed corpus.\n",
    "3. End the chat session only if the user requests to end else ask what the user is looking for. Loop continues till the user asks to end it."
   ]
  },
  {
   "cell_type": "code",
   "execution_count": 165,
   "metadata": {},
   "outputs": [],
   "source": [
    "with open(\"C:/Users/KUMUD .LAPTOP-S0T3F3O8/Desktop/NLP/GL Bot.json\") as file:\n",
    "    chat_data = json.load(file)"
   ]
  },
  {
   "cell_type": "code",
   "execution_count": 166,
   "metadata": {},
   "outputs": [
    {
     "name": "stdout",
     "output_type": "stream",
     "text": [
      "{'intents': [{'tag': 'Intro', 'patterns': ['hi', 'how are you', 'is anyone there', 'hello', 'whats up', 'hey', 'yo', 'listen', 'please help me', 'i am learner from', 'i belong to', 'aiml batch', 'aifl batch', 'i am from', 'my pm is', 'blended', 'online', 'i am from', 'hey ya', 'talking to you for first time'], 'responses': ['Hello! how can i help you ?'], 'context_set': ''}, {'tag': 'Exit', 'patterns': ['thank you', 'thanks', 'cya', 'see you', 'later', 'see you later', 'goodbye', 'i am leaving', 'have a Good day', 'you helped me', 'thanks a lot', 'thanks a ton', 'you are the best', 'great help', 'too good', 'you are a good learning buddy'], 'responses': ['I hope I was able to assist you, Good Bye'], 'context_set': ''}, {'tag': 'Olympus', 'patterns': ['olympus', 'explain me how olympus works', 'I am not able to understand olympus', 'olympus window not working', 'no access to olympus', 'unable to see link in olympus', 'no link visible on olympus', 'whom to contact for olympus', 'lot of problem with olympus', 'olypus is not a good tool', 'lot of problems with olympus', 'how to use olympus', 'teach me olympus'], 'responses': ['Link: Olympus wiki'], 'context_set': ''}, {'tag': 'SL', 'patterns': ['i am not able to understand svm', 'explain me how machine learning works', 'i am not able to understand naive bayes', 'i am not able to understand logistic regression', 'i am not able to understand ensemble techb=niques', 'i am not able to understand knn', 'i am not able to understand knn imputer', 'i am not able to understand cross validation', 'i am not able to understand boosting', 'i am not able to understand random forest', 'i am not able to understand ada boosting', 'i am not able to understand gradient boosting', 'machine learning', 'ML', 'SL', 'supervised learning', 'knn', 'logistic regression', 'regression', 'classification', 'naive bayes', 'nb', 'ensemble techniques', 'bagging', 'boosting', 'ada boosting', 'ada', 'gradient boosting', 'hyper parameters'], 'responses': ['Link: Machine Learning wiki '], 'context_set': ''}, {'tag': 'NN', 'patterns': ['what is deep learning', 'unable to understand deep learning', 'explain me how deep learning works', 'i am not able to understand deep learning', 'not able to understand neural nets', 'very diffult to understand neural nets', 'unable to understand neural nets', 'ann', 'artificial intelligence', 'artificial neural networks', 'weights', 'activation function', 'hidden layers', 'softmax', 'sigmoid', 'relu', 'otimizer', 'forward propagation', 'backward propagation', 'epochs', 'epoch', 'what is an epoch', 'adam', 'sgd'], 'responses': ['Link: Neural Nets wiki'], 'context_set': ''}, {'tag': 'Bot', 'patterns': ['what is your name', 'who are you', 'name please', 'when are your hours of opertions', 'what are your working hours', 'hours of operation', 'working hours', 'hours'], 'responses': ['I am your virtual learning assistant'], 'context_set': ''}, {'tag': 'Profane', 'patterns': ['what the hell', 'bloody stupid bot', 'do you think you are very smart', 'screw you', 'i hate you', 'you are stupid', 'jerk', 'you are a joke', 'useless piece of shit'], 'responses': ['Please use respectful words'], 'context_set': ''}, {'tag': 'Ticket', 'patterns': ['my problem is not solved', 'you did not help me', 'not a good solution', 'bad solution', 'not good solution', 'no help', 'wasted my time', 'useless bot', 'create a ticket'], 'responses': ['Tarnsferring the request to your PM'], 'context_set': ''}]}\n"
     ]
    }
   ],
   "source": [
    "#Display corpus\n",
    "print(chat_data)"
   ]
  },
  {
   "cell_type": "code",
   "execution_count": 167,
   "metadata": {},
   "outputs": [],
   "source": [
    "# Adding more words/data to corpus \n",
    "\n",
    "# initializing lemmatizer to get stem of words\n",
    "lemmatizer = WordNetLemmatizer()\n",
    "# Each list to create\n",
    "words = []\n",
    "classes = []\n",
    "file_A = []\n",
    "file_B = []\n",
    "# Loop through all the intents\n",
    "# tokenize each pattern and append tokens to words, the patterns and\n",
    "# the associated tag to their associated list\n",
    "for intent in bot_data[\"intents\"]:\n",
    "    for pattern in intent[\"patterns\"]:\n",
    "        tokens = nltk.word_tokenize(pattern)\n",
    "        words.extend(tokens)\n",
    "        file_A.append(pattern)\n",
    "        file_B.append(intent[\"tag\"])\n",
    "    \n",
    "    # add the tag to the classes if it's not there already \n",
    "    if intent[\"tag\"] not in classes:\n",
    "        classes.append(intent[\"tag\"])\n",
    "        \n",
    "# lemmatize all the words in the vocab and convert them to lowercase\n",
    "\n",
    "# if the words don't appear in punctuation\n",
    "words = [lemmatizer.lemmatize(word.lower()) for word in words if word not in string.punctuation]\n",
    "\n",
    "# sorting the vocab and classes \n",
    "words = sorted(set(words))\n",
    "classes = sorted(set(classes))"
   ]
  },
  {
   "cell_type": "code",
   "execution_count": 168,
   "metadata": {},
   "outputs": [
    {
     "name": "stdout",
     "output_type": "stream",
     "text": [
      "Words:\n",
      " ['a', 'able', 'access', 'activation', 'ada', 'adam', 'aifl', 'aiml', 'am', 'an', 'ann', 'anyone', 'are', 'artificial', 'backward', 'bad', 'bagging', 'batch', 'bayes', 'belong', 'best', 'blended', 'bloody', 'boosting', 'bot', 'buddy', 'classification', 'contact', 'create', 'cross', 'cya', 'day', 'deep', 'did', 'diffult', 'do', 'ensemble', 'epoch', 'explain', 'first', 'for', 'forest', 'forward', 'from', 'function', 'good', 'goodbye', 'gradient', 'great', 'hate', 'have', 'hell', 'hello', 'help', 'helped', 'hey', 'hi', 'hidden', 'hour', 'how', 'hyper', 'i', 'imputer', 'in', 'intelligence', 'is', 'jerk', 'joke', 'knn', 'later', 'layer', 'learner', 'learning', 'leaving', 'link', 'listen', 'logistic', 'lot', 'machine', 'me', 'ml', 'my', 'naive', 'name', 'nb', 'net', 'network', 'neural', 'no', 'not', 'of', 'olympus', 'olypus', 'on', 'online', 'operation', 'opertions', 'otimizer', 'parameter', 'piece', 'please', 'pm', 'problem', 'propagation', 'random', 'regression', 'relu', 'screw', 'see', 'sgd', 'shit', 'sigmoid', 'sl', 'smart', 'softmax', 'solution', 'solved', 'stupid', 'supervised', 'svm', 'talking', 'teach', 'techb=niques', 'technique', 'thank', 'thanks', 'the', 'there', 'think', 'ticket', 'time', 'to', 'ton', 'too', 'tool', 'unable', 'understand', 'up', 'use', 'useless', 'validation', 'very', 'visible', 'wasted', 'weight', 'what', 'whats', 'when', 'who', 'whom', 'window', 'with', 'work', 'working', 'ya', 'yo', 'you', 'your']\n",
      "\n",
      " * * * * * * * * * * * * * * * * * * * * * * * * * * * * * * * * * * * * * * * * * * * * * * * * * * * * * * *\n",
      "\n",
      "Labels:\n",
      " ['Bot', 'Exit', 'Intro', 'NN', 'Olympus', 'Profane', 'SL', 'Ticket']\n"
     ]
    }
   ],
   "source": [
    "print(\"Words:\\n\", words)\n",
    "print()\n",
    "print(\" *\"*55)\n",
    "print()\n",
    "print(\"Labels:\\n\", classes)"
   ]
  },
  {
   "cell_type": "code",
   "execution_count": 169,
   "metadata": {},
   "outputs": [
    {
     "name": "stdout",
     "output_type": "stream",
     "text": [
      "['hi', 'how are you', 'is anyone there', 'hello', 'whats up', 'hey', 'yo', 'listen', 'please help me', 'i am learner from', 'i belong to', 'aiml batch', 'aifl batch', 'i am from', 'my pm is', 'blended', 'online', 'i am from', 'hey ya', 'talking to you for first time', 'thank you', 'thanks', 'cya', 'see you', 'later', 'see you later', 'goodbye', 'i am leaving', 'have a Good day', 'you helped me', 'thanks a lot', 'thanks a ton', 'you are the best', 'great help', 'too good', 'you are a good learning buddy', 'olympus', 'explain me how olympus works', 'I am not able to understand olympus', 'olympus window not working', 'no access to olympus', 'unable to see link in olympus', 'no link visible on olympus', 'whom to contact for olympus', 'lot of problem with olympus', 'olypus is not a good tool', 'lot of problems with olympus', 'how to use olympus', 'teach me olympus', 'i am not able to understand svm', 'explain me how machine learning works', 'i am not able to understand naive bayes', 'i am not able to understand logistic regression', 'i am not able to understand ensemble techb=niques', 'i am not able to understand knn', 'i am not able to understand knn imputer', 'i am not able to understand cross validation', 'i am not able to understand boosting', 'i am not able to understand random forest', 'i am not able to understand ada boosting', 'i am not able to understand gradient boosting', 'machine learning', 'ML', 'SL', 'supervised learning', 'knn', 'logistic regression', 'regression', 'classification', 'naive bayes', 'nb', 'ensemble techniques', 'bagging', 'boosting', 'ada boosting', 'ada', 'gradient boosting', 'hyper parameters', 'what is deep learning', 'unable to understand deep learning', 'explain me how deep learning works', 'i am not able to understand deep learning', 'not able to understand neural nets', 'very diffult to understand neural nets', 'unable to understand neural nets', 'ann', 'artificial intelligence', 'artificial neural networks', 'weights', 'activation function', 'hidden layers', 'softmax', 'sigmoid', 'relu', 'otimizer', 'forward propagation', 'backward propagation', 'epochs', 'epoch', 'what is an epoch', 'adam', 'sgd', 'what is your name', 'who are you', 'name please', 'when are your hours of opertions', 'what are your working hours', 'hours of operation', 'working hours', 'hours', 'what the hell', 'bloody stupid bot', 'do you think you are very smart', 'screw you', 'i hate you', 'you are stupid', 'jerk', 'you are a joke', 'useless piece of shit', 'my problem is not solved', 'you did not help me', 'not a good solution', 'bad solution', 'not good solution', 'no help', 'wasted my time', 'useless bot', 'create a ticket']\n",
      "\n",
      " * * * * * * * * * * * * * * * * * * * * * * * * * * * * * * * * * * * * * * * * * * * * * * * * * * * * * * *\n",
      "\n",
      "['Intro', 'Intro', 'Intro', 'Intro', 'Intro', 'Intro', 'Intro', 'Intro', 'Intro', 'Intro', 'Intro', 'Intro', 'Intro', 'Intro', 'Intro', 'Intro', 'Intro', 'Intro', 'Intro', 'Intro', 'Exit', 'Exit', 'Exit', 'Exit', 'Exit', 'Exit', 'Exit', 'Exit', 'Exit', 'Exit', 'Exit', 'Exit', 'Exit', 'Exit', 'Exit', 'Exit', 'Olympus', 'Olympus', 'Olympus', 'Olympus', 'Olympus', 'Olympus', 'Olympus', 'Olympus', 'Olympus', 'Olympus', 'Olympus', 'Olympus', 'Olympus', 'SL', 'SL', 'SL', 'SL', 'SL', 'SL', 'SL', 'SL', 'SL', 'SL', 'SL', 'SL', 'SL', 'SL', 'SL', 'SL', 'SL', 'SL', 'SL', 'SL', 'SL', 'SL', 'SL', 'SL', 'SL', 'SL', 'SL', 'SL', 'SL', 'NN', 'NN', 'NN', 'NN', 'NN', 'NN', 'NN', 'NN', 'NN', 'NN', 'NN', 'NN', 'NN', 'NN', 'NN', 'NN', 'NN', 'NN', 'NN', 'NN', 'NN', 'NN', 'NN', 'NN', 'Bot', 'Bot', 'Bot', 'Bot', 'Bot', 'Bot', 'Bot', 'Bot', 'Profane', 'Profane', 'Profane', 'Profane', 'Profane', 'Profane', 'Profane', 'Profane', 'Profane', 'Ticket', 'Ticket', 'Ticket', 'Ticket', 'Ticket', 'Ticket', 'Ticket', 'Ticket', 'Ticket']\n"
     ]
    }
   ],
   "source": [
    "print(file_A)\n",
    "print()\n",
    "print(\" *\"*55)\n",
    "print()\n",
    "print(file_B)"
   ]
  },
  {
   "cell_type": "code",
   "execution_count": 170,
   "metadata": {},
   "outputs": [],
   "source": [
    "# list for training data\n",
    "training = []\n",
    "out_empty = [0] * len(classes)\n",
    "\n",
    "# creating the bag of words model\n",
    "for idx, doc in enumerate(file_A):\n",
    "    bow = []\n",
    "    text = lemmatizer.lemmatize(doc.lower())\n",
    "    for word in words:\n",
    "        bow.append(1) if word in text else bow.append(0)\n",
    "    # mark the index of class that the current pattern is associated\n",
    "    # to\n",
    "    output_row = list(out_empty)\n",
    "    output_row[classes.index(file_B[idx])] = 1\n",
    "    # add the one hot encoded BoW and associated classes to training \n",
    "    training.append([bow, output_row])\n",
    "    \n",
    "# shuffle the data and convert it to an array\n",
    "random.shuffle(training)\n",
    "training = np.array(training, dtype=object)\n",
    "# split the features and target labels\n",
    "train_X = np.array(list(training[:, 0]))\n",
    "train_y = np.array(list(training[:, 1]))# list for training data\n",
    "training = []\n",
    "out_empty = [0] * len(classes)\n",
    "\n",
    "# creating the bag of words model\n",
    "for idx, doc in enumerate(file_A):\n",
    "    bow = []\n",
    "    text = lemmatizer.lemmatize(doc.lower())\n",
    "    \n",
    "    for word in words:\n",
    "        bow.append(1) if word in text else bow.append(0)\n",
    "    # mark the index of class that the current pattern is associated to\n",
    "    output_row = list(out_empty)\n",
    "    output_row[classes.index(file_B[idx])] = 1\n",
    "    # add the one hot encoded BoW and associated classes to training \n",
    "    training.append([bow, output_row])\n",
    "    \n",
    "# shuffle the data and convert it to an array\n",
    "random.shuffle(training)\n",
    "training = np.array(training, dtype=object)\n",
    "# split the features and target labels\n",
    "train_X = np.array(list(training[:, 0]))\n",
    "train_y = np.array(list(training[:, 1]))"
   ]
  },
  {
   "cell_type": "code",
   "execution_count": 171,
   "metadata": {},
   "outputs": [],
   "source": [
    "# defining some parameters\n",
    "input_shape = (len(train_X[0]),)\n",
    "output_shape = len(train_y[0])\n",
    "epochs = 150\n",
    "\n",
    "#Clear any existing model in memory\n",
    "tf.keras.backend.clear_session()\n",
    "\n",
    "#Initialize model\n",
    "model = Sequential()\n",
    "\n",
    "# Input layer \n",
    "model.add(Dense(128, input_shape=input_shape, activation=\"relu\"))\n",
    "model.add(Dropout(0.5))\n",
    "model.add(Dense(64, activation=\"relu\"))\n",
    "model.add(Dropout(0.3))\n",
    "\n",
    "#Output layer\n",
    "model.add(Dense(output_shape, activation = \"softmax\"))\n",
    "\n",
    "#Defining optimizer\n",
    "adam = tf.keras.optimizers.Adam(learning_rate=0.01, decay=1e-6)\n",
    "\n",
    "#Configuring the model for training\n",
    "model.compile(loss='categorical_crossentropy',\n",
    "              optimizer=adam,\n",
    "              metrics=[\"accuracy\"])\n",
    "\n"
   ]
  },
  {
   "cell_type": "code",
   "execution_count": 172,
   "metadata": {},
   "outputs": [
    {
     "name": "stdout",
     "output_type": "stream",
     "text": [
      "Model: \"sequential\"\n",
      "_________________________________________________________________\n",
      " Layer (type)                Output Shape              Param #   \n",
      "=================================================================\n",
      " dense (Dense)               (None, 128)               20352     \n",
      "                                                                 \n",
      " dropout (Dropout)           (None, 128)               0         \n",
      "                                                                 \n",
      " dense_1 (Dense)             (None, 64)                8256      \n",
      "                                                                 \n",
      " dropout_1 (Dropout)         (None, 64)                0         \n",
      "                                                                 \n",
      " dense_2 (Dense)             (None, 8)                 520       \n",
      "                                                                 \n",
      "=================================================================\n",
      "Total params: 29,128\n",
      "Trainable params: 29,128\n",
      "Non-trainable params: 0\n",
      "_________________________________________________________________\n",
      "None\n",
      "Epoch 1/150\n",
      "4/4 [==============================] - 1s 3ms/step - loss: 2.0796 - accuracy: 0.1875\n",
      "Epoch 2/150\n",
      "4/4 [==============================] - 0s 3ms/step - loss: 1.7822 - accuracy: 0.2969\n",
      "Epoch 3/150\n",
      "4/4 [==============================] - 0s 4ms/step - loss: 1.5487 - accuracy: 0.4297\n",
      "Epoch 4/150\n",
      "4/4 [==============================] - 0s 5ms/step - loss: 1.3415 - accuracy: 0.5938\n",
      "Epoch 5/150\n",
      "4/4 [==============================] - 0s 3ms/step - loss: 1.0637 - accuracy: 0.6719\n",
      "Epoch 6/150\n",
      "4/4 [==============================] - 0s 4ms/step - loss: 0.8642 - accuracy: 0.7656\n",
      "Epoch 7/150\n",
      "4/4 [==============================] - 0s 4ms/step - loss: 0.7085 - accuracy: 0.7891\n",
      "Epoch 8/150\n",
      "4/4 [==============================] - 0s 4ms/step - loss: 0.4979 - accuracy: 0.9062\n",
      "Epoch 9/150\n",
      "4/4 [==============================] - 0s 4ms/step - loss: 0.3473 - accuracy: 0.9219\n",
      "Epoch 10/150\n",
      "4/4 [==============================] - 0s 4ms/step - loss: 0.2920 - accuracy: 0.9141\n",
      "Epoch 11/150\n",
      "4/4 [==============================] - 0s 3ms/step - loss: 0.1632 - accuracy: 0.9688\n",
      "Epoch 12/150\n",
      "4/4 [==============================] - 0s 3ms/step - loss: 0.1346 - accuracy: 0.9688\n",
      "Epoch 13/150\n",
      "4/4 [==============================] - 0s 4ms/step - loss: 0.1403 - accuracy: 0.9375\n",
      "Epoch 14/150\n",
      "4/4 [==============================] - 0s 4ms/step - loss: 0.0835 - accuracy: 0.9688\n",
      "Epoch 15/150\n",
      "4/4 [==============================] - 0s 3ms/step - loss: 0.1041 - accuracy: 0.9766\n",
      "Epoch 16/150\n",
      "4/4 [==============================] - 0s 4ms/step - loss: 0.0597 - accuracy: 0.9844\n",
      "Epoch 17/150\n",
      "4/4 [==============================] - 0s 3ms/step - loss: 0.0405 - accuracy: 1.0000\n",
      "Epoch 18/150\n",
      "4/4 [==============================] - 0s 3ms/step - loss: 0.0645 - accuracy: 0.9766\n",
      "Epoch 19/150\n",
      "4/4 [==============================] - 0s 4ms/step - loss: 0.0890 - accuracy: 0.9922\n",
      "Epoch 20/150\n",
      "4/4 [==============================] - 0s 4ms/step - loss: 0.0926 - accuracy: 0.9844\n",
      "Epoch 21/150\n",
      "4/4 [==============================] - 0s 3ms/step - loss: 0.0444 - accuracy: 0.9922\n",
      "Epoch 22/150\n",
      "4/4 [==============================] - 0s 4ms/step - loss: 0.0457 - accuracy: 0.9844\n",
      "Epoch 23/150\n",
      "4/4 [==============================] - 0s 4ms/step - loss: 0.0374 - accuracy: 0.9922\n",
      "Epoch 24/150\n",
      "4/4 [==============================] - 0s 4ms/step - loss: 0.0455 - accuracy: 0.9844\n",
      "Epoch 25/150\n",
      "4/4 [==============================] - 0s 3ms/step - loss: 0.0597 - accuracy: 0.9922\n",
      "Epoch 26/150\n",
      "4/4 [==============================] - 0s 4ms/step - loss: 0.0370 - accuracy: 0.9844\n",
      "Epoch 27/150\n",
      "4/4 [==============================] - 0s 4ms/step - loss: 0.0262 - accuracy: 0.9922\n",
      "Epoch 28/150\n",
      "4/4 [==============================] - 0s 4ms/step - loss: 0.0098 - accuracy: 1.0000\n",
      "Epoch 29/150\n",
      "4/4 [==============================] - 0s 4ms/step - loss: 0.0671 - accuracy: 0.9688\n",
      "Epoch 30/150\n",
      "4/4 [==============================] - 0s 4ms/step - loss: 0.0353 - accuracy: 0.9922\n",
      "Epoch 31/150\n",
      "4/4 [==============================] - 0s 3ms/step - loss: 0.0154 - accuracy: 0.9922\n",
      "Epoch 32/150\n",
      "4/4 [==============================] - 0s 4ms/step - loss: 0.0683 - accuracy: 0.9766\n",
      "Epoch 33/150\n",
      "4/4 [==============================] - 0s 4ms/step - loss: 0.0439 - accuracy: 0.9922\n",
      "Epoch 34/150\n",
      "4/4 [==============================] - 0s 4ms/step - loss: 0.0270 - accuracy: 0.9922\n",
      "Epoch 35/150\n",
      "4/4 [==============================] - 0s 4ms/step - loss: 0.0102 - accuracy: 1.0000\n",
      "Epoch 36/150\n",
      "4/4 [==============================] - 0s 5ms/step - loss: 0.0053 - accuracy: 1.0000\n",
      "Epoch 37/150\n",
      "4/4 [==============================] - 0s 4ms/step - loss: 0.0203 - accuracy: 1.0000\n",
      "Epoch 38/150\n",
      "4/4 [==============================] - 0s 4ms/step - loss: 0.0191 - accuracy: 0.9922\n",
      "Epoch 39/150\n",
      "4/4 [==============================] - 0s 4ms/step - loss: 0.0266 - accuracy: 0.9922\n",
      "Epoch 40/150\n",
      "4/4 [==============================] - 0s 4ms/step - loss: 0.0288 - accuracy: 0.9922\n",
      "Epoch 41/150\n",
      "4/4 [==============================] - 0s 3ms/step - loss: 0.0186 - accuracy: 0.9922\n",
      "Epoch 42/150\n",
      "4/4 [==============================] - 0s 3ms/step - loss: 0.0183 - accuracy: 0.9922\n",
      "Epoch 43/150\n",
      "4/4 [==============================] - 0s 4ms/step - loss: 0.0075 - accuracy: 1.0000\n",
      "Epoch 44/150\n",
      "4/4 [==============================] - 0s 4ms/step - loss: 0.0053 - accuracy: 1.0000\n",
      "Epoch 45/150\n",
      "4/4 [==============================] - 0s 3ms/step - loss: 0.0216 - accuracy: 0.9922\n",
      "Epoch 46/150\n",
      "4/4 [==============================] - 0s 3ms/step - loss: 0.0150 - accuracy: 0.9922\n",
      "Epoch 47/150\n",
      "4/4 [==============================] - 0s 4ms/step - loss: 0.0032 - accuracy: 1.0000\n",
      "Epoch 48/150\n",
      "4/4 [==============================] - 0s 3ms/step - loss: 0.0162 - accuracy: 1.0000\n",
      "Epoch 49/150\n",
      "4/4 [==============================] - 0s 3ms/step - loss: 0.0065 - accuracy: 1.0000\n",
      "Epoch 50/150\n",
      "4/4 [==============================] - 0s 3ms/step - loss: 0.0135 - accuracy: 0.9922\n",
      "Epoch 51/150\n",
      "4/4 [==============================] - 0s 2ms/step - loss: 0.0132 - accuracy: 0.9922\n",
      "Epoch 52/150\n",
      "4/4 [==============================] - 0s 3ms/step - loss: 0.0249 - accuracy: 0.9922\n",
      "Epoch 53/150\n",
      "4/4 [==============================] - 0s 3ms/step - loss: 0.0116 - accuracy: 1.0000\n",
      "Epoch 54/150\n",
      "4/4 [==============================] - 0s 4ms/step - loss: 0.0136 - accuracy: 0.9922\n",
      "Epoch 55/150\n",
      "4/4 [==============================] - 0s 3ms/step - loss: 0.0088 - accuracy: 1.0000\n",
      "Epoch 56/150\n",
      "4/4 [==============================] - 0s 3ms/step - loss: 0.0155 - accuracy: 0.9922\n",
      "Epoch 57/150\n",
      "4/4 [==============================] - 0s 2ms/step - loss: 0.0169 - accuracy: 0.9922\n",
      "Epoch 58/150\n",
      "4/4 [==============================] - 0s 3ms/step - loss: 0.0223 - accuracy: 0.9922\n",
      "Epoch 59/150\n",
      "4/4 [==============================] - 0s 3ms/step - loss: 0.0489 - accuracy: 0.9844\n",
      "Epoch 60/150\n",
      "4/4 [==============================] - 0s 4ms/step - loss: 0.0246 - accuracy: 0.9922\n",
      "Epoch 61/150\n",
      "4/4 [==============================] - 0s 3ms/step - loss: 0.0029 - accuracy: 1.0000\n",
      "Epoch 62/150\n",
      "4/4 [==============================] - 0s 3ms/step - loss: 0.0072 - accuracy: 1.0000\n",
      "Epoch 63/150\n",
      "4/4 [==============================] - 0s 3ms/step - loss: 0.0254 - accuracy: 0.9922\n",
      "Epoch 64/150\n",
      "4/4 [==============================] - 0s 3ms/step - loss: 0.0083 - accuracy: 1.0000\n",
      "Epoch 65/150\n",
      "4/4 [==============================] - 0s 3ms/step - loss: 0.0041 - accuracy: 1.0000\n",
      "Epoch 66/150\n",
      "4/4 [==============================] - 0s 3ms/step - loss: 0.0098 - accuracy: 1.0000\n",
      "Epoch 67/150\n",
      "4/4 [==============================] - 0s 3ms/step - loss: 0.0158 - accuracy: 0.9922\n",
      "Epoch 68/150\n",
      "4/4 [==============================] - 0s 4ms/step - loss: 0.0017 - accuracy: 1.0000\n",
      "Epoch 69/150\n",
      "4/4 [==============================] - 0s 3ms/step - loss: 0.0569 - accuracy: 0.9922\n",
      "Epoch 70/150\n",
      "4/4 [==============================] - 0s 3ms/step - loss: 0.0072 - accuracy: 1.0000\n",
      "Epoch 71/150\n",
      "4/4 [==============================] - 0s 3ms/step - loss: 0.0045 - accuracy: 1.0000\n",
      "Epoch 72/150\n",
      "4/4 [==============================] - 0s 3ms/step - loss: 0.0175 - accuracy: 0.9922\n",
      "Epoch 73/150\n"
     ]
    },
    {
     "name": "stdout",
     "output_type": "stream",
     "text": [
      "4/4 [==============================] - 0s 3ms/step - loss: 0.0111 - accuracy: 1.0000\n",
      "Epoch 74/150\n",
      "4/4 [==============================] - 0s 3ms/step - loss: 0.0498 - accuracy: 0.9766\n",
      "Epoch 75/150\n",
      "4/4 [==============================] - 0s 5ms/step - loss: 0.0171 - accuracy: 0.9844\n",
      "Epoch 76/150\n",
      "4/4 [==============================] - 0s 2ms/step - loss: 0.0117 - accuracy: 0.9922\n",
      "Epoch 77/150\n",
      "4/4 [==============================] - 0s 4ms/step - loss: 0.0022 - accuracy: 1.0000\n",
      "Epoch 78/150\n",
      "4/4 [==============================] - 0s 4ms/step - loss: 0.0055 - accuracy: 1.0000\n",
      "Epoch 79/150\n",
      "4/4 [==============================] - 0s 4ms/step - loss: 0.0105 - accuracy: 1.0000\n",
      "Epoch 80/150\n",
      "4/4 [==============================] - 0s 3ms/step - loss: 0.0057 - accuracy: 1.0000\n",
      "Epoch 81/150\n",
      "4/4 [==============================] - 0s 3ms/step - loss: 0.0287 - accuracy: 0.9922\n",
      "Epoch 82/150\n",
      "4/4 [==============================] - 0s 3ms/step - loss: 0.0254 - accuracy: 0.9922\n",
      "Epoch 83/150\n",
      "4/4 [==============================] - 0s 3ms/step - loss: 0.0078 - accuracy: 1.0000\n",
      "Epoch 84/150\n",
      "4/4 [==============================] - 0s 3ms/step - loss: 0.0213 - accuracy: 0.9922\n",
      "Epoch 85/150\n",
      "4/4 [==============================] - 0s 3ms/step - loss: 0.0453 - accuracy: 0.9844\n",
      "Epoch 86/150\n",
      "4/4 [==============================] - 0s 3ms/step - loss: 0.0014 - accuracy: 1.0000\n",
      "Epoch 87/150\n",
      "4/4 [==============================] - 0s 2ms/step - loss: 0.0034 - accuracy: 1.0000\n",
      "Epoch 88/150\n",
      "4/4 [==============================] - 0s 3ms/step - loss: 0.0543 - accuracy: 0.9766\n",
      "Epoch 89/150\n",
      "4/4 [==============================] - 0s 4ms/step - loss: 0.0023 - accuracy: 1.0000\n",
      "Epoch 90/150\n",
      "4/4 [==============================] - 0s 3ms/step - loss: 0.0046 - accuracy: 1.0000\n",
      "Epoch 91/150\n",
      "4/4 [==============================] - 0s 3ms/step - loss: 9.4274e-04 - accuracy: 1.0000\n",
      "Epoch 92/150\n",
      "4/4 [==============================] - 0s 3ms/step - loss: 6.7315e-04 - accuracy: 1.0000\n",
      "Epoch 93/150\n",
      "4/4 [==============================] - 0s 3ms/step - loss: 0.0019 - accuracy: 1.0000\n",
      "Epoch 94/150\n",
      "4/4 [==============================] - 0s 3ms/step - loss: 0.0149 - accuracy: 0.9922\n",
      "Epoch 95/150\n",
      "4/4 [==============================] - 0s 3ms/step - loss: 0.0053 - accuracy: 1.0000\n",
      "Epoch 96/150\n",
      "4/4 [==============================] - 0s 3ms/step - loss: 0.0286 - accuracy: 0.9844\n",
      "Epoch 97/150\n",
      "4/4 [==============================] - 0s 3ms/step - loss: 0.0368 - accuracy: 0.9922\n",
      "Epoch 98/150\n",
      "4/4 [==============================] - 0s 3ms/step - loss: 0.0084 - accuracy: 0.9922\n",
      "Epoch 99/150\n",
      "4/4 [==============================] - 0s 3ms/step - loss: 0.0020 - accuracy: 1.0000\n",
      "Epoch 100/150\n",
      "4/4 [==============================] - 0s 3ms/step - loss: 0.0057 - accuracy: 1.0000\n",
      "Epoch 101/150\n",
      "4/4 [==============================] - 0s 3ms/step - loss: 0.0040 - accuracy: 1.0000\n",
      "Epoch 102/150\n",
      "4/4 [==============================] - 0s 3ms/step - loss: 0.0548 - accuracy: 0.9844\n",
      "Epoch 103/150\n",
      "4/4 [==============================] - 0s 3ms/step - loss: 0.0205 - accuracy: 0.9922\n",
      "Epoch 104/150\n",
      "4/4 [==============================] - 0s 3ms/step - loss: 0.0156 - accuracy: 0.9922\n",
      "Epoch 105/150\n",
      "4/4 [==============================] - 0s 3ms/step - loss: 0.0090 - accuracy: 0.9922\n",
      "Epoch 106/150\n",
      "4/4 [==============================] - 0s 3ms/step - loss: 0.0044 - accuracy: 1.0000\n",
      "Epoch 107/150\n",
      "4/4 [==============================] - 0s 3ms/step - loss: 0.0104 - accuracy: 1.0000\n",
      "Epoch 108/150\n",
      "4/4 [==============================] - 0s 3ms/step - loss: 0.0062 - accuracy: 1.0000\n",
      "Epoch 109/150\n",
      "4/4 [==============================] - 0s 3ms/step - loss: 0.0044 - accuracy: 1.0000\n",
      "Epoch 110/150\n",
      "4/4 [==============================] - 0s 3ms/step - loss: 0.0048 - accuracy: 1.0000\n",
      "Epoch 111/150\n",
      "4/4 [==============================] - 0s 3ms/step - loss: 0.0380 - accuracy: 0.9922\n",
      "Epoch 112/150\n",
      "4/4 [==============================] - 0s 3ms/step - loss: 0.0019 - accuracy: 1.0000\n",
      "Epoch 113/150\n",
      "4/4 [==============================] - 0s 3ms/step - loss: 0.0042 - accuracy: 1.0000\n",
      "Epoch 114/150\n",
      "4/4 [==============================] - 0s 4ms/step - loss: 0.0154 - accuracy: 0.9922\n",
      "Epoch 115/150\n",
      "4/4 [==============================] - 0s 4ms/step - loss: 0.0023 - accuracy: 1.0000\n",
      "Epoch 116/150\n",
      "4/4 [==============================] - 0s 3ms/step - loss: 0.0077 - accuracy: 0.9922\n",
      "Epoch 117/150\n",
      "4/4 [==============================] - 0s 4ms/step - loss: 0.0232 - accuracy: 0.9922\n",
      "Epoch 118/150\n",
      "4/4 [==============================] - 0s 4ms/step - loss: 0.0278 - accuracy: 0.9922\n",
      "Epoch 119/150\n",
      "4/4 [==============================] - 0s 3ms/step - loss: 0.0738 - accuracy: 0.9844\n",
      "Epoch 120/150\n",
      "4/4 [==============================] - 0s 7ms/step - loss: 0.0411 - accuracy: 0.9922\n",
      "Epoch 121/150\n",
      "4/4 [==============================] - 0s 3ms/step - loss: 0.0205 - accuracy: 0.9922\n",
      "Epoch 122/150\n",
      "4/4 [==============================] - 0s 3ms/step - loss: 0.0208 - accuracy: 0.9922\n",
      "Epoch 123/150\n",
      "4/4 [==============================] - 0s 3ms/step - loss: 0.0151 - accuracy: 0.9922\n",
      "Epoch 124/150\n",
      "4/4 [==============================] - 0s 4ms/step - loss: 0.0017 - accuracy: 1.0000\n",
      "Epoch 125/150\n",
      "4/4 [==============================] - 0s 4ms/step - loss: 0.0047 - accuracy: 1.0000\n",
      "Epoch 126/150\n",
      "4/4 [==============================] - 0s 3ms/step - loss: 0.0103 - accuracy: 0.9922\n",
      "Epoch 127/150\n",
      "4/4 [==============================] - 0s 4ms/step - loss: 0.0038 - accuracy: 1.0000\n",
      "Epoch 128/150\n",
      "4/4 [==============================] - 0s 3ms/step - loss: 0.0013 - accuracy: 1.0000\n",
      "Epoch 129/150\n",
      "4/4 [==============================] - 0s 4ms/step - loss: 0.0037 - accuracy: 1.0000\n",
      "Epoch 130/150\n",
      "4/4 [==============================] - 0s 4ms/step - loss: 0.0037 - accuracy: 1.0000\n",
      "Epoch 131/150\n",
      "4/4 [==============================] - 0s 3ms/step - loss: 0.0014 - accuracy: 1.0000\n",
      "Epoch 132/150\n",
      "4/4 [==============================] - 0s 5ms/step - loss: 0.0042 - accuracy: 1.0000\n",
      "Epoch 133/150\n",
      "4/4 [==============================] - 0s 3ms/step - loss: 0.0037 - accuracy: 1.0000\n",
      "Epoch 134/150\n",
      "4/4 [==============================] - 0s 4ms/step - loss: 0.0088 - accuracy: 1.0000\n",
      "Epoch 135/150\n",
      "4/4 [==============================] - 0s 4ms/step - loss: 0.0025 - accuracy: 1.0000\n",
      "Epoch 136/150\n",
      "4/4 [==============================] - 0s 3ms/step - loss: 0.0061 - accuracy: 1.0000\n",
      "Epoch 137/150\n",
      "4/4 [==============================] - 0s 4ms/step - loss: 2.2534e-04 - accuracy: 1.0000\n",
      "Epoch 138/150\n",
      "4/4 [==============================] - 0s 3ms/step - loss: 0.0027 - accuracy: 1.0000\n",
      "Epoch 139/150\n",
      "4/4 [==============================] - 0s 4ms/step - loss: 0.0403 - accuracy: 0.9922\n",
      "Epoch 140/150\n",
      "4/4 [==============================] - 0s 3ms/step - loss: 0.0327 - accuracy: 0.9844\n",
      "Epoch 141/150\n",
      "4/4 [==============================] - 0s 3ms/step - loss: 0.0122 - accuracy: 0.9922\n",
      "Epoch 142/150\n",
      "4/4 [==============================] - 0s 3ms/step - loss: 0.0013 - accuracy: 1.0000\n",
      "Epoch 143/150\n",
      "4/4 [==============================] - 0s 3ms/step - loss: 0.0036 - accuracy: 1.0000\n",
      "Epoch 144/150\n",
      "4/4 [==============================] - 0s 3ms/step - loss: 0.0100 - accuracy: 0.9922\n",
      "Epoch 145/150\n",
      "4/4 [==============================] - 0s 3ms/step - loss: 0.0286 - accuracy: 0.9922\n",
      "Epoch 146/150\n",
      "4/4 [==============================] - 0s 3ms/step - loss: 1.2335e-04 - accuracy: 1.0000\n",
      "Epoch 147/150\n",
      "4/4 [==============================] - 0s 3ms/step - loss: 0.0031 - accuracy: 1.0000\n",
      "Epoch 148/150\n",
      "4/4 [==============================] - 0s 3ms/step - loss: 0.0121 - accuracy: 0.9922\n",
      "Epoch 149/150\n",
      "4/4 [==============================] - 0s 3ms/step - loss: 0.0097 - accuracy: 0.9922\n",
      "Epoch 150/150\n",
      "4/4 [==============================] - 0s 4ms/step - loss: 0.0049 - accuracy: 1.0000\n"
     ]
    },
    {
     "data": {
      "text/plain": [
       "<keras.callbacks.History at 0x2c54256d940>"
      ]
     },
     "execution_count": 172,
     "metadata": {},
     "output_type": "execute_result"
    }
   ],
   "source": [
    "# Model summary\n",
    "print(model.summary())\n",
    "\n",
    "# Training the model\n",
    "model.fit(x=train_X, y=train_y, epochs=150, verbose=1)"
   ]
  },
  {
   "cell_type": "code",
   "execution_count": 173,
   "metadata": {},
   "outputs": [],
   "source": [
    "#Functions for Chatbot Sessions\n",
    "\n",
    "def bag_of_words(text, vocab): \n",
    "    tokens = clean_text(text)\n",
    "    bow = [0] * len(vocab)\n",
    "    for w in tokens: \n",
    "        for idx, word in enumerate(vocab):\n",
    "              if word == w: \n",
    "                bow[idx] = 1\n",
    "    return np.array(bow)\n",
    "\n",
    "def clean_text(text): \n",
    "    tokens = nltk.word_tokenize(text)\n",
    "    tokens = [lemmatizer.lemmatize(word) for word in tokens]\n",
    "    return tokens\n",
    "\n",
    "def pred_class(text, vocab, labels): \n",
    "    bow = bag_of_words(text, vocab)\n",
    "    result = model.predict(np.array([bow]))[0]\n",
    "    thresh = 0.2\n",
    "    y_pred = [[idx, res] for idx, res in enumerate(result) if res > thresh]\n",
    "\n",
    "    y_pred.sort(key=lambda x: x[1], reverse=True)\n",
    "    return_list = []\n",
    "    for r in y_pred:\n",
    "        return_list.append(labels[r[0]])\n",
    "    return return_list\n",
    "\n",
    "def get_response(intents_list, intents_json): \n",
    "    tag = intents_list[0]\n",
    "    list_of_intents = intents_json[\"intents\"]\n",
    "    for i in list_of_intents: \n",
    "        if i[\"tag\"] == tag:\n",
    "            result = random.choice(i[\"responses\"])\n",
    "            break\n",
    "    return result"
   ]
  },
  {
   "cell_type": "code",
   "execution_count": 174,
   "metadata": {},
   "outputs": [
    {
     "name": "stdout",
     "output_type": "stream",
     "text": [
      "BOT : Chat with the bot[Type 'quit' to END] !\n",
      "\n",
      "BOT : If answer is not  right[Type '?'] !\n",
      "\n",
      "\n",
      "You: Hi\n",
      "1/1 [==============================] - 0s 153ms/step\n",
      "\n",
      "BOT :  Hello! how can i help you ?\n",
      "\n",
      "\n",
      "You: no link visible on olympus\n",
      "1/1 [==============================] - 0s 24ms/step\n",
      "\n",
      "BOT :  Link: Olympus wiki\n",
      "\n",
      "\n",
      "You: when are your hours of opertions\n",
      "1/1 [==============================] - 0s 22ms/step\n",
      "\n",
      "BOT :  I am your virtual learning assistant\n",
      "\n",
      "\n",
      "You: create a ticket\n",
      "1/1 [==============================] - 0s 23ms/step\n",
      "\n",
      "BOT :  Tarnsferring the request to your PM\n",
      "\n",
      "\n",
      "You: what the hell\n",
      "1/1 [==============================] - 0s 22ms/step\n",
      "\n",
      "BOT :  Please use respectful words\n",
      "\n",
      "\n",
      "You: okay\n",
      "1/1 [==============================] - 0s 26ms/step\n",
      "\n",
      "BOT :  Hello! how can i help you ?\n",
      "\n",
      "\n",
      "You: quit\n"
     ]
    }
   ],
   "source": [
    "# Running the chatbot\n",
    "\n",
    "print(\"BOT : Chat with the bot[Type 'quit' to END] !\")\n",
    "print(\"\\nBOT : If answer is not  right[Type '?'] !\")\n",
    "while True:\n",
    "  #Reading Input\n",
    "    message = input(\"\\n\\nYou: \")\n",
    "  #Correcting chat\n",
    "    if message.lower() == \"?\":\n",
    "        print(\"\\nBOT:Please try again\")\n",
    "  #Stopping Chat\n",
    "    if message.lower() == \"quit\":\n",
    "        break\n",
    "  #Predicting and printing response  \n",
    "    intents = pred_class(message, words, classes)\n",
    "    result = get_response(intents, chat_data)\n",
    "    print(\"\\nBOT : \", result)"
   ]
  },
  {
   "cell_type": "code",
   "execution_count": null,
   "metadata": {},
   "outputs": [],
   "source": []
  }
 ],
 "metadata": {
  "colab": {
   "authorship_tag": "ABX9TyNX3MID/QupwOXhcttCALe9",
   "collapsed_sections": [],
   "mount_file_id": "1sZi9z0ozFXQBn5JQAXyG-Hmb5rJGjLTS",
   "provenance": []
  },
  "kernelspec": {
   "display_name": "Python 3",
   "language": "python",
   "name": "python3"
  },
  "language_info": {
   "codemirror_mode": {
    "name": "ipython",
    "version": 3
   },
   "file_extension": ".py",
   "mimetype": "text/x-python",
   "name": "python",
   "nbconvert_exporter": "python",
   "pygments_lexer": "ipython3",
   "version": "3.8.8"
  }
 },
 "nbformat": 4,
 "nbformat_minor": 1
}
